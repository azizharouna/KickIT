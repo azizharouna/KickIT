{
 "cells": [
  {
   "cell_type": "markdown",
   "metadata": {
    "id": "sB3LEqlRVdUz"
   },
   "source": [
    "# KickIT \n",
    "\n"
   ]
  },
  {
   "cell_type": "code",
   "execution_count": 297,
   "metadata": {
    "id": "0QjBPbvEXWOR"
   },
   "outputs": [],
   "source": [
    "# Importing the dataFrame libraries\n",
    "# to save the model\n",
    "import pickle\n",
    "import numpy as np\n",
    "import pandas as pd\n",
    "#Importing the visualization libraries \n",
    "import matplotlib.pyplot as plt\n",
    "import seaborn as sns\n",
    "#sns.set()\n",
    "#For feature scaling  standardScaler module.\n",
    "from sklearn.preprocessing import StandardScaler\n",
    "from sklearn.pipeline import make_pipeline\n",
    "from sklearn.model_selection import GridSearchCV\n",
    "from sklearn.pipeline import Pipeline\n",
    "from sklearn.tree import DecisionTreeClassifier\n",
    "from sklearn.ensemble import RandomForestClassifier\n",
    "from sklearn.model_selection import train_test_split\n",
    "from sklearn.decomposition import PCA\n"
   ]
  },
  {
   "cell_type": "markdown",
   "metadata": {
    "id": "wLYzd1rgYE9i"
   },
   "source": [
    "# Reading the Data"
   ]
  },
  {
   "cell_type": "code",
   "execution_count": 298,
   "metadata": {
    "id": "W-uRr2YOYAo7"
   },
   "outputs": [],
   "source": [
    "# Downlaoding the data from the source writing and saved it as a Raw dataframe \n",
    "df_raw = pd.read_csv('https://www.openml.org/data/get_csv/19335679/kick.arff')"
   ]
  },
  {
   "cell_type": "code",
   "execution_count": 318,
   "metadata": {},
   "outputs": [],
   "source": [
    "# Copy the raw file for  the preprocessing step, because the download take some time \n",
    "df_prep = df_raw.copy()"
   ]
  },
  {
   "cell_type": "code",
   "execution_count": 319,
   "metadata": {
    "colab": {
     "base_uri": "https://localhost:8080/",
     "height": 713
    },
    "id": "9eIx_eoYYQ5e",
    "outputId": "8425b324-1db4-481c-918a-3f0f77c6e05d"
   },
   "outputs": [
    {
     "data": {
      "text/html": [
       "<div>\n",
       "<style scoped>\n",
       "    .dataframe tbody tr th:only-of-type {\n",
       "        vertical-align: middle;\n",
       "    }\n",
       "\n",
       "    .dataframe tbody tr th {\n",
       "        vertical-align: top;\n",
       "    }\n",
       "\n",
       "    .dataframe thead th {\n",
       "        text-align: right;\n",
       "    }\n",
       "</style>\n",
       "<table border=\"1\" class=\"dataframe\">\n",
       "  <thead>\n",
       "    <tr style=\"text-align: right;\">\n",
       "      <th></th>\n",
       "      <th>IsBadBuy</th>\n",
       "      <th>PurchDate</th>\n",
       "      <th>Auction</th>\n",
       "      <th>VehYear</th>\n",
       "      <th>VehicleAge</th>\n",
       "      <th>Make</th>\n",
       "      <th>Model</th>\n",
       "      <th>Trim</th>\n",
       "      <th>SubModel</th>\n",
       "      <th>Color</th>\n",
       "      <th>...</th>\n",
       "      <th>MMRCurrentRetailAveragePrice</th>\n",
       "      <th>MMRCurrentRetailCleanPrice</th>\n",
       "      <th>PRIMEUNIT</th>\n",
       "      <th>AUCGUART</th>\n",
       "      <th>BYRNO</th>\n",
       "      <th>VNZIP1</th>\n",
       "      <th>VNST</th>\n",
       "      <th>VehBCost</th>\n",
       "      <th>IsOnlineSale</th>\n",
       "      <th>WarrantyCost</th>\n",
       "    </tr>\n",
       "  </thead>\n",
       "  <tbody>\n",
       "    <tr>\n",
       "      <th>0</th>\n",
       "      <td>0</td>\n",
       "      <td>1260144000</td>\n",
       "      <td>ADESA</td>\n",
       "      <td>2006</td>\n",
       "      <td>3</td>\n",
       "      <td>MAZDA</td>\n",
       "      <td>MAZDA3</td>\n",
       "      <td>i</td>\n",
       "      <td>4D SEDAN I</td>\n",
       "      <td>RED</td>\n",
       "      <td>...</td>\n",
       "      <td>11597</td>\n",
       "      <td>12409</td>\n",
       "      <td>?</td>\n",
       "      <td>?</td>\n",
       "      <td>21973</td>\n",
       "      <td>33619</td>\n",
       "      <td>FL</td>\n",
       "      <td>7100</td>\n",
       "      <td>0</td>\n",
       "      <td>1113</td>\n",
       "    </tr>\n",
       "    <tr>\n",
       "      <th>1</th>\n",
       "      <td>0</td>\n",
       "      <td>1260144000</td>\n",
       "      <td>ADESA</td>\n",
       "      <td>2004</td>\n",
       "      <td>5</td>\n",
       "      <td>DODGE</td>\n",
       "      <td>1500 RAM PICKUP 2WD</td>\n",
       "      <td>ST</td>\n",
       "      <td>QUAD CAB 4.7L SLT</td>\n",
       "      <td>WHITE</td>\n",
       "      <td>...</td>\n",
       "      <td>11374</td>\n",
       "      <td>12791</td>\n",
       "      <td>?</td>\n",
       "      <td>?</td>\n",
       "      <td>19638</td>\n",
       "      <td>33619</td>\n",
       "      <td>FL</td>\n",
       "      <td>7600</td>\n",
       "      <td>0</td>\n",
       "      <td>1053</td>\n",
       "    </tr>\n",
       "    <tr>\n",
       "      <th>2</th>\n",
       "      <td>0</td>\n",
       "      <td>1260144000</td>\n",
       "      <td>ADESA</td>\n",
       "      <td>2005</td>\n",
       "      <td>4</td>\n",
       "      <td>DODGE</td>\n",
       "      <td>STRATUS V6</td>\n",
       "      <td>SXT</td>\n",
       "      <td>4D SEDAN SXT FFV</td>\n",
       "      <td>MAROON</td>\n",
       "      <td>...</td>\n",
       "      <td>7146</td>\n",
       "      <td>8702</td>\n",
       "      <td>?</td>\n",
       "      <td>?</td>\n",
       "      <td>19638</td>\n",
       "      <td>33619</td>\n",
       "      <td>FL</td>\n",
       "      <td>4900</td>\n",
       "      <td>0</td>\n",
       "      <td>1389</td>\n",
       "    </tr>\n",
       "    <tr>\n",
       "      <th>3</th>\n",
       "      <td>0</td>\n",
       "      <td>1260144000</td>\n",
       "      <td>ADESA</td>\n",
       "      <td>2004</td>\n",
       "      <td>5</td>\n",
       "      <td>DODGE</td>\n",
       "      <td>NEON</td>\n",
       "      <td>SXT</td>\n",
       "      <td>4D SEDAN</td>\n",
       "      <td>SILVER</td>\n",
       "      <td>...</td>\n",
       "      <td>4375</td>\n",
       "      <td>5518</td>\n",
       "      <td>?</td>\n",
       "      <td>?</td>\n",
       "      <td>19638</td>\n",
       "      <td>33619</td>\n",
       "      <td>FL</td>\n",
       "      <td>4100</td>\n",
       "      <td>0</td>\n",
       "      <td>630</td>\n",
       "    </tr>\n",
       "    <tr>\n",
       "      <th>4</th>\n",
       "      <td>0</td>\n",
       "      <td>1260144000</td>\n",
       "      <td>ADESA</td>\n",
       "      <td>2005</td>\n",
       "      <td>4</td>\n",
       "      <td>FORD</td>\n",
       "      <td>FOCUS</td>\n",
       "      <td>ZX3</td>\n",
       "      <td>2D COUPE ZX3</td>\n",
       "      <td>SILVER</td>\n",
       "      <td>...</td>\n",
       "      <td>6739</td>\n",
       "      <td>7911</td>\n",
       "      <td>?</td>\n",
       "      <td>?</td>\n",
       "      <td>19638</td>\n",
       "      <td>33619</td>\n",
       "      <td>FL</td>\n",
       "      <td>4000</td>\n",
       "      <td>0</td>\n",
       "      <td>1020</td>\n",
       "    </tr>\n",
       "  </tbody>\n",
       "</table>\n",
       "<p>5 rows × 33 columns</p>\n",
       "</div>"
      ],
      "text/plain": [
       "   IsBadBuy   PurchDate Auction  VehYear  VehicleAge   Make  \\\n",
       "0         0  1260144000   ADESA     2006           3  MAZDA   \n",
       "1         0  1260144000   ADESA     2004           5  DODGE   \n",
       "2         0  1260144000   ADESA     2005           4  DODGE   \n",
       "3         0  1260144000   ADESA     2004           5  DODGE   \n",
       "4         0  1260144000   ADESA     2005           4   FORD   \n",
       "\n",
       "                 Model Trim           SubModel   Color  ...  \\\n",
       "0               MAZDA3    i         4D SEDAN I     RED  ...   \n",
       "1  1500 RAM PICKUP 2WD   ST  QUAD CAB 4.7L SLT   WHITE  ...   \n",
       "2           STRATUS V6  SXT   4D SEDAN SXT FFV  MAROON  ...   \n",
       "3                 NEON  SXT           4D SEDAN  SILVER  ...   \n",
       "4                FOCUS  ZX3       2D COUPE ZX3  SILVER  ...   \n",
       "\n",
       "  MMRCurrentRetailAveragePrice MMRCurrentRetailCleanPrice PRIMEUNIT  AUCGUART  \\\n",
       "0                        11597                      12409         ?         ?   \n",
       "1                        11374                      12791         ?         ?   \n",
       "2                         7146                       8702         ?         ?   \n",
       "3                         4375                       5518         ?         ?   \n",
       "4                         6739                       7911         ?         ?   \n",
       "\n",
       "   BYRNO VNZIP1 VNST VehBCost IsOnlineSale WarrantyCost  \n",
       "0  21973  33619   FL     7100            0         1113  \n",
       "1  19638  33619   FL     7600            0         1053  \n",
       "2  19638  33619   FL     4900            0         1389  \n",
       "3  19638  33619   FL     4100            0          630  \n",
       "4  19638  33619   FL     4000            0         1020  \n",
       "\n",
       "[5 rows x 33 columns]"
      ]
     },
     "execution_count": 319,
     "metadata": {},
     "output_type": "execute_result"
    }
   ],
   "source": [
    "#Printing the dataframe\n",
    "df_prep.head(5)"
   ]
  },
  {
   "cell_type": "code",
   "execution_count": 320,
   "metadata": {},
   "outputs": [
    {
     "name": "stdout",
     "output_type": "stream",
     "text": [
      "<class 'pandas.core.frame.DataFrame'>\n",
      "RangeIndex: 72983 entries, 0 to 72982\n",
      "Data columns (total 33 columns):\n",
      " #   Column                             Non-Null Count  Dtype \n",
      "---  ------                             --------------  ----- \n",
      " 0   IsBadBuy                           72983 non-null  int64 \n",
      " 1   PurchDate                          72983 non-null  int64 \n",
      " 2   Auction                            72983 non-null  object\n",
      " 3   VehYear                            72983 non-null  int64 \n",
      " 4   VehicleAge                         72983 non-null  int64 \n",
      " 5   Make                               72983 non-null  object\n",
      " 6   Model                              72983 non-null  object\n",
      " 7   Trim                               72983 non-null  object\n",
      " 8   SubModel                           72983 non-null  object\n",
      " 9   Color                              72983 non-null  object\n",
      " 10  Transmission                       72983 non-null  object\n",
      " 11  WheelTypeID                        72983 non-null  object\n",
      " 12  WheelType                          72983 non-null  object\n",
      " 13  VehOdo                             72983 non-null  int64 \n",
      " 14  Nationality                        72983 non-null  object\n",
      " 15  Size                               72983 non-null  object\n",
      " 16  TopThreeAmericanName               72983 non-null  object\n",
      " 17  MMRAcquisitionAuctionAveragePrice  72983 non-null  object\n",
      " 18  MMRAcquisitionAuctionCleanPrice    72983 non-null  object\n",
      " 19  MMRAcquisitionRetailAveragePrice   72983 non-null  object\n",
      " 20  MMRAcquisitonRetailCleanPrice      72983 non-null  object\n",
      " 21  MMRCurrentAuctionAveragePrice      72983 non-null  object\n",
      " 22  MMRCurrentAuctionCleanPrice        72983 non-null  object\n",
      " 23  MMRCurrentRetailAveragePrice       72983 non-null  object\n",
      " 24  MMRCurrentRetailCleanPrice         72983 non-null  object\n",
      " 25  PRIMEUNIT                          72983 non-null  object\n",
      " 26  AUCGUART                           72983 non-null  object\n",
      " 27  BYRNO                              72983 non-null  int64 \n",
      " 28  VNZIP1                             72983 non-null  int64 \n",
      " 29  VNST                               72983 non-null  object\n",
      " 30  VehBCost                           72983 non-null  object\n",
      " 31  IsOnlineSale                       72983 non-null  int64 \n",
      " 32  WarrantyCost                       72983 non-null  int64 \n",
      "dtypes: int64(9), object(24)\n",
      "memory usage: 18.4+ MB\n"
     ]
    }
   ],
   "source": [
    "# Seing information about the dataframe schema\n",
    "df_prep.info()"
   ]
  },
  {
   "cell_type": "markdown",
   "metadata": {},
   "source": [
    "# Preprocessing the Data"
   ]
  },
  {
   "cell_type": "markdown",
   "metadata": {},
   "source": [
    "# Dealing with missing values"
   ]
  },
  {
   "cell_type": "markdown",
   "metadata": {},
   "source": [
    "### Checking  null values"
   ]
  },
  {
   "cell_type": "code",
   "execution_count": 321,
   "metadata": {},
   "outputs": [
    {
     "data": {
      "text/plain": [
       "0"
      ]
     },
     "execution_count": 321,
     "metadata": {},
     "output_type": "execute_result"
    }
   ],
   "source": [
    "# Checking for null values \n",
    "df_prep.isnull().sum().sum()"
   ]
  },
  {
   "cell_type": "code",
   "execution_count": 322,
   "metadata": {},
   "outputs": [
    {
     "name": "stdout",
     "output_type": "stream",
     "text": [
      "The dataframe has 72983 , and there seems to be 0 null values \n",
      "\n"
     ]
    }
   ],
   "source": [
    "# printing a message \n",
    "print(f\"The dataframe has {df_prep.shape[0]} , and there seems to be {df_prep.isnull().sum().sum()} null values \\n\")"
   ]
  },
  {
   "cell_type": "markdown",
   "metadata": {},
   "source": [
    "When looking closely to the dataset '?' seems to replace null values. We have to revert this In order to see the real states of null values in this data"
   ]
  },
  {
   "cell_type": "markdown",
   "metadata": {},
   "source": [
    "### Replacing the  '?'   by Null and counting again the nulls values."
   ]
  },
  {
   "cell_type": "code",
   "execution_count": 323,
   "metadata": {},
   "outputs": [
    {
     "name": "stdout",
     "output_type": "stream",
     "text": [
      " after replacing '?' by null  there is  149271 null values \n",
      "\n"
     ]
    }
   ],
   "source": [
    "df_prep= df_prep.replace(['?'], np.nan )\n",
    "# Saving the count  null values for future call\n",
    "null_count = df_prep.isnull().sum().sum()\n",
    "print(f\" after replacing '?' by null  there is  {null_count} null values \\n\")"
   ]
  },
  {
   "cell_type": "markdown",
   "metadata": {},
   "source": [
    "### Laying down the strategy  With this large  number of nulls"
   ]
  },
  {
   "cell_type": "markdown",
   "metadata": {},
   "source": [
    "The objective is to keep as many sample as we can by optimizing the lost by missing value: Scan by column and dropping columns that has missing value that passed a preset threshold (here more than 10% of the entire column). Also choosing column that are not relevant to the scope of this project.\n",
    "Finally we will scan also per threshold for the row contents that have not enough filled informations.\n",
    "  \n",
    "\n",
    " "
   ]
  },
  {
   "cell_type": "code",
   "execution_count": 324,
   "metadata": {},
   "outputs": [
    {
     "name": "stdout",
     "output_type": "stream",
     "text": [
      " the column PRIMEUNIT has 95 % of Null values\n",
      " the column AUCGUART has 95 % of Null values\n",
      " We will drop['PRIMEUNIT', 'AUCGUART'] as they have no enough filled informations\n"
     ]
    }
   ],
   "source": [
    "# find  features column a  that has more than 10 percent of Null the values \n",
    "# creating an empty list that will receive the found columns \n",
    "findings =[]\n",
    "for col in df_prep.columns:\n",
    "    ratio = int(100*((df_prep[col].isna().sum())/df_prep.shape[0]))\n",
    "    if ratio > 10:\n",
    "        findings.append(col)\n",
    "        print(f\" the column {col} has {ratio} % of Null values\")\n",
    "    else : \n",
    "        pass\n",
    "print(f\" We will drop{findings} as they have no enough filled informations\")"
   ]
  },
  {
   "cell_type": "code",
   "execution_count": 325,
   "metadata": {},
   "outputs": [
    {
     "name": "stdout",
     "output_type": "stream",
     "text": [
      "here is the list of columns to be dropped ['PurchDate', 'VehYear', 'WheelTypeID', 'BYRNO', 'VNZIP1', 'VehBCost', 'PRIMEUNIT', 'AUCGUART']\n"
     ]
    }
   ],
   "source": [
    "# Making a list of columns to drop\n",
    "drop_list = ['PurchDate','VehYear','WheelTypeID','BYRNO','VNZIP1','VehBCost']\n",
    "# adding our findings per columns\n",
    "drop_list += findings\n",
    "print(f\"here is the list of columns to be dropped {drop_list}\")\n"
   ]
  },
  {
   "cell_type": "code",
   "execution_count": 326,
   "metadata": {},
   "outputs": [],
   "source": [
    "# let's drop the identified columns \n",
    "df_prep = df_prep.drop(drop_list, axis = 1)\n",
    "# let's save sample size  after this proccess for later call\n",
    "sample_size_after_col_drop = df_prep.shape[0]"
   ]
  },
  {
   "cell_type": "code",
   "execution_count": 327,
   "metadata": {},
   "outputs": [
    {
     "name": "stdout",
     "output_type": "stream",
     "text": [
      " We went from 149271 null values to 6906 \n",
      " We have reduced the missing values by 142365 (equivalent to 95 % ) of  missing values \n",
      " just by dropping the unnecessary columns.\n",
      " The sample size remains 72983\n"
     ]
    }
   ],
   "source": [
    "# Let's verify how much null values we have and for how much we reduced it \n",
    "null_after_columns_dropped = df_prep.isnull().sum().sum()\n",
    "reduction_in_null_values = null_count - null_after_columns_dropped\n",
    "print(f\" We went from {null_count} null values to {null_after_columns_dropped} \\n \\\n",
    "We have reduced the missing values by {reduction_in_null_values} \\\n",
    "(equivalent to {(int(100* (reduction_in_null_values/null_count)))} % ) \\\n",
    "of  missing values \\n just by dropping the unnecessary columns.\\n \\\n",
    "The sample size remains {sample_size_after_col_drop}\")"
   ]
  },
  {
   "cell_type": "markdown",
   "metadata": {},
   "source": [
    "Let's do the same \"scan & drop\" by row "
   ]
  },
  {
   "cell_type": "code",
   "execution_count": 328,
   "metadata": {},
   "outputs": [
    {
     "name": "stdout",
     "output_type": "stream",
     "text": [
      "324 sample that don't follow the rule  have to be removed\n"
     ]
    }
   ],
   "source": [
    "# find  sample that has more than 10 percent of Null the values in their column line \n",
    "\n",
    "row_list =[]\n",
    "# for every sample in the sample size\n",
    "for datum in range(df_prep.shape[0]):\n",
    "  # find the sum of null value in the row\n",
    "  row_ratio = df_prep.iloc[[datum]].isna().sum().sum()\n",
    "  # calculates the percentage of missing values regarding the number of features\n",
    "  ratio = 100*(row_ratio)/df_prep.shape[1]\n",
    "  # When this percentage exceed 10 % \n",
    "  if ratio > 10:\n",
    "        # Add this row index to row_list\n",
    "        row_list.append(datum)\n",
    "else : \n",
    "        pass\n",
    "\n",
    "# print the count of sample to be removed \n",
    "print(f\"{len(row_list)} sample that don't follow the rule  have to be removed\" )"
   ]
  },
  {
   "cell_type": "code",
   "execution_count": 329,
   "metadata": {},
   "outputs": [],
   "source": [
    "# Saving the count of sample before removal\n",
    "nbr_sample = df_prep.shape[0]\n",
    "# removing the samples that don't follow the rule\n",
    "df_prep = df_prep.drop(index=row_list,axis= 0)\n",
    "# counting the number of rows after removing the sample\n",
    "nbr_sample_after_removal = df_prep.shape[0]"
   ]
  },
  {
   "cell_type": "code",
   "execution_count": 330,
   "metadata": {},
   "outputs": [],
   "source": [
    "df_prep.index = range(len(df_prep.index))"
   ]
  },
  {
   "cell_type": "code",
   "execution_count": 331,
   "metadata": {},
   "outputs": [],
   "source": [
    "null_after_row_drop = df_prep.isnull().sum().sum()"
   ]
  },
  {
   "cell_type": "code",
   "execution_count": 332,
   "metadata": {},
   "outputs": [
    {
     "name": "stdout",
     "output_type": "stream",
     "text": [
      "We went from 6906  null values to 5522 \n",
      " We have reduced the missing values by 1384. Total reduction of null is 143749 (equivalent to  96 % ) of  missing values \n",
      " just by dropping the unnecessary columnsand rows.\n",
      " The sample size  is 72659, it was 72983\n"
     ]
    }
   ],
   "source": [
    "print(f\"We went from {null_after_columns_dropped}  null values to {null_after_row_drop } \\n \\\n",
    "We have reduced the missing values by {null_after_columns_dropped - null_after_row_drop}. \\\n",
    "Total reduction of null is {null_after_columns_dropped - null_after_row_drop +reduction_in_null_values } \\\n",
    "(equivalent to \\\n",
    " {(int(100* ((null_after_columns_dropped - null_after_row_drop +reduction_in_null_values )/null_count)))} % ) \\\n",
    "of  missing values \\n just by dropping the unnecessary columnsand rows.\\n \\\n",
    "The sample size  is {nbr_sample_after_removal}, it was {nbr_sample}\" )"
   ]
  },
  {
   "cell_type": "code",
   "execution_count": 333,
   "metadata": {},
   "outputs": [
    {
     "name": "stdout",
     "output_type": "stream",
     "text": [
      " The dataframe has 72659 sample and  we have  8943 kicks in  total in the present dataframe. \n",
      " we have 2510 kicks in the null that are in the  present dataframe. \n",
      " If I delete the nulls rows I  will loose 28 %  of kick  labeled sample \n"
     ]
    }
   ],
   "source": [
    "# let's  see how many sample are now affected by null values\n",
    "temp_df = df_prep[df_prep.isnull().any(axis = 1)]\n",
    "# how many kicks  do we have in those missing values\n",
    "kicks_in_null = temp_df['IsBadBuy'].sum()\n",
    "# how many kicks do we have in the total dataset\n",
    "kicks_in_dataframe = df_prep['IsBadBuy'].sum()\n",
    "\n",
    "print(f\" The dataframe has {nbr_sample_after_removal} sample and  we have  {kicks_in_dataframe} kicks in  total in the present dataframe. \\n \\\n",
    "we have {kicks_in_null} kicks in the null that are in the  present dataframe. \\n \\\n",
    "If I delete the nulls rows I  will loose {int(100*(kicks_in_null/kicks_in_dataframe))} %  of kick  labeled sample \")\n"
   ]
  },
  {
   "cell_type": "markdown",
   "metadata": {},
   "source": [
    "The data is clearly unbalanced. As I will have to decide on how to deal with that, in advance,  instead of droping the nulls, I decide to go for imputing stragie at this stage  and downsample at a later stage . "
   ]
  },
  {
   "cell_type": "markdown",
   "metadata": {},
   "source": [
    "### Imputing value to null rows\n",
    " let's see which column is affected by the nulls values "
   ]
  },
  {
   "cell_type": "code",
   "execution_count": 334,
   "metadata": {},
   "outputs": [
    {
     "data": {
      "text/plain": [
       "IsBadBuy                                0\n",
       "Auction                                 0\n",
       "VehicleAge                              0\n",
       "Make                                    0\n",
       "Model                                   0\n",
       "Trim                                 2357\n",
       "SubModel                                0\n",
       "Color                                   0\n",
       "Transmission                            1\n",
       "WheelType                            3164\n",
       "VehOdo                                  0\n",
       "Nationality                             0\n",
       "Size                                    0\n",
       "TopThreeAmericanName                    0\n",
       "MMRAcquisitionAuctionAveragePrice       0\n",
       "MMRAcquisitionAuctionCleanPrice         0\n",
       "MMRAcquisitionRetailAveragePrice        0\n",
       "MMRAcquisitonRetailCleanPrice           0\n",
       "MMRCurrentAuctionAveragePrice           0\n",
       "MMRCurrentAuctionCleanPrice             0\n",
       "MMRCurrentRetailAveragePrice            0\n",
       "MMRCurrentRetailCleanPrice              0\n",
       "VNST                                    0\n",
       "IsOnlineSale                            0\n",
       "WarrantyCost                            0\n",
       "dtype: int64"
      ]
     },
     "execution_count": 334,
     "metadata": {},
     "output_type": "execute_result"
    }
   ],
   "source": [
    "df_prep.isnull().sum()"
   ]
  },
  {
   "cell_type": "code",
   "execution_count": 335,
   "metadata": {},
   "outputs": [
    {
     "data": {
      "text/plain": [
       "Trim            2357\n",
       "Transmission       1\n",
       "WheelType       3164\n",
       "dtype: int64"
      ]
     },
     "execution_count": 335,
     "metadata": {},
     "output_type": "execute_result"
    }
   ],
   "source": [
    "# let's filter thoses columns\n",
    "null_counts = df_prep.isnull().sum()\n",
    "null_counts[null_counts > 0]"
   ]
  },
  {
   "cell_type": "code",
   "execution_count": 336,
   "metadata": {},
   "outputs": [
    {
     "data": {
      "text/html": [
       "<div>\n",
       "<style scoped>\n",
       "    .dataframe tbody tr th:only-of-type {\n",
       "        vertical-align: middle;\n",
       "    }\n",
       "\n",
       "    .dataframe tbody tr th {\n",
       "        vertical-align: top;\n",
       "    }\n",
       "\n",
       "    .dataframe thead th {\n",
       "        text-align: right;\n",
       "    }\n",
       "</style>\n",
       "<table border=\"1\" class=\"dataframe\">\n",
       "  <thead>\n",
       "    <tr style=\"text-align: right;\">\n",
       "      <th></th>\n",
       "      <th>Trim</th>\n",
       "      <th>Transmission</th>\n",
       "      <th>WheelType</th>\n",
       "    </tr>\n",
       "  </thead>\n",
       "  <tbody>\n",
       "    <tr>\n",
       "      <th>0</th>\n",
       "      <td>i</td>\n",
       "      <td>AUTO</td>\n",
       "      <td>Alloy</td>\n",
       "    </tr>\n",
       "    <tr>\n",
       "      <th>1</th>\n",
       "      <td>ST</td>\n",
       "      <td>AUTO</td>\n",
       "      <td>Alloy</td>\n",
       "    </tr>\n",
       "    <tr>\n",
       "      <th>2</th>\n",
       "      <td>SXT</td>\n",
       "      <td>AUTO</td>\n",
       "      <td>Covers</td>\n",
       "    </tr>\n",
       "    <tr>\n",
       "      <th>3</th>\n",
       "      <td>SXT</td>\n",
       "      <td>AUTO</td>\n",
       "      <td>Alloy</td>\n",
       "    </tr>\n",
       "    <tr>\n",
       "      <th>4</th>\n",
       "      <td>ZX3</td>\n",
       "      <td>MANUAL</td>\n",
       "      <td>Covers</td>\n",
       "    </tr>\n",
       "    <tr>\n",
       "      <th>5</th>\n",
       "      <td>ES</td>\n",
       "      <td>AUTO</td>\n",
       "      <td>Covers</td>\n",
       "    </tr>\n",
       "    <tr>\n",
       "      <th>6</th>\n",
       "      <td>EX</td>\n",
       "      <td>AUTO</td>\n",
       "      <td>Covers</td>\n",
       "    </tr>\n",
       "    <tr>\n",
       "      <th>7</th>\n",
       "      <td>SE</td>\n",
       "      <td>AUTO</td>\n",
       "      <td>Covers</td>\n",
       "    </tr>\n",
       "    <tr>\n",
       "      <th>8</th>\n",
       "      <td>EX</td>\n",
       "      <td>AUTO</td>\n",
       "      <td>Covers</td>\n",
       "    </tr>\n",
       "    <tr>\n",
       "      <th>9</th>\n",
       "      <td>SEL</td>\n",
       "      <td>AUTO</td>\n",
       "      <td>Alloy</td>\n",
       "    </tr>\n",
       "  </tbody>\n",
       "</table>\n",
       "</div>"
      ],
      "text/plain": [
       "  Trim Transmission WheelType\n",
       "0    i         AUTO     Alloy\n",
       "1   ST         AUTO     Alloy\n",
       "2  SXT         AUTO    Covers\n",
       "3  SXT         AUTO     Alloy\n",
       "4  ZX3       MANUAL    Covers\n",
       "5   ES         AUTO    Covers\n",
       "6   EX         AUTO    Covers\n",
       "7   SE         AUTO    Covers\n",
       "8   EX         AUTO    Covers\n",
       "9  SEL         AUTO     Alloy"
      ]
     },
     "execution_count": 336,
     "metadata": {},
     "output_type": "execute_result"
    }
   ],
   "source": [
    "# let's see thoses columns\n",
    "df_prep[['Trim','Transmission','WheelType']].head(10)"
   ]
  },
  {
   "cell_type": "markdown",
   "metadata": {},
   "source": [
    "The imputing strategy here would be to set the nulls for 'Trim','Transmission','WheelType' to their mode ( most frequent input of the coulumn). . "
   ]
  },
  {
   "cell_type": "code",
   "execution_count": 337,
   "metadata": {},
   "outputs": [],
   "source": [
    "# let's do it for the categorical variables list\n",
    "# seting the list of column\n",
    "catList = ['Trim','Transmission','WheelType']\n",
    "# looping for the imputing strategy for each column\n",
    "for cat in catList:\n",
    "    # replace each null value by the most frequent value\n",
    "    df_prep[cat]= df_prep[cat].replace( np.nan, df_prep[cat].mode )\n"
   ]
  },
  {
   "cell_type": "code",
   "execution_count": 338,
   "metadata": {},
   "outputs": [
    {
     "data": {
      "text/plain": [
       "RangeIndex(start=0, stop=72659, step=1)"
      ]
     },
     "execution_count": 338,
     "metadata": {},
     "output_type": "execute_result"
    }
   ],
   "source": [
    "#Checking the indexation\n",
    "df_prep.index"
   ]
  },
  {
   "cell_type": "code",
   "execution_count": 339,
   "metadata": {},
   "outputs": [
    {
     "data": {
      "text/plain": [
       "IsBadBuy                             0\n",
       "Auction                              0\n",
       "VehicleAge                           0\n",
       "Make                                 0\n",
       "Model                                0\n",
       "Trim                                 0\n",
       "SubModel                             0\n",
       "Color                                0\n",
       "Transmission                         0\n",
       "WheelType                            0\n",
       "VehOdo                               0\n",
       "Nationality                          0\n",
       "Size                                 0\n",
       "TopThreeAmericanName                 0\n",
       "MMRAcquisitionAuctionAveragePrice    0\n",
       "MMRAcquisitionAuctionCleanPrice      0\n",
       "MMRAcquisitionRetailAveragePrice     0\n",
       "MMRAcquisitonRetailCleanPrice        0\n",
       "MMRCurrentAuctionAveragePrice        0\n",
       "MMRCurrentAuctionCleanPrice          0\n",
       "MMRCurrentRetailAveragePrice         0\n",
       "MMRCurrentRetailCleanPrice           0\n",
       "VNST                                 0\n",
       "IsOnlineSale                         0\n",
       "WarrantyCost                         0\n",
       "dtype: int64"
      ]
     },
     "execution_count": 339,
     "metadata": {},
     "output_type": "execute_result"
    }
   ],
   "source": [
    "# final_check\n",
    "df_prep.isnull().sum()\n"
   ]
  },
  {
   "cell_type": "markdown",
   "metadata": {},
   "source": [
    "# Balancing the dataset"
   ]
  },
  {
   "cell_type": "code",
   "execution_count": 340,
   "metadata": {},
   "outputs": [],
   "source": [
    "# Count how many targets are 1 (meaning that the car is a kick)\n",
    "num_one_targets = df_prep['IsBadBuy'].sum()\n",
    "# Set a counter for targets that are 0 (meaning that the customer did not convert)\n",
    "zero_targets_counter = 0\n",
    "row_list2 =[]\n",
    "# We want to create a \"balanced\" dataset, so we will have to remove some input/target pairs\n",
    "\n",
    "for i in df_prep.index.astype('int64'):\n",
    "    if (df_prep.loc[i,'IsBadBuy']) == 0:\n",
    "        zero_targets_counter += 1\n",
    "        if zero_targets_counter > num_one_targets:\n",
    "            row_list2.append(i)\n",
    "df_prep = df_prep.drop(index=row_list2,axis= 0)\n",
    "#resetting the index\n",
    "df_prep.index = range(len(df_prep.index))"
   ]
  },
  {
   "cell_type": "code",
   "execution_count": 341,
   "metadata": {},
   "outputs": [],
   "source": [
    "# Setting the the new name of the balanced dataset\n",
    "df_prep_balanced = df_prep"
   ]
  },
  {
   "cell_type": "markdown",
   "metadata": {},
   "source": [
    "## Dealing with data types"
   ]
  },
  {
   "cell_type": "markdown",
   "metadata": {},
   "source": []
  },
  {
   "cell_type": "code",
   "execution_count": 342,
   "metadata": {},
   "outputs": [
    {
     "data": {
      "text/plain": [
       "RangeIndex(start=0, stop=17886, step=1)"
      ]
     },
     "execution_count": 342,
     "metadata": {},
     "output_type": "execute_result"
    }
   ],
   "source": [
    "df_prep_balanced.index "
   ]
  },
  {
   "cell_type": "code",
   "execution_count": 343,
   "metadata": {},
   "outputs": [
    {
     "data": {
      "text/plain": [
       "IsBadBuy                              int64\n",
       "Auction                              object\n",
       "VehicleAge                            int64\n",
       "Make                                 object\n",
       "Model                                object\n",
       "Trim                                 object\n",
       "SubModel                             object\n",
       "Color                                object\n",
       "Transmission                         object\n",
       "WheelType                            object\n",
       "VehOdo                                int64\n",
       "Nationality                          object\n",
       "Size                                 object\n",
       "TopThreeAmericanName                 object\n",
       "MMRAcquisitionAuctionAveragePrice    object\n",
       "MMRAcquisitionAuctionCleanPrice      object\n",
       "MMRAcquisitionRetailAveragePrice     object\n",
       "MMRAcquisitonRetailCleanPrice        object\n",
       "MMRCurrentAuctionAveragePrice        object\n",
       "MMRCurrentAuctionCleanPrice          object\n",
       "MMRCurrentRetailAveragePrice         object\n",
       "MMRCurrentRetailCleanPrice           object\n",
       "VNST                                 object\n",
       "IsOnlineSale                          int64\n",
       "WarrantyCost                          int64\n",
       "dtype: object"
      ]
     },
     "execution_count": 343,
     "metadata": {},
     "output_type": "execute_result"
    }
   ],
   "source": [
    "df_prep_balanced.dtypes"
   ]
  },
  {
   "cell_type": "code",
   "execution_count": 344,
   "metadata": {},
   "outputs": [],
   "source": [
    "# converting the categorical columns to string \n",
    "catCols =['Auction','Make','Model', 'Trim','SubModel','Color','Transmission','Nationality','Size','TopThreeAmericanName','VNST']\n",
    "for col in catCols:\n",
    "      df_prep_balanced[col] = df_prep_balanced[col].astype(str)\n",
    "# converting to double the list of double type compatible coulumns\n",
    "num_double = ['MMRAcquisitionAuctionAveragePrice', 'MMRAcquisitionAuctionCleanPrice',\n",
    "       'MMRAcquisitionRetailAveragePrice', 'MMRAcquisitonRetailCleanPrice',\n",
    "       'MMRCurrentAuctionAveragePrice', 'MMRCurrentAuctionCleanPrice',\n",
    "       'MMRCurrentRetailAveragePrice', 'MMRCurrentRetailCleanPrice','WarrantyCost']\n",
    "for col in num_double:\n",
    "     df_prep_balanced[col] = df_prep_balanced[col].astype('int64')\n",
    "     \n"
   ]
  },
  {
   "cell_type": "markdown",
   "metadata": {},
   "source": []
  },
  {
   "cell_type": "code",
   "execution_count": 345,
   "metadata": {},
   "outputs": [
    {
     "data": {
      "text/plain": [
       "IsBadBuy                              int64\n",
       "Auction                              object\n",
       "VehicleAge                            int64\n",
       "Make                                 object\n",
       "Model                                object\n",
       "Trim                                 object\n",
       "SubModel                             object\n",
       "Color                                object\n",
       "Transmission                         object\n",
       "WheelType                            object\n",
       "VehOdo                                int64\n",
       "Nationality                          object\n",
       "Size                                 object\n",
       "TopThreeAmericanName                 object\n",
       "MMRAcquisitionAuctionAveragePrice     int64\n",
       "MMRAcquisitionAuctionCleanPrice       int64\n",
       "MMRAcquisitionRetailAveragePrice      int64\n",
       "MMRAcquisitonRetailCleanPrice         int64\n",
       "MMRCurrentAuctionAveragePrice         int64\n",
       "MMRCurrentAuctionCleanPrice           int64\n",
       "MMRCurrentRetailAveragePrice          int64\n",
       "MMRCurrentRetailCleanPrice            int64\n",
       "VNST                                 object\n",
       "IsOnlineSale                          int64\n",
       "WarrantyCost                          int64\n",
       "dtype: object"
      ]
     },
     "execution_count": 345,
     "metadata": {},
     "output_type": "execute_result"
    }
   ],
   "source": [
    "df_prep.dtypes"
   ]
  },
  {
   "cell_type": "markdown",
   "metadata": {},
   "source": []
  },
  {
   "cell_type": "markdown",
   "metadata": {},
   "source": [
    "# Dealing with the categorical variable"
   ]
  },
  {
   "cell_type": "code",
   "execution_count": 347,
   "metadata": {},
   "outputs": [
    {
     "name": "stdout",
     "output_type": "stream",
     "text": [
      "Auction :  3 labels\n",
      "Make :  31 labels\n",
      "Model :  861 labels\n",
      "Trim :  128 labels\n",
      "SubModel :  659 labels\n",
      "Color :  16 labels\n",
      "Transmission :  2 labels\n",
      "Nationality :  4 labels\n",
      "Size :  12 labels\n",
      "TopThreeAmericanName :  4 labels\n",
      "VNST :  36 labels\n"
     ]
    }
   ],
   "source": [
    "# let's have a look at how many labels\n",
    "catCols =['Auction','Make','Model', 'Trim','SubModel','Color','Transmission','Nationality','Size','TopThreeAmericanName','VNST']\n",
    "\n",
    "for col in df_prep_balanced[catCols]:\n",
    "              print(col, ': ', len(df_prep_balanced[col].unique()),'labels')"
   ]
  },
  {
   "cell_type": "code",
   "execution_count": 171,
   "metadata": {},
   "outputs": [],
   "source": [
    "df_prep = df_prep_balanced"
   ]
  },
  {
   "cell_type": "code",
   "execution_count": 348,
   "metadata": {},
   "outputs": [],
   "source": [
    "\n",
    "for col in df_prep_balanced[catCols]:\n",
    "    df_frequency_map = df_prep_balanced[col].value_counts().to_dict()\n",
    "    df_prep_balanced[col+'_encoded'] = df_prep_balanced[col].map(df_frequency_map) \n",
    "    \n"
   ]
  },
  {
   "cell_type": "code",
   "execution_count": 349,
   "metadata": {},
   "outputs": [
    {
     "data": {
      "text/plain": [
       "['Auction_encoded',\n",
       " 'Make_encoded',\n",
       " 'Model_encoded',\n",
       " 'Trim_encoded',\n",
       " 'SubModel_encoded',\n",
       " 'Color_encoded',\n",
       " 'Transmission_encoded',\n",
       " 'Nationality_encoded',\n",
       " 'Size_encoded',\n",
       " 'TopThreeAmericanName_encoded',\n",
       " 'VNST_encoded',\n",
       " 'MMRAcquisitionAuctionAveragePrice',\n",
       " 'MMRAcquisitionAuctionCleanPrice',\n",
       " 'MMRAcquisitionRetailAveragePrice',\n",
       " 'MMRAcquisitonRetailCleanPrice',\n",
       " 'MMRCurrentAuctionAveragePrice',\n",
       " 'MMRCurrentAuctionCleanPrice',\n",
       " 'MMRCurrentRetailAveragePrice',\n",
       " 'MMRCurrentRetailCleanPrice',\n",
       " 'WarrantyCost']"
      ]
     },
     "execution_count": 349,
     "metadata": {},
     "output_type": "execute_result"
    }
   ],
   "source": [
    "# Making a list for future call\n",
    "features = []\n",
    "for col in catCols:\n",
    "    # incrementing over the unecoded labels to create the encoded label name \n",
    "    features += [col+'_encoded']\n",
    "# adding the encoded labels to the numeric labels \n",
    "features = features + num_double\n",
    "features    "
   ]
  },
  {
   "cell_type": "code",
   "execution_count": 350,
   "metadata": {},
   "outputs": [],
   "source": [
    "from sklearn.preprocessing import StandardScaler\n",
    "scaler = StandardScaler()\n",
    "df1 = scaler.fit_transform(df_prep_balanced[features])\n"
   ]
  },
  {
   "cell_type": "code",
   "execution_count": 351,
   "metadata": {},
   "outputs": [],
   "source": [
    "final_dataset = df1"
   ]
  },
  {
   "cell_type": "code",
   "execution_count": 353,
   "metadata": {
    "scrolled": true
   },
   "outputs": [
    {
     "data": {
      "text/html": [
       "<div>\n",
       "<style scoped>\n",
       "    .dataframe tbody tr th:only-of-type {\n",
       "        vertical-align: middle;\n",
       "    }\n",
       "\n",
       "    .dataframe tbody tr th {\n",
       "        vertical-align: top;\n",
       "    }\n",
       "\n",
       "    .dataframe thead th {\n",
       "        text-align: right;\n",
       "    }\n",
       "</style>\n",
       "<table border=\"1\" class=\"dataframe\">\n",
       "  <thead>\n",
       "    <tr style=\"text-align: right;\">\n",
       "      <th></th>\n",
       "      <th>Auction_encoded</th>\n",
       "      <th>Make_encoded</th>\n",
       "      <th>Model_encoded</th>\n",
       "      <th>Trim_encoded</th>\n",
       "      <th>SubModel_encoded</th>\n",
       "      <th>Color_encoded</th>\n",
       "      <th>Transmission_encoded</th>\n",
       "      <th>Nationality_encoded</th>\n",
       "      <th>Size_encoded</th>\n",
       "      <th>TopThreeAmericanName_encoded</th>\n",
       "      <th>VNST_encoded</th>\n",
       "      <th>MMRAcquisitionAuctionAveragePrice</th>\n",
       "      <th>MMRAcquisitionAuctionCleanPrice</th>\n",
       "      <th>MMRAcquisitionRetailAveragePrice</th>\n",
       "      <th>MMRAcquisitonRetailCleanPrice</th>\n",
       "      <th>MMRCurrentAuctionAveragePrice</th>\n",
       "      <th>MMRCurrentAuctionCleanPrice</th>\n",
       "      <th>MMRCurrentRetailAveragePrice</th>\n",
       "      <th>MMRCurrentRetailCleanPrice</th>\n",
       "      <th>WarrantyCost</th>\n",
       "    </tr>\n",
       "  </thead>\n",
       "  <tbody>\n",
       "    <tr>\n",
       "      <th>Auction_encoded</th>\n",
       "      <td>1.000000</td>\n",
       "      <td>0.014409</td>\n",
       "      <td>-0.029507</td>\n",
       "      <td>-0.031536</td>\n",
       "      <td>-0.028230</td>\n",
       "      <td>-0.006625</td>\n",
       "      <td>-0.000386</td>\n",
       "      <td>0.004922</td>\n",
       "      <td>-0.015668</td>\n",
       "      <td>-0.008360</td>\n",
       "      <td>0.326574</td>\n",
       "      <td>-0.027086</td>\n",
       "      <td>-0.023673</td>\n",
       "      <td>-0.059757</td>\n",
       "      <td>-0.055164</td>\n",
       "      <td>-0.027493</td>\n",
       "      <td>-0.023973</td>\n",
       "      <td>-0.058753</td>\n",
       "      <td>-0.054682</td>\n",
       "      <td>0.013469</td>\n",
       "    </tr>\n",
       "    <tr>\n",
       "      <th>Make_encoded</th>\n",
       "      <td>0.014409</td>\n",
       "      <td>1.000000</td>\n",
       "      <td>0.256046</td>\n",
       "      <td>0.223138</td>\n",
       "      <td>-0.061709</td>\n",
       "      <td>-0.008559</td>\n",
       "      <td>0.073523</td>\n",
       "      <td>0.617883</td>\n",
       "      <td>-0.192605</td>\n",
       "      <td>0.415469</td>\n",
       "      <td>0.018985</td>\n",
       "      <td>0.007911</td>\n",
       "      <td>0.018015</td>\n",
       "      <td>0.003722</td>\n",
       "      <td>0.011609</td>\n",
       "      <td>0.009734</td>\n",
       "      <td>0.019779</td>\n",
       "      <td>0.009444</td>\n",
       "      <td>0.018834</td>\n",
       "      <td>0.163044</td>\n",
       "    </tr>\n",
       "    <tr>\n",
       "      <th>Model_encoded</th>\n",
       "      <td>-0.029507</td>\n",
       "      <td>0.256046</td>\n",
       "      <td>1.000000</td>\n",
       "      <td>0.181418</td>\n",
       "      <td>0.261538</td>\n",
       "      <td>0.022141</td>\n",
       "      <td>0.017721</td>\n",
       "      <td>0.249199</td>\n",
       "      <td>0.292572</td>\n",
       "      <td>0.184994</td>\n",
       "      <td>-0.040543</td>\n",
       "      <td>-0.143910</td>\n",
       "      <td>-0.150776</td>\n",
       "      <td>-0.022121</td>\n",
       "      <td>-0.034766</td>\n",
       "      <td>-0.137729</td>\n",
       "      <td>-0.143068</td>\n",
       "      <td>-0.022932</td>\n",
       "      <td>-0.033699</td>\n",
       "      <td>-0.027750</td>\n",
       "    </tr>\n",
       "    <tr>\n",
       "      <th>Trim_encoded</th>\n",
       "      <td>-0.031536</td>\n",
       "      <td>0.223138</td>\n",
       "      <td>0.181418</td>\n",
       "      <td>1.000000</td>\n",
       "      <td>0.436065</td>\n",
       "      <td>0.013912</td>\n",
       "      <td>0.010164</td>\n",
       "      <td>0.134084</td>\n",
       "      <td>0.021875</td>\n",
       "      <td>0.237538</td>\n",
       "      <td>-0.028382</td>\n",
       "      <td>-0.002760</td>\n",
       "      <td>-0.015122</td>\n",
       "      <td>-0.005568</td>\n",
       "      <td>-0.013678</td>\n",
       "      <td>0.003374</td>\n",
       "      <td>-0.008681</td>\n",
       "      <td>-0.003125</td>\n",
       "      <td>-0.010756</td>\n",
       "      <td>0.031819</td>\n",
       "    </tr>\n",
       "    <tr>\n",
       "      <th>SubModel_encoded</th>\n",
       "      <td>-0.028230</td>\n",
       "      <td>-0.061709</td>\n",
       "      <td>0.261538</td>\n",
       "      <td>0.436065</td>\n",
       "      <td>1.000000</td>\n",
       "      <td>0.027000</td>\n",
       "      <td>0.002885</td>\n",
       "      <td>-0.083958</td>\n",
       "      <td>0.302605</td>\n",
       "      <td>0.070278</td>\n",
       "      <td>-0.043012</td>\n",
       "      <td>-0.129821</td>\n",
       "      <td>-0.146288</td>\n",
       "      <td>-0.114554</td>\n",
       "      <td>-0.128670</td>\n",
       "      <td>-0.128638</td>\n",
       "      <td>-0.144604</td>\n",
       "      <td>-0.116172</td>\n",
       "      <td>-0.129744</td>\n",
       "      <td>-0.143865</td>\n",
       "    </tr>\n",
       "    <tr>\n",
       "      <th>Color_encoded</th>\n",
       "      <td>-0.006625</td>\n",
       "      <td>-0.008559</td>\n",
       "      <td>0.022141</td>\n",
       "      <td>0.013912</td>\n",
       "      <td>0.027000</td>\n",
       "      <td>1.000000</td>\n",
       "      <td>0.004642</td>\n",
       "      <td>-0.004508</td>\n",
       "      <td>0.012731</td>\n",
       "      <td>0.029256</td>\n",
       "      <td>0.009680</td>\n",
       "      <td>-0.000196</td>\n",
       "      <td>-0.002140</td>\n",
       "      <td>0.003649</td>\n",
       "      <td>0.002923</td>\n",
       "      <td>-0.002006</td>\n",
       "      <td>-0.004554</td>\n",
       "      <td>0.001547</td>\n",
       "      <td>0.000059</td>\n",
       "      <td>-0.014904</td>\n",
       "    </tr>\n",
       "    <tr>\n",
       "      <th>Transmission_encoded</th>\n",
       "      <td>-0.000386</td>\n",
       "      <td>0.073523</td>\n",
       "      <td>0.017721</td>\n",
       "      <td>0.010164</td>\n",
       "      <td>0.002885</td>\n",
       "      <td>0.004642</td>\n",
       "      <td>1.000000</td>\n",
       "      <td>0.101324</td>\n",
       "      <td>0.004142</td>\n",
       "      <td>0.084728</td>\n",
       "      <td>0.005051</td>\n",
       "      <td>0.078377</td>\n",
       "      <td>0.080461</td>\n",
       "      <td>0.060303</td>\n",
       "      <td>0.063404</td>\n",
       "      <td>0.082068</td>\n",
       "      <td>0.084410</td>\n",
       "      <td>0.064916</td>\n",
       "      <td>0.068463</td>\n",
       "      <td>0.100241</td>\n",
       "    </tr>\n",
       "    <tr>\n",
       "      <th>Nationality_encoded</th>\n",
       "      <td>0.004922</td>\n",
       "      <td>0.617883</td>\n",
       "      <td>0.249199</td>\n",
       "      <td>0.134084</td>\n",
       "      <td>-0.083958</td>\n",
       "      <td>-0.004508</td>\n",
       "      <td>0.101324</td>\n",
       "      <td>1.000000</td>\n",
       "      <td>-0.135372</td>\n",
       "      <td>0.651554</td>\n",
       "      <td>-0.014524</td>\n",
       "      <td>-0.019225</td>\n",
       "      <td>-0.003287</td>\n",
       "      <td>-0.029980</td>\n",
       "      <td>-0.019614</td>\n",
       "      <td>-0.014297</td>\n",
       "      <td>0.001871</td>\n",
       "      <td>-0.022019</td>\n",
       "      <td>-0.011202</td>\n",
       "      <td>0.332225</td>\n",
       "    </tr>\n",
       "    <tr>\n",
       "      <th>Size_encoded</th>\n",
       "      <td>-0.015668</td>\n",
       "      <td>-0.192605</td>\n",
       "      <td>0.292572</td>\n",
       "      <td>0.021875</td>\n",
       "      <td>0.302605</td>\n",
       "      <td>0.012731</td>\n",
       "      <td>0.004142</td>\n",
       "      <td>-0.135372</td>\n",
       "      <td>1.000000</td>\n",
       "      <td>-0.039755</td>\n",
       "      <td>-0.046306</td>\n",
       "      <td>-0.211173</td>\n",
       "      <td>-0.230548</td>\n",
       "      <td>-0.170576</td>\n",
       "      <td>-0.192152</td>\n",
       "      <td>-0.210590</td>\n",
       "      <td>-0.228909</td>\n",
       "      <td>-0.180720</td>\n",
       "      <td>-0.201378</td>\n",
       "      <td>-0.278603</td>\n",
       "    </tr>\n",
       "    <tr>\n",
       "      <th>TopThreeAmericanName_encoded</th>\n",
       "      <td>-0.008360</td>\n",
       "      <td>0.415469</td>\n",
       "      <td>0.184994</td>\n",
       "      <td>0.237538</td>\n",
       "      <td>0.070278</td>\n",
       "      <td>0.029256</td>\n",
       "      <td>0.084728</td>\n",
       "      <td>0.651554</td>\n",
       "      <td>-0.039755</td>\n",
       "      <td>1.000000</td>\n",
       "      <td>-0.018859</td>\n",
       "      <td>0.018870</td>\n",
       "      <td>0.018234</td>\n",
       "      <td>0.010314</td>\n",
       "      <td>0.008727</td>\n",
       "      <td>0.019429</td>\n",
       "      <td>0.019626</td>\n",
       "      <td>0.013921</td>\n",
       "      <td>0.013637</td>\n",
       "      <td>0.357027</td>\n",
       "    </tr>\n",
       "    <tr>\n",
       "      <th>VNST_encoded</th>\n",
       "      <td>0.326574</td>\n",
       "      <td>0.018985</td>\n",
       "      <td>-0.040543</td>\n",
       "      <td>-0.028382</td>\n",
       "      <td>-0.043012</td>\n",
       "      <td>0.009680</td>\n",
       "      <td>0.005051</td>\n",
       "      <td>-0.014524</td>\n",
       "      <td>-0.046306</td>\n",
       "      <td>-0.018859</td>\n",
       "      <td>1.000000</td>\n",
       "      <td>-0.014098</td>\n",
       "      <td>-0.008150</td>\n",
       "      <td>-0.064161</td>\n",
       "      <td>-0.055688</td>\n",
       "      <td>-0.021381</td>\n",
       "      <td>-0.017662</td>\n",
       "      <td>-0.066599</td>\n",
       "      <td>-0.060109</td>\n",
       "      <td>-0.008145</td>\n",
       "    </tr>\n",
       "    <tr>\n",
       "      <th>MMRAcquisitionAuctionAveragePrice</th>\n",
       "      <td>-0.027086</td>\n",
       "      <td>0.007911</td>\n",
       "      <td>-0.143910</td>\n",
       "      <td>-0.002760</td>\n",
       "      <td>-0.129821</td>\n",
       "      <td>-0.000196</td>\n",
       "      <td>0.078377</td>\n",
       "      <td>-0.019225</td>\n",
       "      <td>-0.211173</td>\n",
       "      <td>0.018870</td>\n",
       "      <td>-0.014098</td>\n",
       "      <td>1.000000</td>\n",
       "      <td>0.992626</td>\n",
       "      <td>0.917800</td>\n",
       "      <td>0.917943</td>\n",
       "      <td>0.950461</td>\n",
       "      <td>0.945409</td>\n",
       "      <td>0.884110</td>\n",
       "      <td>0.883640</td>\n",
       "      <td>-0.078780</td>\n",
       "    </tr>\n",
       "    <tr>\n",
       "      <th>MMRAcquisitionAuctionCleanPrice</th>\n",
       "      <td>-0.023673</td>\n",
       "      <td>0.018015</td>\n",
       "      <td>-0.150776</td>\n",
       "      <td>-0.015122</td>\n",
       "      <td>-0.146288</td>\n",
       "      <td>-0.002140</td>\n",
       "      <td>0.080461</td>\n",
       "      <td>-0.003287</td>\n",
       "      <td>-0.230548</td>\n",
       "      <td>0.018234</td>\n",
       "      <td>-0.008150</td>\n",
       "      <td>0.992626</td>\n",
       "      <td>1.000000</td>\n",
       "      <td>0.913128</td>\n",
       "      <td>0.925175</td>\n",
       "      <td>0.939794</td>\n",
       "      <td>0.945210</td>\n",
       "      <td>0.877171</td>\n",
       "      <td>0.885032</td>\n",
       "      <td>-0.057659</td>\n",
       "    </tr>\n",
       "    <tr>\n",
       "      <th>MMRAcquisitionRetailAveragePrice</th>\n",
       "      <td>-0.059757</td>\n",
       "      <td>0.003722</td>\n",
       "      <td>-0.022121</td>\n",
       "      <td>-0.005568</td>\n",
       "      <td>-0.114554</td>\n",
       "      <td>0.003649</td>\n",
       "      <td>0.060303</td>\n",
       "      <td>-0.029980</td>\n",
       "      <td>-0.170576</td>\n",
       "      <td>0.010314</td>\n",
       "      <td>-0.064161</td>\n",
       "      <td>0.917800</td>\n",
       "      <td>0.913128</td>\n",
       "      <td>1.000000</td>\n",
       "      <td>0.991800</td>\n",
       "      <td>0.869265</td>\n",
       "      <td>0.867101</td>\n",
       "      <td>0.930573</td>\n",
       "      <td>0.923876</td>\n",
       "      <td>-0.079081</td>\n",
       "    </tr>\n",
       "    <tr>\n",
       "      <th>MMRAcquisitonRetailCleanPrice</th>\n",
       "      <td>-0.055164</td>\n",
       "      <td>0.011609</td>\n",
       "      <td>-0.034766</td>\n",
       "      <td>-0.013678</td>\n",
       "      <td>-0.128670</td>\n",
       "      <td>0.002923</td>\n",
       "      <td>0.063404</td>\n",
       "      <td>-0.019614</td>\n",
       "      <td>-0.192152</td>\n",
       "      <td>0.008727</td>\n",
       "      <td>-0.055688</td>\n",
       "      <td>0.917943</td>\n",
       "      <td>0.925175</td>\n",
       "      <td>0.991800</td>\n",
       "      <td>1.000000</td>\n",
       "      <td>0.865962</td>\n",
       "      <td>0.872009</td>\n",
       "      <td>0.922247</td>\n",
       "      <td>0.924176</td>\n",
       "      <td>-0.059637</td>\n",
       "    </tr>\n",
       "    <tr>\n",
       "      <th>MMRCurrentAuctionAveragePrice</th>\n",
       "      <td>-0.027493</td>\n",
       "      <td>0.009734</td>\n",
       "      <td>-0.137729</td>\n",
       "      <td>0.003374</td>\n",
       "      <td>-0.128638</td>\n",
       "      <td>-0.002006</td>\n",
       "      <td>0.082068</td>\n",
       "      <td>-0.014297</td>\n",
       "      <td>-0.210590</td>\n",
       "      <td>0.019429</td>\n",
       "      <td>-0.021381</td>\n",
       "      <td>0.950461</td>\n",
       "      <td>0.939794</td>\n",
       "      <td>0.869265</td>\n",
       "      <td>0.865962</td>\n",
       "      <td>1.000000</td>\n",
       "      <td>0.992478</td>\n",
       "      <td>0.921237</td>\n",
       "      <td>0.919551</td>\n",
       "      <td>-0.082145</td>\n",
       "    </tr>\n",
       "    <tr>\n",
       "      <th>MMRCurrentAuctionCleanPrice</th>\n",
       "      <td>-0.023973</td>\n",
       "      <td>0.019779</td>\n",
       "      <td>-0.143068</td>\n",
       "      <td>-0.008681</td>\n",
       "      <td>-0.144604</td>\n",
       "      <td>-0.004554</td>\n",
       "      <td>0.084410</td>\n",
       "      <td>0.001871</td>\n",
       "      <td>-0.228909</td>\n",
       "      <td>0.019626</td>\n",
       "      <td>-0.017662</td>\n",
       "      <td>0.945409</td>\n",
       "      <td>0.945210</td>\n",
       "      <td>0.867101</td>\n",
       "      <td>0.872009</td>\n",
       "      <td>0.992478</td>\n",
       "      <td>1.000000</td>\n",
       "      <td>0.917297</td>\n",
       "      <td>0.927808</td>\n",
       "      <td>-0.061700</td>\n",
       "    </tr>\n",
       "    <tr>\n",
       "      <th>MMRCurrentRetailAveragePrice</th>\n",
       "      <td>-0.058753</td>\n",
       "      <td>0.009444</td>\n",
       "      <td>-0.022932</td>\n",
       "      <td>-0.003125</td>\n",
       "      <td>-0.116172</td>\n",
       "      <td>0.001547</td>\n",
       "      <td>0.064916</td>\n",
       "      <td>-0.022019</td>\n",
       "      <td>-0.180720</td>\n",
       "      <td>0.013921</td>\n",
       "      <td>-0.066599</td>\n",
       "      <td>0.884110</td>\n",
       "      <td>0.877171</td>\n",
       "      <td>0.930573</td>\n",
       "      <td>0.922247</td>\n",
       "      <td>0.921237</td>\n",
       "      <td>0.917297</td>\n",
       "      <td>1.000000</td>\n",
       "      <td>0.991362</td>\n",
       "      <td>-0.080643</td>\n",
       "    </tr>\n",
       "    <tr>\n",
       "      <th>MMRCurrentRetailCleanPrice</th>\n",
       "      <td>-0.054682</td>\n",
       "      <td>0.018834</td>\n",
       "      <td>-0.033699</td>\n",
       "      <td>-0.010756</td>\n",
       "      <td>-0.129744</td>\n",
       "      <td>0.000059</td>\n",
       "      <td>0.068463</td>\n",
       "      <td>-0.011202</td>\n",
       "      <td>-0.201378</td>\n",
       "      <td>0.013637</td>\n",
       "      <td>-0.060109</td>\n",
       "      <td>0.883640</td>\n",
       "      <td>0.885032</td>\n",
       "      <td>0.923876</td>\n",
       "      <td>0.924176</td>\n",
       "      <td>0.919551</td>\n",
       "      <td>0.927808</td>\n",
       "      <td>0.991362</td>\n",
       "      <td>1.000000</td>\n",
       "      <td>-0.060449</td>\n",
       "    </tr>\n",
       "    <tr>\n",
       "      <th>WarrantyCost</th>\n",
       "      <td>0.013469</td>\n",
       "      <td>0.163044</td>\n",
       "      <td>-0.027750</td>\n",
       "      <td>0.031819</td>\n",
       "      <td>-0.143865</td>\n",
       "      <td>-0.014904</td>\n",
       "      <td>0.100241</td>\n",
       "      <td>0.332225</td>\n",
       "      <td>-0.278603</td>\n",
       "      <td>0.357027</td>\n",
       "      <td>-0.008145</td>\n",
       "      <td>-0.078780</td>\n",
       "      <td>-0.057659</td>\n",
       "      <td>-0.079081</td>\n",
       "      <td>-0.059637</td>\n",
       "      <td>-0.082145</td>\n",
       "      <td>-0.061700</td>\n",
       "      <td>-0.080643</td>\n",
       "      <td>-0.060449</td>\n",
       "      <td>1.000000</td>\n",
       "    </tr>\n",
       "  </tbody>\n",
       "</table>\n",
       "</div>"
      ],
      "text/plain": [
       "                                   Auction_encoded  Make_encoded  \\\n",
       "Auction_encoded                           1.000000      0.014409   \n",
       "Make_encoded                              0.014409      1.000000   \n",
       "Model_encoded                            -0.029507      0.256046   \n",
       "Trim_encoded                             -0.031536      0.223138   \n",
       "SubModel_encoded                         -0.028230     -0.061709   \n",
       "Color_encoded                            -0.006625     -0.008559   \n",
       "Transmission_encoded                     -0.000386      0.073523   \n",
       "Nationality_encoded                       0.004922      0.617883   \n",
       "Size_encoded                             -0.015668     -0.192605   \n",
       "TopThreeAmericanName_encoded             -0.008360      0.415469   \n",
       "VNST_encoded                              0.326574      0.018985   \n",
       "MMRAcquisitionAuctionAveragePrice        -0.027086      0.007911   \n",
       "MMRAcquisitionAuctionCleanPrice          -0.023673      0.018015   \n",
       "MMRAcquisitionRetailAveragePrice         -0.059757      0.003722   \n",
       "MMRAcquisitonRetailCleanPrice            -0.055164      0.011609   \n",
       "MMRCurrentAuctionAveragePrice            -0.027493      0.009734   \n",
       "MMRCurrentAuctionCleanPrice              -0.023973      0.019779   \n",
       "MMRCurrentRetailAveragePrice             -0.058753      0.009444   \n",
       "MMRCurrentRetailCleanPrice               -0.054682      0.018834   \n",
       "WarrantyCost                              0.013469      0.163044   \n",
       "\n",
       "                                   Model_encoded  Trim_encoded  \\\n",
       "Auction_encoded                        -0.029507     -0.031536   \n",
       "Make_encoded                            0.256046      0.223138   \n",
       "Model_encoded                           1.000000      0.181418   \n",
       "Trim_encoded                            0.181418      1.000000   \n",
       "SubModel_encoded                        0.261538      0.436065   \n",
       "Color_encoded                           0.022141      0.013912   \n",
       "Transmission_encoded                    0.017721      0.010164   \n",
       "Nationality_encoded                     0.249199      0.134084   \n",
       "Size_encoded                            0.292572      0.021875   \n",
       "TopThreeAmericanName_encoded            0.184994      0.237538   \n",
       "VNST_encoded                           -0.040543     -0.028382   \n",
       "MMRAcquisitionAuctionAveragePrice      -0.143910     -0.002760   \n",
       "MMRAcquisitionAuctionCleanPrice        -0.150776     -0.015122   \n",
       "MMRAcquisitionRetailAveragePrice       -0.022121     -0.005568   \n",
       "MMRAcquisitonRetailCleanPrice          -0.034766     -0.013678   \n",
       "MMRCurrentAuctionAveragePrice          -0.137729      0.003374   \n",
       "MMRCurrentAuctionCleanPrice            -0.143068     -0.008681   \n",
       "MMRCurrentRetailAveragePrice           -0.022932     -0.003125   \n",
       "MMRCurrentRetailCleanPrice             -0.033699     -0.010756   \n",
       "WarrantyCost                           -0.027750      0.031819   \n",
       "\n",
       "                                   SubModel_encoded  Color_encoded  \\\n",
       "Auction_encoded                           -0.028230      -0.006625   \n",
       "Make_encoded                              -0.061709      -0.008559   \n",
       "Model_encoded                              0.261538       0.022141   \n",
       "Trim_encoded                               0.436065       0.013912   \n",
       "SubModel_encoded                           1.000000       0.027000   \n",
       "Color_encoded                              0.027000       1.000000   \n",
       "Transmission_encoded                       0.002885       0.004642   \n",
       "Nationality_encoded                       -0.083958      -0.004508   \n",
       "Size_encoded                               0.302605       0.012731   \n",
       "TopThreeAmericanName_encoded               0.070278       0.029256   \n",
       "VNST_encoded                              -0.043012       0.009680   \n",
       "MMRAcquisitionAuctionAveragePrice         -0.129821      -0.000196   \n",
       "MMRAcquisitionAuctionCleanPrice           -0.146288      -0.002140   \n",
       "MMRAcquisitionRetailAveragePrice          -0.114554       0.003649   \n",
       "MMRAcquisitonRetailCleanPrice             -0.128670       0.002923   \n",
       "MMRCurrentAuctionAveragePrice             -0.128638      -0.002006   \n",
       "MMRCurrentAuctionCleanPrice               -0.144604      -0.004554   \n",
       "MMRCurrentRetailAveragePrice              -0.116172       0.001547   \n",
       "MMRCurrentRetailCleanPrice                -0.129744       0.000059   \n",
       "WarrantyCost                              -0.143865      -0.014904   \n",
       "\n",
       "                                   Transmission_encoded  Nationality_encoded  \\\n",
       "Auction_encoded                               -0.000386             0.004922   \n",
       "Make_encoded                                   0.073523             0.617883   \n",
       "Model_encoded                                  0.017721             0.249199   \n",
       "Trim_encoded                                   0.010164             0.134084   \n",
       "SubModel_encoded                               0.002885            -0.083958   \n",
       "Color_encoded                                  0.004642            -0.004508   \n",
       "Transmission_encoded                           1.000000             0.101324   \n",
       "Nationality_encoded                            0.101324             1.000000   \n",
       "Size_encoded                                   0.004142            -0.135372   \n",
       "TopThreeAmericanName_encoded                   0.084728             0.651554   \n",
       "VNST_encoded                                   0.005051            -0.014524   \n",
       "MMRAcquisitionAuctionAveragePrice              0.078377            -0.019225   \n",
       "MMRAcquisitionAuctionCleanPrice                0.080461            -0.003287   \n",
       "MMRAcquisitionRetailAveragePrice               0.060303            -0.029980   \n",
       "MMRAcquisitonRetailCleanPrice                  0.063404            -0.019614   \n",
       "MMRCurrentAuctionAveragePrice                  0.082068            -0.014297   \n",
       "MMRCurrentAuctionCleanPrice                    0.084410             0.001871   \n",
       "MMRCurrentRetailAveragePrice                   0.064916            -0.022019   \n",
       "MMRCurrentRetailCleanPrice                     0.068463            -0.011202   \n",
       "WarrantyCost                                   0.100241             0.332225   \n",
       "\n",
       "                                   Size_encoded  TopThreeAmericanName_encoded  \\\n",
       "Auction_encoded                       -0.015668                     -0.008360   \n",
       "Make_encoded                          -0.192605                      0.415469   \n",
       "Model_encoded                          0.292572                      0.184994   \n",
       "Trim_encoded                           0.021875                      0.237538   \n",
       "SubModel_encoded                       0.302605                      0.070278   \n",
       "Color_encoded                          0.012731                      0.029256   \n",
       "Transmission_encoded                   0.004142                      0.084728   \n",
       "Nationality_encoded                   -0.135372                      0.651554   \n",
       "Size_encoded                           1.000000                     -0.039755   \n",
       "TopThreeAmericanName_encoded          -0.039755                      1.000000   \n",
       "VNST_encoded                          -0.046306                     -0.018859   \n",
       "MMRAcquisitionAuctionAveragePrice     -0.211173                      0.018870   \n",
       "MMRAcquisitionAuctionCleanPrice       -0.230548                      0.018234   \n",
       "MMRAcquisitionRetailAveragePrice      -0.170576                      0.010314   \n",
       "MMRAcquisitonRetailCleanPrice         -0.192152                      0.008727   \n",
       "MMRCurrentAuctionAveragePrice         -0.210590                      0.019429   \n",
       "MMRCurrentAuctionCleanPrice           -0.228909                      0.019626   \n",
       "MMRCurrentRetailAveragePrice          -0.180720                      0.013921   \n",
       "MMRCurrentRetailCleanPrice            -0.201378                      0.013637   \n",
       "WarrantyCost                          -0.278603                      0.357027   \n",
       "\n",
       "                                   VNST_encoded  \\\n",
       "Auction_encoded                        0.326574   \n",
       "Make_encoded                           0.018985   \n",
       "Model_encoded                         -0.040543   \n",
       "Trim_encoded                          -0.028382   \n",
       "SubModel_encoded                      -0.043012   \n",
       "Color_encoded                          0.009680   \n",
       "Transmission_encoded                   0.005051   \n",
       "Nationality_encoded                   -0.014524   \n",
       "Size_encoded                          -0.046306   \n",
       "TopThreeAmericanName_encoded          -0.018859   \n",
       "VNST_encoded                           1.000000   \n",
       "MMRAcquisitionAuctionAveragePrice     -0.014098   \n",
       "MMRAcquisitionAuctionCleanPrice       -0.008150   \n",
       "MMRAcquisitionRetailAveragePrice      -0.064161   \n",
       "MMRAcquisitonRetailCleanPrice         -0.055688   \n",
       "MMRCurrentAuctionAveragePrice         -0.021381   \n",
       "MMRCurrentAuctionCleanPrice           -0.017662   \n",
       "MMRCurrentRetailAveragePrice          -0.066599   \n",
       "MMRCurrentRetailCleanPrice            -0.060109   \n",
       "WarrantyCost                          -0.008145   \n",
       "\n",
       "                                   MMRAcquisitionAuctionAveragePrice  \\\n",
       "Auction_encoded                                            -0.027086   \n",
       "Make_encoded                                                0.007911   \n",
       "Model_encoded                                              -0.143910   \n",
       "Trim_encoded                                               -0.002760   \n",
       "SubModel_encoded                                           -0.129821   \n",
       "Color_encoded                                              -0.000196   \n",
       "Transmission_encoded                                        0.078377   \n",
       "Nationality_encoded                                        -0.019225   \n",
       "Size_encoded                                               -0.211173   \n",
       "TopThreeAmericanName_encoded                                0.018870   \n",
       "VNST_encoded                                               -0.014098   \n",
       "MMRAcquisitionAuctionAveragePrice                           1.000000   \n",
       "MMRAcquisitionAuctionCleanPrice                             0.992626   \n",
       "MMRAcquisitionRetailAveragePrice                            0.917800   \n",
       "MMRAcquisitonRetailCleanPrice                               0.917943   \n",
       "MMRCurrentAuctionAveragePrice                               0.950461   \n",
       "MMRCurrentAuctionCleanPrice                                 0.945409   \n",
       "MMRCurrentRetailAveragePrice                                0.884110   \n",
       "MMRCurrentRetailCleanPrice                                  0.883640   \n",
       "WarrantyCost                                               -0.078780   \n",
       "\n",
       "                                   MMRAcquisitionAuctionCleanPrice  \\\n",
       "Auction_encoded                                          -0.023673   \n",
       "Make_encoded                                              0.018015   \n",
       "Model_encoded                                            -0.150776   \n",
       "Trim_encoded                                             -0.015122   \n",
       "SubModel_encoded                                         -0.146288   \n",
       "Color_encoded                                            -0.002140   \n",
       "Transmission_encoded                                      0.080461   \n",
       "Nationality_encoded                                      -0.003287   \n",
       "Size_encoded                                             -0.230548   \n",
       "TopThreeAmericanName_encoded                              0.018234   \n",
       "VNST_encoded                                             -0.008150   \n",
       "MMRAcquisitionAuctionAveragePrice                         0.992626   \n",
       "MMRAcquisitionAuctionCleanPrice                           1.000000   \n",
       "MMRAcquisitionRetailAveragePrice                          0.913128   \n",
       "MMRAcquisitonRetailCleanPrice                             0.925175   \n",
       "MMRCurrentAuctionAveragePrice                             0.939794   \n",
       "MMRCurrentAuctionCleanPrice                               0.945210   \n",
       "MMRCurrentRetailAveragePrice                              0.877171   \n",
       "MMRCurrentRetailCleanPrice                                0.885032   \n",
       "WarrantyCost                                             -0.057659   \n",
       "\n",
       "                                   MMRAcquisitionRetailAveragePrice  \\\n",
       "Auction_encoded                                           -0.059757   \n",
       "Make_encoded                                               0.003722   \n",
       "Model_encoded                                             -0.022121   \n",
       "Trim_encoded                                              -0.005568   \n",
       "SubModel_encoded                                          -0.114554   \n",
       "Color_encoded                                              0.003649   \n",
       "Transmission_encoded                                       0.060303   \n",
       "Nationality_encoded                                       -0.029980   \n",
       "Size_encoded                                              -0.170576   \n",
       "TopThreeAmericanName_encoded                               0.010314   \n",
       "VNST_encoded                                              -0.064161   \n",
       "MMRAcquisitionAuctionAveragePrice                          0.917800   \n",
       "MMRAcquisitionAuctionCleanPrice                            0.913128   \n",
       "MMRAcquisitionRetailAveragePrice                           1.000000   \n",
       "MMRAcquisitonRetailCleanPrice                              0.991800   \n",
       "MMRCurrentAuctionAveragePrice                              0.869265   \n",
       "MMRCurrentAuctionCleanPrice                                0.867101   \n",
       "MMRCurrentRetailAveragePrice                               0.930573   \n",
       "MMRCurrentRetailCleanPrice                                 0.923876   \n",
       "WarrantyCost                                              -0.079081   \n",
       "\n",
       "                                   MMRAcquisitonRetailCleanPrice  \\\n",
       "Auction_encoded                                        -0.055164   \n",
       "Make_encoded                                            0.011609   \n",
       "Model_encoded                                          -0.034766   \n",
       "Trim_encoded                                           -0.013678   \n",
       "SubModel_encoded                                       -0.128670   \n",
       "Color_encoded                                           0.002923   \n",
       "Transmission_encoded                                    0.063404   \n",
       "Nationality_encoded                                    -0.019614   \n",
       "Size_encoded                                           -0.192152   \n",
       "TopThreeAmericanName_encoded                            0.008727   \n",
       "VNST_encoded                                           -0.055688   \n",
       "MMRAcquisitionAuctionAveragePrice                       0.917943   \n",
       "MMRAcquisitionAuctionCleanPrice                         0.925175   \n",
       "MMRAcquisitionRetailAveragePrice                        0.991800   \n",
       "MMRAcquisitonRetailCleanPrice                           1.000000   \n",
       "MMRCurrentAuctionAveragePrice                           0.865962   \n",
       "MMRCurrentAuctionCleanPrice                             0.872009   \n",
       "MMRCurrentRetailAveragePrice                            0.922247   \n",
       "MMRCurrentRetailCleanPrice                              0.924176   \n",
       "WarrantyCost                                           -0.059637   \n",
       "\n",
       "                                   MMRCurrentAuctionAveragePrice  \\\n",
       "Auction_encoded                                        -0.027493   \n",
       "Make_encoded                                            0.009734   \n",
       "Model_encoded                                          -0.137729   \n",
       "Trim_encoded                                            0.003374   \n",
       "SubModel_encoded                                       -0.128638   \n",
       "Color_encoded                                          -0.002006   \n",
       "Transmission_encoded                                    0.082068   \n",
       "Nationality_encoded                                    -0.014297   \n",
       "Size_encoded                                           -0.210590   \n",
       "TopThreeAmericanName_encoded                            0.019429   \n",
       "VNST_encoded                                           -0.021381   \n",
       "MMRAcquisitionAuctionAveragePrice                       0.950461   \n",
       "MMRAcquisitionAuctionCleanPrice                         0.939794   \n",
       "MMRAcquisitionRetailAveragePrice                        0.869265   \n",
       "MMRAcquisitonRetailCleanPrice                           0.865962   \n",
       "MMRCurrentAuctionAveragePrice                           1.000000   \n",
       "MMRCurrentAuctionCleanPrice                             0.992478   \n",
       "MMRCurrentRetailAveragePrice                            0.921237   \n",
       "MMRCurrentRetailCleanPrice                              0.919551   \n",
       "WarrantyCost                                           -0.082145   \n",
       "\n",
       "                                   MMRCurrentAuctionCleanPrice  \\\n",
       "Auction_encoded                                      -0.023973   \n",
       "Make_encoded                                          0.019779   \n",
       "Model_encoded                                        -0.143068   \n",
       "Trim_encoded                                         -0.008681   \n",
       "SubModel_encoded                                     -0.144604   \n",
       "Color_encoded                                        -0.004554   \n",
       "Transmission_encoded                                  0.084410   \n",
       "Nationality_encoded                                   0.001871   \n",
       "Size_encoded                                         -0.228909   \n",
       "TopThreeAmericanName_encoded                          0.019626   \n",
       "VNST_encoded                                         -0.017662   \n",
       "MMRAcquisitionAuctionAveragePrice                     0.945409   \n",
       "MMRAcquisitionAuctionCleanPrice                       0.945210   \n",
       "MMRAcquisitionRetailAveragePrice                      0.867101   \n",
       "MMRAcquisitonRetailCleanPrice                         0.872009   \n",
       "MMRCurrentAuctionAveragePrice                         0.992478   \n",
       "MMRCurrentAuctionCleanPrice                           1.000000   \n",
       "MMRCurrentRetailAveragePrice                          0.917297   \n",
       "MMRCurrentRetailCleanPrice                            0.927808   \n",
       "WarrantyCost                                         -0.061700   \n",
       "\n",
       "                                   MMRCurrentRetailAveragePrice  \\\n",
       "Auction_encoded                                       -0.058753   \n",
       "Make_encoded                                           0.009444   \n",
       "Model_encoded                                         -0.022932   \n",
       "Trim_encoded                                          -0.003125   \n",
       "SubModel_encoded                                      -0.116172   \n",
       "Color_encoded                                          0.001547   \n",
       "Transmission_encoded                                   0.064916   \n",
       "Nationality_encoded                                   -0.022019   \n",
       "Size_encoded                                          -0.180720   \n",
       "TopThreeAmericanName_encoded                           0.013921   \n",
       "VNST_encoded                                          -0.066599   \n",
       "MMRAcquisitionAuctionAveragePrice                      0.884110   \n",
       "MMRAcquisitionAuctionCleanPrice                        0.877171   \n",
       "MMRAcquisitionRetailAveragePrice                       0.930573   \n",
       "MMRAcquisitonRetailCleanPrice                          0.922247   \n",
       "MMRCurrentAuctionAveragePrice                          0.921237   \n",
       "MMRCurrentAuctionCleanPrice                            0.917297   \n",
       "MMRCurrentRetailAveragePrice                           1.000000   \n",
       "MMRCurrentRetailCleanPrice                             0.991362   \n",
       "WarrantyCost                                          -0.080643   \n",
       "\n",
       "                                   MMRCurrentRetailCleanPrice  WarrantyCost  \n",
       "Auction_encoded                                     -0.054682      0.013469  \n",
       "Make_encoded                                         0.018834      0.163044  \n",
       "Model_encoded                                       -0.033699     -0.027750  \n",
       "Trim_encoded                                        -0.010756      0.031819  \n",
       "SubModel_encoded                                    -0.129744     -0.143865  \n",
       "Color_encoded                                        0.000059     -0.014904  \n",
       "Transmission_encoded                                 0.068463      0.100241  \n",
       "Nationality_encoded                                 -0.011202      0.332225  \n",
       "Size_encoded                                        -0.201378     -0.278603  \n",
       "TopThreeAmericanName_encoded                         0.013637      0.357027  \n",
       "VNST_encoded                                        -0.060109     -0.008145  \n",
       "MMRAcquisitionAuctionAveragePrice                    0.883640     -0.078780  \n",
       "MMRAcquisitionAuctionCleanPrice                      0.885032     -0.057659  \n",
       "MMRAcquisitionRetailAveragePrice                     0.923876     -0.079081  \n",
       "MMRAcquisitonRetailCleanPrice                        0.924176     -0.059637  \n",
       "MMRCurrentAuctionAveragePrice                        0.919551     -0.082145  \n",
       "MMRCurrentAuctionCleanPrice                          0.927808     -0.061700  \n",
       "MMRCurrentRetailAveragePrice                         0.991362     -0.080643  \n",
       "MMRCurrentRetailCleanPrice                           1.000000     -0.060449  \n",
       "WarrantyCost                                        -0.060449      1.000000  "
      ]
     },
     "execution_count": 353,
     "metadata": {},
     "output_type": "execute_result"
    }
   ],
   "source": [
    "df_prep_balanced[features].corr()"
   ]
  },
  {
   "cell_type": "code",
   "execution_count": 354,
   "metadata": {},
   "outputs": [
    {
     "data": {
      "image/png": "[encoded data removed]",
      "text/plain": [
       "<Figure size 1440x1440 with 2 Axes>"
      ]
     },
     "metadata": {
      "needs_background": "light"
     },
     "output_type": "display_data"
    }
   ],
   "source": [
    "import seaborn as sns\n",
    "#get correlations of each features in dataset\n",
    "corrmat = df_prep_balanced[features].corr()\n",
    "top_corr_features = corrmat.index\n",
    "plt.figure(figsize=(20,20))\n",
    "#plot heat map\n",
    "g=sns.heatmap(df_prep[features][top_corr_features].corr(),annot=True,cmap=\"RdYlGn\")"
   ]
  },
  {
   "cell_type": "code",
   "execution_count": 211,
   "metadata": {},
   "outputs": [],
   "source": []
  },
  {
   "cell_type": "code",
   "execution_count": 212,
   "metadata": {},
   "outputs": [],
   "source": [
    "# Employing  PCA to find a subset of components, which explain the variance in the data.\n",
    "pca = PCA()"
   ]
  },
  {
   "cell_type": "code",
   "execution_count": 356,
   "metadata": {},
   "outputs": [
    {
     "data": {
      "text/plain": [
       "PCA()"
      ]
     },
     "execution_count": 356,
     "metadata": {},
     "output_type": "execute_result"
    }
   ],
   "source": [
    "# Fit PCA with our standardized data.\n",
    "pca.fit(final_dataset)"
   ]
  },
  {
   "cell_type": "code",
   "execution_count": 357,
   "metadata": {},
   "outputs": [
    {
     "data": {
      "text/plain": [
       "array([3.77765304e-01, 1.27315557e-01, 9.05645184e-02, 6.53917855e-02,\n",
       "       5.20039636e-02, 5.01854770e-02, 4.96093065e-02, 3.94511619e-02,\n",
       "       3.34209268e-02, 3.32710279e-02, 2.32599867e-02, 1.97156921e-02,\n",
       "       1.36279603e-02, 1.13760365e-02, 1.00580288e-02, 1.53377858e-03,\n",
       "       1.02770155e-03, 2.54855327e-04, 1.15237918e-04, 5.16934247e-05])"
      ]
     },
     "execution_count": 357,
     "metadata": {},
     "output_type": "execute_result"
    }
   ],
   "source": [
    "# The attribute shows how much variance is explained by each of  individual components.\n",
    "pca.explained_variance_ratio_"
   ]
  },
  {
   "cell_type": "code",
   "execution_count": 221,
   "metadata": {},
   "outputs": [
    {
     "data": {
      "text/plain": [
       "Text(0, 0.5, 'Cumulative Explained Variance')"
      ]
     },
     "execution_count": 221,
     "metadata": {},
     "output_type": "execute_result"
    },
    {
     "data": {
      "image/png": "[encoded data removed]",
      "text/plain": [
       "<Figure size 1080x1080 with 1 Axes>"
      ]
     },
     "metadata": {
      "needs_background": "light"
     },
     "output_type": "display_data"
    }
   ],
   "source": [
    "# Plot the cumulative variance explained by total number of components.\n",
    "plt.figure(figsize = (15,15))\n",
    "plt.plot(pca.explained_variance_ratio_.cumsum(), marker = 'o', linestyle = '--')\n",
    "plt.title('Explained Variance by Components')\n",
    "plt.xlabel('Number of Components')\n",
    "plt.ylabel('Cumulative Explained Variance')"
   ]
  },
  {
   "cell_type": "code",
   "execution_count": 359,
   "metadata": {},
   "outputs": [],
   "source": [
    "model = PCA(n_components=10).fit(final_dataset)\n",
    "X_pc = model.transform(final_dataset)\n",
    "\n",
    "# number of components\n",
    "n_pcs= model.components_.shape[0]\n",
    "\n",
    "# get the index of the most important feature on EACH component\n",
    "# LIST COMPREHENSION \n",
    "most_important = [np.abs(model.components_[i]).argmax() for i in range(n_pcs)]\n",
    "\n",
    "initial_feature_names =features\n",
    "# get the names\n",
    "most_important_names = [initial_feature_names[most_important[i]] for i in range(n_pcs)]\n",
    "\n",
    "# LIST COMPREHENSion \n",
    "dic = {'PC{}'.format(i): most_important_names[i] for i in range(n_pcs)}\n",
    "\n",
    "# build the dataframe\n",
    "df = pd.DataFrame(dic.items())"
   ]
  },
  {
   "cell_type": "code",
   "execution_count": 360,
   "metadata": {},
   "outputs": [
    {
     "name": "stdout",
     "output_type": "stream",
     "text": [
      "     0                                  1\n",
      "0  PC0  MMRAcquisitionAuctionAveragePrice\n",
      "1  PC1                Nationality_encoded\n",
      "2  PC2                   SubModel_encoded\n",
      "3  PC3                       VNST_encoded\n",
      "4  PC4                       Trim_encoded\n",
      "5  PC5                      Color_encoded\n",
      "6  PC6               Transmission_encoded\n",
      "7  PC7                       WarrantyCost\n",
      "8  PC8                       VNST_encoded\n",
      "9  PC9                      Model_encoded\n"
     ]
    }
   ],
   "source": [
    "print(df)"
   ]
  },
  {
   "cell_type": "code",
   "execution_count": 368,
   "metadata": {},
   "outputs": [],
   "source": [
    "\n",
    "MyFeatures = df_prep_balanced[features]\n",
    "label = df_prep['IsBadBuy']\n",
    "x_train, x_test, y_train, y_test = train_test_split(MyFeatures, label, test_size=0.25, random_state=0)"
   ]
  },
  {
   "cell_type": "markdown",
   "metadata": {},
   "source": [
    "# Using Pipelines to do an Initial cross validation between classifier"
   ]
  },
  {
   "cell_type": "code",
   "execution_count": 385,
   "metadata": {},
   "outputs": [],
   "source": [
    "pipeline_lr=Pipeline([('pca1',PCA(n_components=10)),\n",
    "                      ('lr_classifier',LogisticRegression(random_state=0))])"
   ]
  },
  {
   "cell_type": "code",
   "execution_count": 386,
   "metadata": {},
   "outputs": [],
   "source": [
    "pipeline_dt=Pipeline([('pca2',PCA(n_components=10)),\n",
    "                      ('dt_classifier',DecisionTreeClassifier())])"
   ]
  },
  {
   "cell_type": "code",
   "execution_count": 387,
   "metadata": {},
   "outputs": [],
   "source": [
    "pipeline_randomforest=Pipeline([('pca3',PCA(n_components=10)),\n",
    "                                ('rf_classifier',RandomForestClassifier())])"
   ]
  },
  {
   "cell_type": "code",
   "execution_count": 388,
   "metadata": {},
   "outputs": [],
   "source": [
    "## LEts make the list of pipelines\n",
    "pipelines = [pipeline_lr, pipeline_dt, pipeline_randomforest]"
   ]
  },
  {
   "cell_type": "code",
   "execution_count": 389,
   "metadata": {},
   "outputs": [],
   "source": [
    "best_accuracy=0.0\n",
    "best_classifier=0\n",
    "best_pipeline=\"\""
   ]
  },
  {
   "cell_type": "code",
   "execution_count": 390,
   "metadata": {},
   "outputs": [],
   "source": [
    "# Dictionary of pipelines and classifier types for ease of reference\n",
    "pipe_dict = {0: 'Logistic Regression', 1: 'Decision Tree', 2: 'RandomForest'}\n",
    "\n",
    "# Fit the pipelines\n",
    "for pipe in pipelines:\n",
    "\tpipe.fit(x_train, y_train)"
   ]
  },
  {
   "cell_type": "code",
   "execution_count": 391,
   "metadata": {},
   "outputs": [
    {
     "name": "stdout",
     "output_type": "stream",
     "text": [
      "Logistic Regression Test Accuracy: 0.5813953488372093\n",
      "Decision Tree Test Accuracy: 0.6064400715563506\n",
      "RandomForest Test Accuracy: 0.6554114490161002\n"
     ]
    }
   ],
   "source": [
    "for i,model in enumerate(pipelines):\n",
    "    print(\"{} Test Accuracy: {}\".format(pipe_dict[i],model.score(x_test,y_test)))"
   ]
  },
  {
   "cell_type": "markdown",
   "metadata": {},
   "source": [
    "# Random forest classifier Hyper parameter   tuning "
   ]
  },
  {
   "cell_type": "code",
   "execution_count": 395,
   "metadata": {},
   "outputs": [],
   "source": [
    "# Create a pipeline\n",
    "pipe = make_pipeline((RandomForestClassifier()))\n",
    "# Create dictionary with candidate learning algorithms and their hyperparameters\n",
    "grid_param = [\n",
    "                {\"randomforestclassifier\": [RandomForestClassifier()],\n",
    "                 \"randomforestclassifier__n_estimators\": [10, 100, 1000],\n",
    "                 \"randomforestclassifier__max_depth\":[5,8,15,25,30,None],\n",
    "                 \"randomforestclassifier__min_samples_leaf\":[1,2,5,10,15,100],\n",
    "                 \"randomforestclassifier__max_leaf_nodes\": [2, 5,10]}]\n",
    "# create a gridsearch of the pipeline, the fit the best model\n",
    "gridsearch = GridSearchCV(pipe, grid_param, cv=5, verbose=0,n_jobs=-1) # Fit grid search\n",
    "best_model = gridsearch.fit(x_train,y_train)"
   ]
  },
  {
   "cell_type": "code",
   "execution_count": 397,
   "metadata": {},
   "outputs": [
    {
     "data": {
      "text/plain": [
       "0.7198121645796064"
      ]
     },
     "execution_count": 397,
     "metadata": {},
     "output_type": "execute_result"
    }
   ],
   "source": [
    "best_model.score(x_test,y_test)"
   ]
  },
  {
   "cell_type": "code",
   "execution_count": 398,
   "metadata": {},
   "outputs": [
    {
     "name": "stdout",
     "output_type": "stream",
     "text": [
      "Pipeline(steps=[('randomforestclassifier',\n",
      "                 RandomForestClassifier(max_depth=25, max_leaf_nodes=10,\n",
      "                                        min_samples_leaf=5))])\n"
     ]
    }
   ],
   "source": [
    "print(best_model.best_estimator_)"
   ]
  },
  {
   "cell_type": "code",
   "execution_count": 401,
   "metadata": {},
   "outputs": [],
   "source": [
    "file = open('randomforestclassifier_model.pkl', 'wb')\n",
    "\n",
    "# dump information to that file\n",
    "pickle.dump(best_model, file)"
   ]
  }
 ],
 "metadata": {
  "colab": {
   "collapsed_sections": [],
   "name": "KickIT.ipynb",
   "provenance": []
  },
  "kernelspec": {
   "display_name": "Python 3 (ipykernel)",
   "language": "python",
   "name": "python3"
  },
  "language_info": {
   "codemirror_mode": {
    "name": "ipython",
    "version": 3
   },
   "file_extension": ".py",
   "mimetype": "text/x-python",
   "name": "python",
   "nbconvert_exporter": "python",
   "pygments_lexer": "ipython3",
   "version": "3.9.7"
  }
 },
 "nbformat": 4,
 "nbformat_minor": 1
}
