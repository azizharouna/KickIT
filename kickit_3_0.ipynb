{
 "cells": [
  {
   "cell_type": "code",
   "execution_count": 4,
   "id": "203b6175",
   "metadata": {},
   "outputs": [
    {
     "name": "stdout",
     "output_type": "stream",
     "text": [
      "Once deleted, variables cannot be recovered. Proceed (y/[n])? y\n"
     ]
    }
   ],
   "source": [
    "%reset \n"
   ]
  },
  {
   "cell_type": "code",
   "execution_count": 265,
   "id": "41c81c44",
   "metadata": {},
   "outputs": [],
   "source": [
    "%run  ./Kickit_app_transformers.py"
   ]
  },
  {
   "cell_type": "code",
   "execution_count": 328,
   "id": "00525a1c",
   "metadata": {},
   "outputs": [],
   "source": [
    "\n",
    "#from Kickit_app_transformers import Kickit_dataframe_preprocessor\n",
    "#from Kickit_app_transformers import Kickit_frequency_encoder\n",
    "#from Kickit_app_transformers import Kickit_weight_of_evidence_encoder\n",
    "#from Kickit_app_transformers import  Kickit_dataframe_balancer\n",
    "from sklearn.pipeline import Pipeline\n",
    "from sklearn.preprocessing import StandardScaler\n",
    "\n",
    "import warnings\n",
    "import pickle\n",
    "import pandas as pd\n",
    "import numpy as np\n",
    "from sklearn.ensemble import ExtraTreesRegressor\n",
    "import matplotlib.pyplot as plt\n",
    "from sklearn.tree import DecisionTreeClassifier\n",
    "from sklearn.ensemble import RandomForestClassifier\n",
    "from sklearn.linear_model import LogisticRegression\n",
    "from sklearn.model_selection import train_test_split\n",
    "from sklearn.pipeline import make_pipeline\n",
    "from sklearn.model_selection import GridSearchCV"
   ]
  },
  {
   "cell_type": "markdown",
   "id": "27d5f59e",
   "metadata": {},
   "source": [
    "# Reading the Data set"
   ]
  },
  {
   "cell_type": "code",
   "execution_count": 329,
   "id": "97686fcb",
   "metadata": {},
   "outputs": [
    {
     "data": {
      "text/html": [
       "<div>\n",
       "<style scoped>\n",
       "    .dataframe tbody tr th:only-of-type {\n",
       "        vertical-align: middle;\n",
       "    }\n",
       "\n",
       "    .dataframe tbody tr th {\n",
       "        vertical-align: top;\n",
       "    }\n",
       "\n",
       "    .dataframe thead th {\n",
       "        text-align: right;\n",
       "    }\n",
       "</style>\n",
       "<table border=\"1\" class=\"dataframe\">\n",
       "  <thead>\n",
       "    <tr style=\"text-align: right;\">\n",
       "      <th></th>\n",
       "      <th>IsBadBuy</th>\n",
       "      <th>PurchDate</th>\n",
       "      <th>Auction</th>\n",
       "      <th>VehYear</th>\n",
       "      <th>VehicleAge</th>\n",
       "      <th>Make</th>\n",
       "      <th>Model</th>\n",
       "      <th>Trim</th>\n",
       "      <th>SubModel</th>\n",
       "      <th>Color</th>\n",
       "      <th>...</th>\n",
       "      <th>MMRCurrentRetailAveragePrice</th>\n",
       "      <th>MMRCurrentRetailCleanPrice</th>\n",
       "      <th>PRIMEUNIT</th>\n",
       "      <th>AUCGUART</th>\n",
       "      <th>BYRNO</th>\n",
       "      <th>VNZIP1</th>\n",
       "      <th>VNST</th>\n",
       "      <th>VehBCost</th>\n",
       "      <th>IsOnlineSale</th>\n",
       "      <th>WarrantyCost</th>\n",
       "    </tr>\n",
       "  </thead>\n",
       "  <tbody>\n",
       "    <tr>\n",
       "      <th>0</th>\n",
       "      <td>0</td>\n",
       "      <td>1260144000</td>\n",
       "      <td>ADESA</td>\n",
       "      <td>2006</td>\n",
       "      <td>3</td>\n",
       "      <td>MAZDA</td>\n",
       "      <td>MAZDA3</td>\n",
       "      <td>i</td>\n",
       "      <td>4D SEDAN I</td>\n",
       "      <td>RED</td>\n",
       "      <td>...</td>\n",
       "      <td>11597</td>\n",
       "      <td>12409</td>\n",
       "      <td>?</td>\n",
       "      <td>?</td>\n",
       "      <td>21973</td>\n",
       "      <td>33619</td>\n",
       "      <td>FL</td>\n",
       "      <td>7100</td>\n",
       "      <td>0</td>\n",
       "      <td>1113</td>\n",
       "    </tr>\n",
       "    <tr>\n",
       "      <th>1</th>\n",
       "      <td>0</td>\n",
       "      <td>1260144000</td>\n",
       "      <td>ADESA</td>\n",
       "      <td>2004</td>\n",
       "      <td>5</td>\n",
       "      <td>DODGE</td>\n",
       "      <td>1500 RAM PICKUP 2WD</td>\n",
       "      <td>ST</td>\n",
       "      <td>QUAD CAB 4.7L SLT</td>\n",
       "      <td>WHITE</td>\n",
       "      <td>...</td>\n",
       "      <td>11374</td>\n",
       "      <td>12791</td>\n",
       "      <td>?</td>\n",
       "      <td>?</td>\n",
       "      <td>19638</td>\n",
       "      <td>33619</td>\n",
       "      <td>FL</td>\n",
       "      <td>7600</td>\n",
       "      <td>0</td>\n",
       "      <td>1053</td>\n",
       "    </tr>\n",
       "  </tbody>\n",
       "</table>\n",
       "<p>2 rows × 33 columns</p>\n",
       "</div>"
      ],
      "text/plain": [
       "   IsBadBuy   PurchDate Auction  VehYear  VehicleAge   Make  \\\n",
       "0         0  1260144000   ADESA     2006           3  MAZDA   \n",
       "1         0  1260144000   ADESA     2004           5  DODGE   \n",
       "\n",
       "                 Model Trim           SubModel  Color  ...  \\\n",
       "0               MAZDA3    i         4D SEDAN I    RED  ...   \n",
       "1  1500 RAM PICKUP 2WD   ST  QUAD CAB 4.7L SLT  WHITE  ...   \n",
       "\n",
       "  MMRCurrentRetailAveragePrice MMRCurrentRetailCleanPrice PRIMEUNIT  AUCGUART  \\\n",
       "0                        11597                      12409         ?         ?   \n",
       "1                        11374                      12791         ?         ?   \n",
       "\n",
       "   BYRNO VNZIP1 VNST VehBCost IsOnlineSale WarrantyCost  \n",
       "0  21973  33619   FL     7100            0         1113  \n",
       "1  19638  33619   FL     7600            0         1053  \n",
       "\n",
       "[2 rows x 33 columns]"
      ]
     },
     "execution_count": 329,
     "metadata": {},
     "output_type": "execute_result"
    }
   ],
   "source": [
    "# reading the dataset\n",
    "df_raw = pd.read_csv('kick.csv')\n",
    "df_raw.head(2)"
   ]
  },
  {
   "cell_type": "markdown",
   "id": "46952653",
   "metadata": {},
   "source": [
    "Extracting the axis of studies for the project custom to  ADESA website "
   ]
  },
  {
   "cell_type": "code",
   "execution_count": 330,
   "id": "7dd4c711",
   "metadata": {},
   "outputs": [
    {
     "name": "stdout",
     "output_type": "stream",
     "text": [
      "<class 'pandas.core.frame.DataFrame'>\n",
      "RangeIndex: 72983 entries, 0 to 72982\n",
      "Data columns (total 6 columns):\n",
      " #   Column                             Non-Null Count  Dtype \n",
      "---  ------                             --------------  ----- \n",
      " 0   Model                              72983 non-null  object\n",
      " 1   Make                               72983 non-null  object\n",
      " 2   Transmission                       72983 non-null  object\n",
      " 3   VehOdo                             72983 non-null  int64 \n",
      " 4   MMRAcquisitionAuctionAveragePrice  72983 non-null  object\n",
      " 5   IsBadBuy                           72983 non-null  int64 \n",
      "dtypes: int64(2), object(4)\n",
      "memory usage: 3.3+ MB\n"
     ]
    }
   ],
   "source": [
    "choosen_axis = [\"Model\", \"Make\" ,\"Transmission\",\"VehOdo\",\"MMRAcquisitionAuctionAveragePrice\", \"IsBadBuy\"]\n",
    "df_adesa_raw = df_raw[choosen_axis]\n",
    "\n",
    "df_adesa_raw.info()"
   ]
  },
  {
   "cell_type": "markdown",
   "id": "6e8a5b74",
   "metadata": {},
   "source": [
    "# Pre-processing Pipeline for the freqency encoding technique"
   ]
  },
  {
   "cell_type": "markdown",
   "id": "20e4e187",
   "metadata": {},
   "source": [
    "copying the raw data"
   ]
  },
  {
   "cell_type": "code",
   "execution_count": 331,
   "id": "eb0a8ebe",
   "metadata": {},
   "outputs": [],
   "source": [
    "df = df_adesa_raw.copy()"
   ]
  },
  {
   "cell_type": "markdown",
   "id": "6def8dcc",
   "metadata": {},
   "source": [
    " Instantiating the preprocessing pipeline objects"
   ]
  },
  {
   "cell_type": "code",
   "execution_count": 332,
   "id": "056920bb",
   "metadata": {},
   "outputs": [],
   "source": [
    "# this on will clean the data with respect to our strategy\n",
    "f_preprocess = Kickit_dataframe_preprocessor()\n",
    "# this one will balance the dataset\n",
    "f_balancer = Kickit_dataframe_balancer()\n",
    "# this one will use the frequency encoding technique for categorical variable \n",
    "freq_encoder = Kickit_frequency_encoder()"
   ]
  },
  {
   "cell_type": "markdown",
   "id": "801950b6",
   "metadata": {},
   "source": [
    "Creating a pipeline for the first preprocessing technique :based on count of  frequency encoder"
   ]
  },
  {
   "cell_type": "code",
   "execution_count": 333,
   "id": "3ff6d316",
   "metadata": {},
   "outputs": [],
   "source": [
    "freq_pipeline = Pipeline([(\"preprocess\",f_preprocess),(\"balancer\", f_balancer),\n",
    "                          (\"fencoder\",freq_encoder)])"
   ]
  },
  {
   "cell_type": "markdown",
   "id": "6408b581",
   "metadata": {},
   "source": [
    "preprocessing the dataframe with the count of frequency pipeline"
   ]
  },
  {
   "cell_type": "code",
   "execution_count": 334,
   "id": "61d700d3",
   "metadata": {},
   "outputs": [],
   "source": [
    "adesa_freq_pipe = freq_pipeline.fit_transform(df)"
   ]
  },
  {
   "cell_type": "markdown",
   "id": "1f62732a",
   "metadata": {},
   "source": [
    "checking the transformation for success"
   ]
  },
  {
   "cell_type": "code",
   "execution_count": 335,
   "id": "23673db8",
   "metadata": {},
   "outputs": [
    {
     "data": {
      "text/html": [
       "<div>\n",
       "<style scoped>\n",
       "    .dataframe tbody tr th:only-of-type {\n",
       "        vertical-align: middle;\n",
       "    }\n",
       "\n",
       "    .dataframe tbody tr th {\n",
       "        vertical-align: top;\n",
       "    }\n",
       "\n",
       "    .dataframe thead th {\n",
       "        text-align: right;\n",
       "    }\n",
       "</style>\n",
       "<table border=\"1\" class=\"dataframe\">\n",
       "  <thead>\n",
       "    <tr style=\"text-align: right;\">\n",
       "      <th></th>\n",
       "      <th>Model</th>\n",
       "      <th>Make</th>\n",
       "      <th>Transmission</th>\n",
       "      <th>VehOdo</th>\n",
       "      <th>MMRAcquisitionAuctionAveragePrice</th>\n",
       "      <th>IsBadBuy</th>\n",
       "    </tr>\n",
       "  </thead>\n",
       "  <tbody>\n",
       "    <tr>\n",
       "      <th>0</th>\n",
       "      <td>42</td>\n",
       "      <td>267</td>\n",
       "      <td>17137</td>\n",
       "      <td>89046</td>\n",
       "      <td>8155.0</td>\n",
       "      <td>0</td>\n",
       "    </tr>\n",
       "    <tr>\n",
       "      <th>1</th>\n",
       "      <td>230</td>\n",
       "      <td>2923</td>\n",
       "      <td>17137</td>\n",
       "      <td>93593</td>\n",
       "      <td>6854.0</td>\n",
       "      <td>0</td>\n",
       "    </tr>\n",
       "    <tr>\n",
       "      <th>2</th>\n",
       "      <td>138</td>\n",
       "      <td>2923</td>\n",
       "      <td>17137</td>\n",
       "      <td>73807</td>\n",
       "      <td>3202.0</td>\n",
       "      <td>0</td>\n",
       "    </tr>\n",
       "    <tr>\n",
       "      <th>3</th>\n",
       "      <td>135</td>\n",
       "      <td>2923</td>\n",
       "      <td>17137</td>\n",
       "      <td>65617</td>\n",
       "      <td>1893.0</td>\n",
       "      <td>0</td>\n",
       "    </tr>\n",
       "    <tr>\n",
       "      <th>4</th>\n",
       "      <td>244</td>\n",
       "      <td>2977</td>\n",
       "      <td>586</td>\n",
       "      <td>69367</td>\n",
       "      <td>3913.0</td>\n",
       "      <td>0</td>\n",
       "    </tr>\n",
       "  </tbody>\n",
       "</table>\n",
       "</div>"
      ],
      "text/plain": [
       "   Model  Make  Transmission  VehOdo  MMRAcquisitionAuctionAveragePrice  \\\n",
       "0     42   267         17137   89046                             8155.0   \n",
       "1    230  2923         17137   93593                             6854.0   \n",
       "2    138  2923         17137   73807                             3202.0   \n",
       "3    135  2923         17137   65617                             1893.0   \n",
       "4    244  2977           586   69367                             3913.0   \n",
       "\n",
       "   IsBadBuy  \n",
       "0         0  \n",
       "1         0  \n",
       "2         0  \n",
       "3         0  \n",
       "4         0  "
      ]
     },
     "execution_count": 335,
     "metadata": {},
     "output_type": "execute_result"
    }
   ],
   "source": [
    "adesa_freq_pipe.head(5)"
   ]
  },
  {
   "cell_type": "code",
   "execution_count": 336,
   "id": "634b52ee",
   "metadata": {},
   "outputs": [
    {
     "name": "stdout",
     "output_type": "stream",
     "text": [
      "<class 'pandas.core.frame.DataFrame'>\n",
      "RangeIndex: 17724 entries, 0 to 17723\n",
      "Data columns (total 6 columns):\n",
      " #   Column                             Non-Null Count  Dtype  \n",
      "---  ------                             --------------  -----  \n",
      " 0   Model                              17724 non-null  int64  \n",
      " 1   Make                               17724 non-null  int64  \n",
      " 2   Transmission                       17724 non-null  int64  \n",
      " 3   VehOdo                             17724 non-null  int64  \n",
      " 4   MMRAcquisitionAuctionAveragePrice  17724 non-null  float64\n",
      " 5   IsBadBuy                           17724 non-null  int64  \n",
      "dtypes: float64(1), int64(5)\n",
      "memory usage: 830.9 KB\n"
     ]
    }
   ],
   "source": [
    "adesa_freq_pipe.info()"
   ]
  },
  {
   "cell_type": "markdown",
   "id": "63e36118",
   "metadata": {},
   "source": [
    "###  Modelization based on frequency count"
   ]
  },
  {
   "cell_type": "markdown",
   "id": "11ec4236",
   "metadata": {},
   "source": [
    " preparing and spliting the dataset for the modelization"
   ]
  },
  {
   "cell_type": "code",
   "execution_count": 337,
   "id": "e207e47d",
   "metadata": {},
   "outputs": [],
   "source": [
    "features = adesa_freq_pipe.drop(\"IsBadBuy\", axis =1)\n",
    "target = adesa_freq_pipe[\"IsBadBuy\"]\n",
    "x_ftrain, x_ftest, y_ftrain, y_ftest = train_test_split(features, target, test_size=0.25, random_state=0)"
   ]
  },
  {
   "cell_type": "markdown",
   "id": "4da002c0",
   "metadata": {},
   "source": [
    "Creating a list of pipelines for three different candidate classifiers "
   ]
  },
  {
   "cell_type": "code",
   "execution_count": 338,
   "id": "9fa3cdfc",
   "metadata": {},
   "outputs": [],
   "source": [
    "f_scaler = StandardScaler()\n",
    "f_randomForest = RandomForestClassifier()\n",
    "f_logisticRegr = LogisticRegression(random_state=0)\n",
    "f_decisionTree = DecisionTreeClassifier()\n",
    "\n",
    "freq_bench_cross = [Pipeline([(\"scaler\",f_scaler), ('lr_classifier', f_logisticRegr)]),\n",
    "                    Pipeline([('dt_classifier', f_decisionTree)]),\n",
    "                    Pipeline([('rf_classifier', f_randomForest)])] "
   ]
  },
  {
   "cell_type": "code",
   "execution_count": 339,
   "id": "fae82752",
   "metadata": {},
   "outputs": [],
   "source": [
    "# Dictionary of pipelines and classifier types for ease of reference\n",
    "freq_pipe_dict = {0: 'Logistic Regression', 1: 'Decision Tree', 2: 'RandomForest'}\n",
    "\n",
    "# Fit the pipelines\n",
    "for pipe in freq_bench_cross:\n",
    "    pipe.fit(x_ftrain, y_ftrain)"
   ]
  },
  {
   "cell_type": "code",
   "execution_count": 340,
   "id": "3216c1d9",
   "metadata": {},
   "outputs": [
    {
     "name": "stdout",
     "output_type": "stream",
     "text": [
      "Logistic Regression with count of frequency Test Accuracy: 0.5899345520198601\n",
      "Decision Tree with count of frequency Test Accuracy: 0.5538253215978335\n",
      "RandomForest with count of frequency Test Accuracy: 0.590611600090273\n"
     ]
    }
   ],
   "source": [
    "for i,model in enumerate(freq_bench_cross):\n",
    "    print(\"{} with count of frequency Test Accuracy: {}\".format(freq_pipe_dict[i],model.score(x_ftest,y_ftest)))"
   ]
  },
  {
   "cell_type": "markdown",
   "id": "48c36292",
   "metadata": {},
   "source": [
    "# Pipelines for the Weight of Evidence  encoding technique"
   ]
  },
  {
   "cell_type": "markdown",
   "id": "f563d4e2",
   "metadata": {},
   "source": [
    "### Preprocessing the dataframe with the weight of evidence pipeline"
   ]
  },
  {
   "cell_type": "code",
   "execution_count": 341,
   "id": "eef9e318",
   "metadata": {},
   "outputs": [],
   "source": [
    "df = df_adesa_raw.copy()"
   ]
  },
  {
   "cell_type": "markdown",
   "id": "6e966b32",
   "metadata": {},
   "source": [
    " Instantiating the pipeline object"
   ]
  },
  {
   "cell_type": "code",
   "execution_count": 342,
   "id": "26f0525e",
   "metadata": {},
   "outputs": [],
   "source": [
    "# this on will clean the data with respect to our requirements\n",
    "w_preprocess = Kickit_dataframe_preprocessor()\n",
    "# this one will balance the dataset\n",
    "w_balancer = Kickit_dataframe_balancer()\n",
    "# # this one will use the weight of evidence encoding technique for categorical variable \n",
    "woe_encoder = Kickit_weight_of_evidence_encoder()"
   ]
  },
  {
   "cell_type": "markdown",
   "id": "758854ce",
   "metadata": {},
   "source": [
    "#Creating a pipeline for the second  preprocessing technique :based on the weight of evidence encoder"
   ]
  },
  {
   "cell_type": "code",
   "execution_count": 343,
   "id": "93ef72b1",
   "metadata": {},
   "outputs": [],
   "source": [
    "woe_pipeline = Pipeline([(\"preprocess\",w_preprocess),(\"balancer\", w_balancer),\n",
    "                         (\"woe_encoder\", woe_encoder),(\"2nd balancer\", w_balancer)])"
   ]
  },
  {
   "cell_type": "markdown",
   "id": "b649e829",
   "metadata": {},
   "source": [
    "preprocessing the dataframe with the weight of evidence pipeline"
   ]
  },
  {
   "cell_type": "code",
   "execution_count": 344,
   "id": "3ec67a43",
   "metadata": {},
   "outputs": [],
   "source": [
    "# the next command  after this will raise an unecessary warning message, this will help keep the notebook clean\n",
    "warnings.filterwarnings('ignore')"
   ]
  },
  {
   "cell_type": "code",
   "execution_count": 345,
   "id": "cd6b2397",
   "metadata": {},
   "outputs": [],
   "source": [
    "adesa_woe_pipe = woe_pipeline.fit_transform(df)"
   ]
  },
  {
   "cell_type": "code",
   "execution_count": 346,
   "id": "a3313275",
   "metadata": {},
   "outputs": [
    {
     "data": {
      "text/plain": [
       "8180"
      ]
     },
     "execution_count": 346,
     "metadata": {},
     "output_type": "execute_result"
    }
   ],
   "source": [
    "adesa_woe_pipe['IsBadBuy'].sum()"
   ]
  },
  {
   "cell_type": "code",
   "execution_count": 347,
   "id": "34172f0f",
   "metadata": {},
   "outputs": [
    {
     "data": {
      "text/html": [
       "<div>\n",
       "<style scoped>\n",
       "    .dataframe tbody tr th:only-of-type {\n",
       "        vertical-align: middle;\n",
       "    }\n",
       "\n",
       "    .dataframe tbody tr th {\n",
       "        vertical-align: top;\n",
       "    }\n",
       "\n",
       "    .dataframe thead th {\n",
       "        text-align: right;\n",
       "    }\n",
       "</style>\n",
       "<table border=\"1\" class=\"dataframe\">\n",
       "  <thead>\n",
       "    <tr style=\"text-align: right;\">\n",
       "      <th></th>\n",
       "      <th>Model</th>\n",
       "      <th>Make</th>\n",
       "      <th>Transmission</th>\n",
       "      <th>VehOdo</th>\n",
       "      <th>MMRAcquisitionAuctionAveragePrice</th>\n",
       "      <th>IsBadBuy</th>\n",
       "      <th>Model_encoded</th>\n",
       "      <th>Make_encoded</th>\n",
       "      <th>Transmission_encoded</th>\n",
       "    </tr>\n",
       "  </thead>\n",
       "  <tbody>\n",
       "    <tr>\n",
       "      <th>0</th>\n",
       "      <td>MAZDA3</td>\n",
       "      <td>MAZDA</td>\n",
       "      <td>AUTO</td>\n",
       "      <td>89046</td>\n",
       "      <td>8155.0</td>\n",
       "      <td>0</td>\n",
       "      <td>0.376478</td>\n",
       "      <td>-0.256720</td>\n",
       "      <td>0.027895</td>\n",
       "    </tr>\n",
       "    <tr>\n",
       "      <th>1</th>\n",
       "      <td>1500 RAM PICKUP 2WD</td>\n",
       "      <td>DODGE</td>\n",
       "      <td>AUTO</td>\n",
       "      <td>93593</td>\n",
       "      <td>6854.0</td>\n",
       "      <td>0</td>\n",
       "      <td>-0.156161</td>\n",
       "      <td>0.199403</td>\n",
       "      <td>0.027895</td>\n",
       "    </tr>\n",
       "    <tr>\n",
       "      <th>2</th>\n",
       "      <td>STRATUS V6</td>\n",
       "      <td>DODGE</td>\n",
       "      <td>AUTO</td>\n",
       "      <td>73807</td>\n",
       "      <td>3202.0</td>\n",
       "      <td>0</td>\n",
       "      <td>0.499331</td>\n",
       "      <td>0.199403</td>\n",
       "      <td>0.027895</td>\n",
       "    </tr>\n",
       "    <tr>\n",
       "      <th>3</th>\n",
       "      <td>NEON</td>\n",
       "      <td>DODGE</td>\n",
       "      <td>AUTO</td>\n",
       "      <td>65617</td>\n",
       "      <td>1893.0</td>\n",
       "      <td>0</td>\n",
       "      <td>-0.590075</td>\n",
       "      <td>0.199403</td>\n",
       "      <td>0.027895</td>\n",
       "    </tr>\n",
       "    <tr>\n",
       "      <th>4</th>\n",
       "      <td>FOCUS</td>\n",
       "      <td>FORD</td>\n",
       "      <td>MANUAL</td>\n",
       "      <td>69367</td>\n",
       "      <td>3913.0</td>\n",
       "      <td>0</td>\n",
       "      <td>-0.570053</td>\n",
       "      <td>-0.288186</td>\n",
       "      <td>-0.015355</td>\n",
       "    </tr>\n",
       "  </tbody>\n",
       "</table>\n",
       "</div>"
      ],
      "text/plain": [
       "                 Model   Make Transmission  VehOdo  \\\n",
       "0               MAZDA3  MAZDA         AUTO   89046   \n",
       "1  1500 RAM PICKUP 2WD  DODGE         AUTO   93593   \n",
       "2           STRATUS V6  DODGE         AUTO   73807   \n",
       "3                 NEON  DODGE         AUTO   65617   \n",
       "4                FOCUS   FORD       MANUAL   69367   \n",
       "\n",
       "   MMRAcquisitionAuctionAveragePrice  IsBadBuy  Model_encoded  Make_encoded  \\\n",
       "0                             8155.0         0       0.376478     -0.256720   \n",
       "1                             6854.0         0      -0.156161      0.199403   \n",
       "2                             3202.0         0       0.499331      0.199403   \n",
       "3                             1893.0         0      -0.590075      0.199403   \n",
       "4                             3913.0         0      -0.570053     -0.288186   \n",
       "\n",
       "   Transmission_encoded  \n",
       "0              0.027895  \n",
       "1              0.027895  \n",
       "2              0.027895  \n",
       "3              0.027895  \n",
       "4             -0.015355  "
      ]
     },
     "execution_count": 347,
     "metadata": {},
     "output_type": "execute_result"
    }
   ],
   "source": [
    "# checking results\n",
    "adesa_woe_pipe.head(5)"
   ]
  },
  {
   "cell_type": "code",
   "execution_count": 348,
   "id": "5a4d20b9",
   "metadata": {},
   "outputs": [
    {
     "data": {
      "text/plain": [
       "0.19940286644922028"
      ]
     },
     "execution_count": 348,
     "metadata": {},
     "output_type": "execute_result"
    }
   ],
   "source": [
    "\n",
    "woe_cat_dict.get('DODGE')"
   ]
  },
  {
   "cell_type": "code",
   "execution_count": 349,
   "id": "4e29a199",
   "metadata": {},
   "outputs": [
    {
     "data": {
      "text/plain": [
       "-0.25671984684781396"
      ]
     },
     "execution_count": 349,
     "metadata": {},
     "output_type": "execute_result"
    }
   ],
   "source": [
    "woe_cat_dict.get('MAZDA')"
   ]
  },
  {
   "cell_type": "code",
   "execution_count": 350,
   "id": "7302a8aa",
   "metadata": {},
   "outputs": [
    {
     "data": {
      "text/plain": [
       "0.37647757123491205"
      ]
     },
     "execution_count": 350,
     "metadata": {},
     "output_type": "execute_result"
    }
   ],
   "source": [
    "woe_cat_dict.get('MAZDA3')"
   ]
  },
  {
   "cell_type": "code",
   "execution_count": 351,
   "id": "a11c003e",
   "metadata": {},
   "outputs": [
    {
     "data": {
      "text/plain": [
       "{'1500 RAM PICKUP 2WD': -0.15616073075528253,\n",
       " '1500 RAM PICKUP 4WD': -0.3677247801253174,\n",
       " '1500 SIERRA PICKUP 2': 0.4895482253187058,\n",
       " '1500 SILVERADO PICKU': 0.7073318155519017,\n",
       " '2500 RAM PICKUP 2WD': -0.5108256237659907,\n",
       " '2500HD SILVERADO PIC': -0.587786664902119,\n",
       " '300': 0.8226812327518476,\n",
       " '300 2.7L V6 MPI': 1.0986122886681098,\n",
       " '300M': -1.0986122886681098,\n",
       " '300M 3.5L V6 MPI': -0.8472978603872037,\n",
       " 'ACCENT': -0.04348511193973878,\n",
       " 'ACCENT 1.6L I4 MPI': -0.4228568508200336,\n",
       " 'ACCORD 4C': 0.5877866649021191,\n",
       " 'ACCORD 4C 2.4L I-4 M': 0.8472978603872037,\n",
       " 'ACCORD V6': 0.8209805520698303,\n",
       " 'ACCORD V6 3.0L V6 EF': 0.5877866649021191,\n",
       " 'ALERO 4C': 0.14842000511827322,\n",
       " 'ALERO 4C 2.2L I4 MPI': -0.7884573603642702,\n",
       " 'ALERO V6': -1.466337068793427,\n",
       " 'ALERO V6 3.4L V6 MPI': -0.6359887667199967,\n",
       " 'ALTIMA': 0.17010596902583072,\n",
       " 'ALTIMA 2.5L I4 EFI': -0.9382696385929302,\n",
       " 'ALTIMA 2.5L I4 MPI': 0.23180161405732438,\n",
       " 'AMANTI': 0.5877866649021191,\n",
       " 'AMANTI 3.5L V6 MPI': -0.25131442828090605,\n",
       " 'ASCENDER 2WD 6C': 0.4519851237430572,\n",
       " 'ASCENDER 2WD 6C 4.2L': 0.9555114450274363,\n",
       " 'AURA': 0.7621400520468967,\n",
       " 'AURA V6': 1.6863989535702288,\n",
       " 'AVALANCHE 1500 2WD V': -0.08338160893905101,\n",
       " 'AVALON': -0.5108256237659907,\n",
       " 'AVENGER 4C': 0.8221393007510486,\n",
       " 'AVENGER 4C 2.4L I4 S': 0.29626581614317243,\n",
       " 'AVENGER V6': 2.120263536200091,\n",
       " 'AVEO': -0.2616450986687856,\n",
       " 'AVEO 1.6L I4 EFI': -0.3894647667617233,\n",
       " 'AVEO 1.6L I4 EFI / M': 0.8472978603872037,\n",
       " 'AXIOM 2WD V6 3.5L V6': -0.5108256237659907,\n",
       " 'B3000 PICKUP 2WD V6': -0.8472978603872037,\n",
       " 'BEETLE': 0.4519851237430572,\n",
       " 'BEETLE 2.0L I4 MFI /': -0.5108256237659907,\n",
       " 'BONNEVILLE': -0.9555114450274363,\n",
       " 'BONNEVILLE 3.8L V6 M': -0.9985288301111273,\n",
       " 'BRAVADA AWD V6': -0.5108256237659907,\n",
       " 'CALIBER': -0.4895482253187058,\n",
       " 'CALIBER 2.0L I4 SFI': 0.3364722366212129,\n",
       " 'CAMRY 4C': 0.6007738604289301,\n",
       " 'CAMRY 4C 2.4L I-4 EF': -0.5108256237659907,\n",
       " 'CAMRY 4C 2.4L I-4 SF': -0.8472978603872037,\n",
       " 'CAMRY 4C 2.4L I4 SFI': -0.5108256237659907,\n",
       " 'CAMRY SOLARA 4C': 0.3364722366212129,\n",
       " 'CAMRY SOLARA V6': -0.3364722366212129,\n",
       " 'CAMRY V6': -0.1431008436406733,\n",
       " 'CANYON PICKUP 2WD I5': -0.5108256237659907,\n",
       " 'CARAVAN FWD 4C': -0.2006706954621511,\n",
       " 'CARAVAN FWD 4C 2.4L': -0.6109090823229733,\n",
       " 'CARAVAN FWD V6': 0.651761964397091,\n",
       " 'CARAVAN FWD V6 3.3L': 0.25629575863111026,\n",
       " 'CARAVAN GRAND FWD V6': 0.10312158940670604,\n",
       " 'CAVALIER 4C': -0.4638371143300716,\n",
       " 'CAVALIER 4C 2.2L I-4': -0.587786664902119,\n",
       " 'CAVALIER 4C 2.2L I4': -0.3999856423435389,\n",
       " 'CENTURY V6': -0.6109090823229733,\n",
       " 'CENTURY V6 3.1L V6 S': -0.3101549283038396,\n",
       " 'CHARGER': 0.494696241836107,\n",
       " 'CHARGER 2.7L V6 MPI': 1.413693335308005,\n",
       " 'CHARGER V6': 0.7926767759069784,\n",
       " 'CHARGER V6 2.7L V6 M': 1.133098464739279,\n",
       " 'CHARGER V6 3.5L V6 E': -0.3364722366212129,\n",
       " 'CIVIC': -0.3894647667617233,\n",
       " 'COBALT': 0.06875559541512996,\n",
       " 'COBALT 2.2L I4 MPI': 0.7944009142651182,\n",
       " 'COBALT 2.2L I4 MPI /': 0.9555114450274363,\n",
       " 'COLORADO PICKUP 2WD': 0.4895482253187058,\n",
       " 'COMMANDER 2WD V6': 0.16705408466316624,\n",
       " 'COMMANDER 2WD V6 3.7': 1.0986122886681098,\n",
       " 'COMMANDER 2WD V8': 0.8472978603872037,\n",
       " 'COMMANDER 4WD V6': -1.466337068793427,\n",
       " 'COMMANDER 4WD V8': 0.5108256237659907,\n",
       " 'COMPASS 4WD 4C': 0.5108256237659907,\n",
       " 'COMPASS FWD 4C': -1.845826690498331,\n",
       " 'CONCORDE': -0.25131442828090605,\n",
       " 'CONCORDE 3.5L V6 MPI': -0.3364722366212129,\n",
       " 'COOPER': -0.3364722366212129,\n",
       " 'COROLLA': 0.19574457712609533,\n",
       " 'CR-V 4WD': -0.3364722366212129,\n",
       " 'DAKOTA PICKUP 2WD V6': -0.17284281283941083,\n",
       " 'DAKOTA PICKUP 2WD V8': -0.7472144018302211,\n",
       " 'DURANGO 2WD V6': -0.12921173148000623,\n",
       " 'DURANGO 2WD V6 3.7L': -0.5465437063680699,\n",
       " 'DURANGO 2WD V8': 0.32132043160061075,\n",
       " 'DURANGO 2WD V8 4.7L': 0.3128723212803394,\n",
       " 'DURANGO 2WD V8 5.7L': 0.25131442828090617,\n",
       " 'DURANGO 4WD V8': 0.16400297627026988,\n",
       " 'DURANGO 4WD V8 4.7L': 0.30673026742247544,\n",
       " 'DURANGO 4WD V8 SEFI': 0.5108256237659907,\n",
       " 'ECLIPSE': -0.7375989431307791,\n",
       " 'ELANTRA': 0.26341745045214976,\n",
       " 'ELANTRA 2.0L I4 MPI': 0.1502822030493379,\n",
       " 'ELANTRA MFI I-4 2.0L': 0.8472978603872037,\n",
       " 'ELEMENT 2WD': -0.3364722366212129,\n",
       " 'ENDEAVOR FWD': -0.11122563511022437,\n",
       " 'ENDEAVOR FWD 3.8L V6': 1.466337068793427,\n",
       " 'ENVOY 2WD 6C': 0.7221347174331975,\n",
       " 'ENVOY 2WD 6C 4.2L I-': -0.8472978603872037,\n",
       " 'ENVOY 2WD 6C 4.2L I6': 0.4353180712578455,\n",
       " 'ENVOY 4WD 6C': -1.2367626271489267,\n",
       " 'ENVOY 4WD 6C 4.2L I6': 1.6094379124341003,\n",
       " 'ENVOY XL 2WD 6C': 0.6190392084062235,\n",
       " 'ENVOY XL 2WD 6C 4.2L': 1.0986122886681098,\n",
       " 'ENVOY XL 4WD 6C': 0.5877866649021191,\n",
       " 'EQUINOX AWD V6': -0.6690496289808848,\n",
       " 'EQUINOX AWD V6 3.4L': -0.3513978868378886,\n",
       " 'EQUINOX FWD V6': 0.12210269680089991,\n",
       " 'EQUINOX FWD V6 3.4L': 0.14310084364067324,\n",
       " 'ES300 3.0L V6 EFI': -0.5108256237659907,\n",
       " 'ESCAPE 2WD 4C': -0.5280674302004967,\n",
       " 'ESCAPE 2WD 4C 2.3L I': 0.14310084364067324,\n",
       " 'ESCAPE 2WD V6': -0.12516314295400605,\n",
       " 'ESCAPE 2WD V6 3.0L V': -0.29849298855599654,\n",
       " 'ESCAPE 4WD V6': -0.7884573603642702,\n",
       " 'EXPEDITION 2WD V8': -0.7777045685880083,\n",
       " 'EXPEDITION 2WD V8 4.': -0.578077850775158,\n",
       " 'EXPEDITION 2WD V8 5.': -1.4087672169719492,\n",
       " 'EXPEDITION 4WD V8': -1.1962507582320256,\n",
       " 'EXPEDITION 4WD V8 4.': 1.2237754316221157,\n",
       " 'EXPEDITION 4WD V8 5.': -0.419853845560264,\n",
       " 'EXPLORER 2WD V6': -1.0986122886681098,\n",
       " 'EXPLORER 2WD V6 4.0L': -0.9620367536623589,\n",
       " 'EXPLORER 2WD V8 4.6L': -1.2992829841302609,\n",
       " 'EXPLORER 4WD V6': -0.587786664902119,\n",
       " 'EXPLORER 4WD V6 4.0L': -0.26469255422708216,\n",
       " 'EXPLORER 4WD V8': -1.9459101490553135,\n",
       " 'F150 PICKUP 2WD V6': -0.22957444164450025,\n",
       " 'F150 PICKUP 2WD V6 4': -0.6632942174102642,\n",
       " 'F150 PICKUP 2WD V8': -0.06524052186840097,\n",
       " 'F150 PICKUP 2WD V8 4': 0.9057086225436182,\n",
       " 'F150 PICKUP 2WD V8 5': -0.3513978868378886,\n",
       " 'F150 PICKUP 4WD V8': -1.3350010667323402,\n",
       " 'FIVE HUNDRED': 0.4828517717235845,\n",
       " 'FIVE HUNDRED 3.0L V6': 0.20067069546215124,\n",
       " 'FOCUS': -0.570053457966324,\n",
       " 'FOCUS 2.0L I-4 SFI D': -0.3677247801253174,\n",
       " 'FOCUS 2.0L I-4 SFI S': -0.9555114450274363,\n",
       " 'FOCUS 2.0L I4 EFI': -1.7346010553881064,\n",
       " 'FOCUS 2.0L I4 MFI /': -1.0986122886681098,\n",
       " 'FOCUS 2.0L I4 SFI': -0.1688208695750521,\n",
       " 'FOCUS 2.0L I4 SPI': -1.466337068793427,\n",
       " 'FOCUS 2.3L I4 DOHC': -1.466337068793427,\n",
       " 'FORENZA': -0.38395890288720075,\n",
       " 'FORENZA 2.0L I4 EFI': -0.28394375034117386,\n",
       " 'FORESTER AWD': 0.5108256237659907,\n",
       " 'FREESTAR FWD V6': 0.09646026618756232,\n",
       " 'FREESTAR FWD V6 3.9L': -0.2835752904991275,\n",
       " 'FREESTAR FWD V6 4.2L': 0.5108256237659907,\n",
       " 'FREESTYLE 2WD V6': -0.2682639865946794,\n",
       " 'FREESTYLE 2WD V6 3.0': 0.3364722366212129,\n",
       " 'FREESTYLE AWD V6': 1.0986122886681098,\n",
       " 'FREESTYLE AWD V6 3.0': 0.5877866649021191,\n",
       " 'FREESTYLE FWD V6': 0.12136085700426753,\n",
       " 'FREESTYLE FWD V6 3.0': 0.3513978868378886,\n",
       " 'FRONTIER PICKUP 2WD': -1.0216512475319814,\n",
       " 'FUSION 4C': 0.4563567154045537,\n",
       " 'FUSION 4C 2.3L I4 EF': 0.5465437063680699,\n",
       " 'FUSION V6': 0.7963314167951762,\n",
       " 'G35': -0.587786664902119,\n",
       " 'G5 4C': -0.7621400520468967,\n",
       " 'G6 4C': 0.5942072327050417,\n",
       " 'G6 4C 2.4L I4 MFI /': 0.20067069546215124,\n",
       " 'G6 V6': 0.6412623451909336,\n",
       " 'G6 V6 3.5L V6 SFI': 0.578077850775158,\n",
       " 'GALANT 4C': 0.653926467406664,\n",
       " 'GALANT 4C 2.4L I4 EF': 0.21130909366720696,\n",
       " 'GRAND AM 4C': -1.349926716949016,\n",
       " 'GRAND AM 4C 2.2L I4': -0.3364722366212129,\n",
       " 'GRAND AM V6': -0.9354606479818753,\n",
       " 'GRAND AM V6 3.4L V6': -0.7707054149058198,\n",
       " 'GRAND CHEROKEE 2WD 6': -0.9279867716373464,\n",
       " 'GRAND CHEROKEE 2WD V': -0.25857398829371026,\n",
       " 'GRAND CHEROKEE 4WD 6': -0.7375989431307791,\n",
       " 'GRAND CHEROKEE 4WD V': -0.07847161544149521,\n",
       " 'GRAND MARQUIS': -1.6094379124341003,\n",
       " 'GRAND PRIX': 0.35723975615369113,\n",
       " 'GRAND PRIX 3.1L V6 S': -1.0216512475319814,\n",
       " 'GRAND PRIX 3.8L V6 M': -1.2237754316221157,\n",
       " 'GRAND PRIX 3.8L V6 S': 0.688463331247519,\n",
       " 'GRAND VITARA 2WD': -1.0986122886681098,\n",
       " 'HHR': 0.5108256237659907,\n",
       " 'HHR 2.2L I4 MPI': 0.5108256237659907,\n",
       " 'HHR 2.4L I-4 MPI': -0.3364722366212129,\n",
       " 'HIGHLANDER 2WD V6': -0.5108256237659907,\n",
       " 'HIGHLANDER 2WD V6 3.': 0.5108256237659907,\n",
       " 'IMPALA': 0.47354624267324213,\n",
       " 'IMPALA 3.4L V6 SFI': -0.21392689620928568,\n",
       " 'IMPALA 3.5L V6 SFI': 0.9985288301111273,\n",
       " 'IMPALA 3.8L V6 MFI': -0.7621400520468967,\n",
       " 'IMPALA 3.8L V6 SFI': -0.4274440148269396,\n",
       " 'IMPALA 3.9L V6 SFI': -1.2992829841302609,\n",
       " 'IMPALA V6': 1.4842747694800944,\n",
       " 'IMPALA V6 3.5L V6 SF': 0.9028677115420144,\n",
       " 'INTREPID 3.5L V6 MPI': -0.8472978603872037,\n",
       " 'ION': -0.26469255422708216,\n",
       " 'ION 2.0L I4 MPI': 0.7621400520468967,\n",
       " 'ION 2.2L I4 EFI': 0.4353180712578455,\n",
       " 'ION 2.2L I4 EFI / SF': -0.19105523676270922,\n",
       " 'ION 2.2L I4 MPI': 0.31015492830383945,\n",
       " 'JETTA 5C': -0.10008345855698253,\n",
       " 'L SERIES': -1.0319209141694374,\n",
       " 'L SERIES 2.0L I-4 MP': -0.5108256237659907,\n",
       " 'L SERIES 2.0L I4 MPI': -0.8472978603872037,\n",
       " 'L SERIES 2.2L I4 MPI': -0.7884573603642702,\n",
       " 'L SERIES 3.0L V6 EFI': -2.001480000210124,\n",
       " 'LACROSSE': 0.5465437063680699,\n",
       " 'LACROSSE 3.8L V6 SFI': 1.0986122886681098,\n",
       " 'LANCER': -0.3150810466398954,\n",
       " 'LANCER 2.0L I4 MPI': -0.3513978868378886,\n",
       " 'LANCER 2.4L I4 MPI': 0.5108256237659907,\n",
       " 'LE SABRE': -0.6539264674066639,\n",
       " 'LE SABRE 3.8L V6 MFI': -0.9985288301111273,\n",
       " 'LE SABRE Unspecified': 0.14310084364067324,\n",
       " 'LIBERTY 2WD 4C': -1.7346010553881064,\n",
       " 'LIBERTY 2WD V6': 0.46734051182625186,\n",
       " 'LIBERTY 4WD V6': -0.05971923470162231,\n",
       " 'LIBERTY 4WD V6 3.7L': 0.31015492830383945,\n",
       " 'MAGNUM V6': 0.9694005571881035,\n",
       " 'MAGNUM V6 2.7L V6 MP': 1.1468143904859875,\n",
       " 'MAGNUM V6 3.5L V6 MP': 0.5108256237659907,\n",
       " 'MALIBU 4C': 0.9042985828288912,\n",
       " 'MALIBU 4C 2.2L I4 MF': 1.466337068793427,\n",
       " 'MALIBU 4C 2.2L I4 MP': 0.5073412996833798,\n",
       " 'MALIBU MAXX V6': 0.2273898421956608,\n",
       " 'MALIBU MAXX V6 3.5L': -0.058840500022933465,\n",
       " 'MALIBU V6': 0.26175838744198926,\n",
       " 'MALIBU V6 3.1L V6 SF': -1.3993664426872434,\n",
       " 'MALIBU V6 3.5L V6 SF': 0.37351350830156194,\n",
       " 'MARINER 2WD 4C 2.3L': 0.5108256237659907,\n",
       " 'MARINER 2WD V6': 0.25131442828090617,\n",
       " 'MARINER 2WD V6 3.0L': 1.0986122886681098,\n",
       " 'MARINER 4WD V6': 0.4519851237430572,\n",
       " 'MARINER 4WD V6 3.0L': 0.31015492830383945,\n",
       " 'MATRIX 2WD': -0.7308875085427924,\n",
       " 'MAXIMA': -1.4008931605410433,\n",
       " 'MAXIMA 3.5L V6 MPI': -1.0986122886681098,\n",
       " 'MAXIMA MFI V6 3.5L D': -0.7884573603642702,\n",
       " 'MAZDA3': 0.37647757123491205,\n",
       " 'MAZDA3 2.0L I4 MPI': -0.5108256237659907,\n",
       " 'MAZDA5': -0.25131442828090605,\n",
       " 'MAZDA6': -0.5764229062518039,\n",
       " 'MAZDA6 2.3L I4 MFI /': 0.5877866649021191,\n",
       " 'MAZDA6 2.3L I4 MPI': 1.2992829841302609,\n",
       " 'MILAN 4C': 1.2656663733312759,\n",
       " 'MILAN V6': 1.466337068793427,\n",
       " 'MONTANA': -0.9028677115420143,\n",
       " 'MONTANA 3.4L V6 EFI': -0.8979415932059586,\n",
       " 'MONTANA 3.4L V6 SFI': 0.5108256237659907,\n",
       " 'MONTE CARLO': -0.033336420267591836,\n",
       " 'MONTE CARLO 3.4L V6': 0.25131442828090617,\n",
       " 'MONTE CARLO 3.5L V6': 0.5877866649021191,\n",
       " 'MONTE CARLO 3.8L V6': 1.0986122886681098,\n",
       " 'MONTE CARLO 3.9L V6': 0.5108256237659907,\n",
       " 'MONTEGO': 0.16705408466316624,\n",
       " 'MONTEREY': -1.466337068793427,\n",
       " 'MONTEREY 4.2L V6 SPI': -0.587786664902119,\n",
       " 'MONTERO SPORT 2WD V6': -0.9382696385929302,\n",
       " 'MONTERO SPORT 4WD V6': -1.466337068793427,\n",
       " 'MOUNTAINEER 2WD V6': -1.0986122886681098,\n",
       " 'MOUNTAINEER 2WD V8': -1.0986122886681098,\n",
       " 'MOUNTAINEER AWD V6': -0.7884573603642702,\n",
       " 'MOUNTAINEER AWD V6 4': -0.8472978603872037,\n",
       " 'MOUNTAINEER AWD V8': -0.587786664902119,\n",
       " 'MPV 2WD V6': -0.7884573603642702,\n",
       " 'MPV 2WD V6 3.0L V6 M': 0.8472978603872037,\n",
       " 'MURANO 2WD V6': 0.5877866649021191,\n",
       " 'MUSTANG V6': -0.17693070815907821,\n",
       " 'MUSTANG V6 3.8L V6 E': -0.7114963192281418,\n",
       " 'MUSTANG V6 3.9L V6 E': 0.26826398659467937,\n",
       " 'MUSTANG V6 4.0L V6 E': -0.5465437063680699,\n",
       " 'NAVIGATOR 2WD V8 5.4': -0.5108256237659907,\n",
       " 'NEON': -0.5900749954201313,\n",
       " 'NEON 2.0L I4 SFI': -0.8678641379686807,\n",
       " 'NEON 2.0L I4 SFI / S': -1.1895840668738362,\n",
       " 'NITRO 2WD V6': 0.4353180712578455,\n",
       " 'OPTIMA 4C': 0.30466040898619884,\n",
       " 'OPTIMA 4C 2.4L I4 MP': 0.29849298855599654,\n",
       " 'OPTIMA V6 2.7L V6 MP': -0.7884573603642702,\n",
       " 'OPTIMA V6 MFI V6 2.7': 0.5108256237659907,\n",
       " 'OUTLANDER 2WD 4C 2.4': 0.7884573603642703,\n",
       " 'OUTLANDER AWD 4C': -0.8472978603872037,\n",
       " 'PACIFICA AWD': -0.2682639865946794,\n",
       " 'PACIFICA AWD 3.5L V6': 0.7375989431307791,\n",
       " 'PACIFICA AWD 4.0L V6': -0.5108256237659907,\n",
       " 'PACIFICA FWD': 0.31015492830383945,\n",
       " 'PACIFICA FWD 3.5L V6': 0.48701497507227215,\n",
       " 'PACIFICA FWD 3.8L V6': -1.2992829841302609,\n",
       " 'PACIFICA FWD 4.0L V6': 0.5108256237659907,\n",
       " 'PATHFINDER 4WD V6': -0.5108256237659907,\n",
       " 'PATHFINDER 4WD V6 3.': -0.5108256237659907,\n",
       " 'PATHFINDER 4WD V6 MF': -0.5108256237659907,\n",
       " 'PATRIOT 4WD 4C': -1.6094379124341003,\n",
       " 'PATRIOT FWD 4C': -1.7346010553881064,\n",
       " 'PROTEGE': -1.845826690498331,\n",
       " 'PROTEGE 2.0L I4 EFI': -1.0986122886681098,\n",
       " 'PROTEGE 5 2.0L I-4 M': -0.8472978603872037,\n",
       " 'PT CRUISER': -0.6804814959878379,\n",
       " 'PT CRUISER 2.4L I-4': -0.7884573603642702,\n",
       " 'PT CRUISER 2.4L I4 M': -0.7233002187306329,\n",
       " 'PT CRUISER 2.4L I4 S': -0.24155230072427963,\n",
       " 'RANGER PICKUP 2WD 4C': -0.1743533871447778,\n",
       " 'RANGER PICKUP 2WD V6': -0.49469624183610705,\n",
       " 'REGAL': 0.25131442828090617,\n",
       " 'REGAL 3.8L V6 MFI': -0.8472978603872037,\n",
       " 'REGAL 3.8L V6 MFI SC': 0.5108256237659907,\n",
       " 'RELAY 2WD V6': 1.6094379124341003,\n",
       " 'RELAY 2WD V6 3.5L V6': 0.25131442828090617,\n",
       " 'RENDEZVOUS AWD': -1.2237754316221157,\n",
       " 'RENDEZVOUS FWD': 0.14842000511827322,\n",
       " 'RENDEZVOUS FWD 3.4L': 0.5108256237659907,\n",
       " 'RENO 2.0L I4 DI / EF': 0.5877866649021191,\n",
       " 'RENO 2.0L I4 EFI': 0.6190392084062235,\n",
       " 'RIO 5': -0.5108256237659907,\n",
       " 'RIO MFI I-4 1.6L DOH': -0.3364722366212129,\n",
       " 'RONDO V6': 0.7621400520468967,\n",
       " 'S SERIES': -0.8472978603872037,\n",
       " 'S SERIES 1.9L I-4 SF': -0.7884573603642702,\n",
       " 'S10 PICKUP 2WD 4C': 1.0986122886681098,\n",
       " 'S10 PICKUP 2WD 4C 2.': 1.0986122886681098,\n",
       " 'SABLE': -0.2638145910451376,\n",
       " 'SABLE 3.0L V6 2V /EF': 0.31015492830383945,\n",
       " 'SABLE 3.0L V6 4V /EF': -1.845826690498331,\n",
       " 'SABLE 3.0L V6 EFI': -0.43936665978384565,\n",
       " 'SABLE 3.0L V6 EFI DO': -0.8472978603872037,\n",
       " 'SABLE 3.0L V6 EFI SO': -0.5108256237659907,\n",
       " 'SANTA FE 2WD V6': 0.4353180712578455,\n",
       " 'SANTA FE 2WD V6 2.7L': 0.7375989431307791,\n",
       " 'SANTA FE 4WD V6': -1.466337068793427,\n",
       " 'SANTA FE 4WD V6 2.7L': 0.25131442828090617,\n",
       " 'SEBRING 4C': 0.4507803043202069,\n",
       " 'SEBRING 4C 2.4L I-4': -0.7884573603642702,\n",
       " 'SEBRING 4C 2.4L I4 E': -0.032260862218221435,\n",
       " 'SEBRING V6': -0.10616019582839067,\n",
       " 'SEBRING V6 2.7L V6 M': -0.04348511193973878,\n",
       " 'SEBRING V6 MFI V6 2.': -0.3364722366212129,\n",
       " 'SEDONA': 0.10008345855698263,\n",
       " 'SENTRA': -0.17114825619582946,\n",
       " 'SENTRA 1.8L I4 EFI': -0.7375989431307791,\n",
       " 'SENTRA 1.8L I4 EFI /': 0.5108256237659907,\n",
       " 'SILHOUETTE': -0.5108256237659907,\n",
       " 'SONATA 4C': 0.5014797613477531,\n",
       " 'SONATA 4C 2.4L I4 MP': -0.46262352194811296,\n",
       " 'SONATA V6': 0.21962860920676536,\n",
       " 'SONATA V6 2.7L V6 MP': -0.7472144018302211,\n",
       " 'SONATA V6 3.3L V6 MP': -0.12516314295400605,\n",
       " 'SONOMA PICKUP 2WD 4C': -0.8472978603872037,\n",
       " 'SORENTO 2WD': -1.1895840668738362,\n",
       " 'SORENTO 2WD 3.5L V6': 0.07145896398214505,\n",
       " 'SORENTO 4WD': -0.3022808718729337,\n",
       " 'SORENTO 4WD 3.5L V6': -0.1670540846631662,\n",
       " 'SPECTRA': 0.2476345713225055,\n",
       " 'SPECTRA 1.8L I4 EFI': 0.5108256237659907,\n",
       " 'SPECTRA 2.0L I-4 EFI': -0.5108256237659907,\n",
       " 'SPECTRA 2.0L I4 EFI': 0.30421137440299156,\n",
       " 'SPECTRA 5': -0.3364722366212129,\n",
       " 'SPORTAGE 2WD 4C': 0.20067069546215124,\n",
       " 'STRATUS 4C': -0.026145280104322245,\n",
       " 'STRATUS 4C 2.4L I4 M': 0.26341745045214976,\n",
       " 'STRATUS 4C 2.4L I4 S': -0.29376111852816306,\n",
       " 'STRATUS V6': 0.49933124434025555,\n",
       " 'STRATUS V6 2.7L V6 M': 1.5217529079349963,\n",
       " 'SUBURBAN 1500 2WD': 0.14310084364067324,\n",
       " 'SUBURBAN 1500 2WD 5.': -0.2006706954621511,\n",
       " 'SUNFIRE': -0.8472978603872037,\n",
       " 'SUNFIRE 2.2L I4 MPI': -1.0216512475319814,\n",
       " 'TAHOE 2WD': 0.5108256237659907,\n",
       " 'TAHOE 2WD 4.8L V8 SF': 0.5108256237659907,\n",
       " 'TAHOE 2WD 5.3L V8 SF': 0.4519851237430572,\n",
       " 'TAHOE 4WD 4.8L V8 SF': -0.8472978603872037,\n",
       " 'TAURUS': -0.029631797606371114,\n",
       " 'TAURUS 3.0L V6 EFI': -0.462272398349,\n",
       " 'TAURUS 3.0L V6 EFI /': 0.5108256237659907,\n",
       " 'TAURUS 3.0L V6 EFI D': -1.0986122886681098,\n",
       " 'TAURUS 3.0L V6 EFI F': 1.0986122886681098,\n",
       " 'TAURUS 3.0L V6 EFI S': -1.6094379124341003,\n",
       " 'TAURUS 3.0L V6 SFI': -0.1670540846631662,\n",
       " 'TAURUS X FWD V6': 1.466337068793427,\n",
       " 'TIBURON': -1.7346010553881064,\n",
       " 'TITAN PICKUP 2WD V8': 0.8472978603872037,\n",
       " 'TORRENT FWD V6': 0.25131442828090617,\n",
       " 'TORRENT FWD V6 3.4L': 0.5877866649021191,\n",
       " 'TOWN & COUNTRY 2WD V': 0.44031183943833246,\n",
       " 'TOWN & COUNTRY FWD V': 0.02963179760637115,\n",
       " 'TOWN CAR': 0.25131442828090617,\n",
       " 'TOWN CAR 4.6L V8 EFI': -0.587786664902119,\n",
       " 'TRACKER 2WD 4C': 0.5108256237659907,\n",
       " 'TRACKER 2WD V6': -0.587786664902119,\n",
       " 'TRAILBLAZER 2WD 6C': 0.3900564827553193,\n",
       " 'TRAILBLAZER 2WD 6C 4': 0.1981769285837487,\n",
       " 'TRAILBLAZER 4WD 6C': 0.3491842722095748,\n",
       " 'TRAILBLAZER 4WD 6C 4': 0.41074216520900814,\n",
       " 'TRAILBLAZER EXT 2WD': 0.1973594341584952,\n",
       " 'TRIBUTE 2WD 4C': -0.2682639865946794,\n",
       " 'TRIBUTE 2WD 4C 2.3L': 0.9555114450274363,\n",
       " 'TRIBUTE 2WD V6': 0.36772478012531734,\n",
       " 'TRIBUTE 2WD V6 3.0L': -0.5108256237659907,\n",
       " 'TRIBUTE 4WD V6': -1.0986122886681098,\n",
       " 'TRIBUTE 4WD V6 3.0L': -0.25131442828090605,\n",
       " 'TUCSON 2WD 4C': 0.5877866649021191,\n",
       " 'TUCSON 2WD V6': -0.5108256237659907,\n",
       " 'TUNDRA PICKUP 2WD V8': 0.7621400520468967,\n",
       " 'UPLANDER AWD V6 3.5L': -0.5108256237659907,\n",
       " 'UPLANDER FWD V6': 0.5156333253340938,\n",
       " 'UPLANDER FWD V6 3.5L': 0.5705448584676129,\n",
       " 'UPLANDER FWD V6 3.9L': 2.268683541318364,\n",
       " 'VENTURE FWD V6': -0.07275935428242832,\n",
       " 'VENTURE FWD V6 3.4L': -0.08894748601649617,\n",
       " 'VERONA 2.5L I6 MPI': 0.5877866649021191,\n",
       " 'VERSA': 0.5465437063680699,\n",
       " 'VIBE': -0.058840500022933465,\n",
       " 'VIBE 1.8L I-4 MPI': 0.3364722366212129,\n",
       " 'VIBE 1.8L I4 MPI': -0.2006706954621511,\n",
       " 'VOYAGER FWD 4C': -0.5108256237659907,\n",
       " 'VOYAGER FWD 4C 2.4L': -1.466337068793427,\n",
       " 'VOYAGER FWD V6 3.3L': -1.0986122886681098,\n",
       " 'VUE 2WD 4C': -0.3272129112084162,\n",
       " 'VUE 2WD 4C 2.2L I-4': -0.5108256237659907,\n",
       " 'VUE 2WD V6': -0.7621400520468967,\n",
       " 'VUE AWD 4C 2.2L I4 M': -0.5108256237659907,\n",
       " 'VUE AWD V6': -0.25131442828090605,\n",
       " 'WINDSTAR FWD V6': -1.0319209141694374,\n",
       " 'WINDSTAR FWD V6 3.8L': -1.5664205273504095,\n",
       " 'XA': -0.3364722366212129,\n",
       " 'XB': 0.3364722366212129,\n",
       " 'XB 1.5L I-4 EFI DOHC': 0.3364722366212129,\n",
       " 'XB 1.5L I4 EFI': -0.5108256237659907,\n",
       " 'XG 350': 1.0986122886681098,\n",
       " 'XL-7 2WD': -1.0986122886681098,\n",
       " 'XL-7 4WD': -0.5108256237659907,\n",
       " 'XTERRA 2WD 4C': -1.0986122886681098,\n",
       " 'XTERRA 2WD V6': -1.6094379124341003,\n",
       " 'XTERRA 2WD V6 3.3L V': -0.09097177820572676,\n",
       " 'XTERRA 4WD V6': -0.8472978603872037,\n",
       " 'YUKON 2WD V8': -0.5108256237659907,\n",
       " 'YUKON 2WD V8 4.8L V8': 0.5108256237659907,\n",
       " 'YUKON XL 1500 4WD': 0.5108256237659907,\n",
       " 'ZEPHYR': 0.5108256237659907,\n",
       " 'BUICK': -0.20726050514120672,\n",
       " 'CHEVROLET': 0.3523148651062754,\n",
       " 'CHRYSLER': -0.16134913190256486,\n",
       " 'DODGE': 0.19940286644922028,\n",
       " 'FORD': -0.28818618094660226,\n",
       " 'GMC': 0.26304476806639576,\n",
       " 'HONDA': 0.3272129112084162,\n",
       " 'HYUNDAI': 0.11858981262632354,\n",
       " 'INFINITI': -0.587786664902119,\n",
       " 'ISUZU': 0.5108256237659907,\n",
       " 'JEEP': -0.18646807275580313,\n",
       " 'KIA': 0.07056869016416226,\n",
       " 'LEXUS': -0.5108256237659907,\n",
       " 'LINCOLN': -0.10008345855698253,\n",
       " 'MAZDA': -0.25671984684781396,\n",
       " 'MERCURY': -0.20302918712144405,\n",
       " 'MINI': -0.3364722366212129,\n",
       " 'MITSUBISHI': -0.009804000096620856,\n",
       " 'NISSAN': -0.24445333790096085,\n",
       " 'OLDSMOBILE': -0.4895482253187058,\n",
       " 'PONTIAC': 0.10676797542570614,\n",
       " 'SATURN': -0.25707662337570325,\n",
       " 'SUBARU': 0.5108256237659907,\n",
       " 'SUZUKI': -0.31126081727471694,\n",
       " 'TOYOTA': 0.14686024656457913,\n",
       " 'AUTO': 0.02789546421860804,\n",
       " 'MANUAL': -0.01535538808319465}"
      ]
     },
     "execution_count": 351,
     "metadata": {},
     "output_type": "execute_result"
    }
   ],
   "source": [
    "# Checking the dictionary from our encoding class created for each category\n",
    "woe_cat_dict"
   ]
  },
  {
   "cell_type": "code",
   "execution_count": 352,
   "id": "59f76ba6",
   "metadata": {},
   "outputs": [
    {
     "data": {
      "text/plain": [
       "{'1500 RAM PICKUP 2WD': -0.15616073075528253,\n",
       " '1500 RAM PICKUP 4WD': -0.3677247801253174,\n",
       " '1500 SIERRA PICKUP 2': 0.4895482253187058,\n",
       " '1500 SILVERADO PICKU': 0.7073318155519017,\n",
       " '2500 RAM PICKUP 2WD': -0.5108256237659907,\n",
       " '2500HD SILVERADO PIC': -0.587786664902119,\n",
       " '300': 0.8226812327518476,\n",
       " '300 2.7L V6 MPI': 1.0986122886681098,\n",
       " '300M': -1.0986122886681098,\n",
       " '300M 3.5L V6 MPI': -0.8472978603872037,\n",
       " 'ACCENT': -0.04348511193973878,\n",
       " 'ACCENT 1.6L I4 MPI': -0.4228568508200336,\n",
       " 'ACCORD 4C': 0.5877866649021191,\n",
       " 'ACCORD 4C 2.4L I-4 M': 0.8472978603872037,\n",
       " 'ACCORD V6': 0.8209805520698303,\n",
       " 'ACCORD V6 3.0L V6 EF': 0.5877866649021191,\n",
       " 'ALERO 4C': 0.14842000511827322,\n",
       " 'ALERO 4C 2.2L I4 MPI': -0.7884573603642702,\n",
       " 'ALERO V6': -1.466337068793427,\n",
       " 'ALERO V6 3.4L V6 MPI': -0.6359887667199967,\n",
       " 'ALTIMA': 0.17010596902583072,\n",
       " 'ALTIMA 2.5L I4 EFI': -0.9382696385929302,\n",
       " 'ALTIMA 2.5L I4 MPI': 0.23180161405732438,\n",
       " 'AMANTI': 0.5877866649021191,\n",
       " 'AMANTI 3.5L V6 MPI': -0.25131442828090605,\n",
       " 'ASCENDER 2WD 6C': 0.4519851237430572,\n",
       " 'ASCENDER 2WD 6C 4.2L': 0.9555114450274363,\n",
       " 'AURA': 0.7621400520468967,\n",
       " 'AURA V6': 1.6863989535702288,\n",
       " 'AVALANCHE 1500 2WD V': -0.08338160893905101,\n",
       " 'AVALON': -0.5108256237659907,\n",
       " 'AVENGER 4C': 0.8221393007510486,\n",
       " 'AVENGER 4C 2.4L I4 S': 0.29626581614317243,\n",
       " 'AVENGER V6': 2.120263536200091,\n",
       " 'AVEO': -0.2616450986687856,\n",
       " 'AVEO 1.6L I4 EFI': -0.3894647667617233,\n",
       " 'AVEO 1.6L I4 EFI / M': 0.8472978603872037,\n",
       " 'AXIOM 2WD V6 3.5L V6': -0.5108256237659907,\n",
       " 'B3000 PICKUP 2WD V6': -0.8472978603872037,\n",
       " 'BEETLE': 0.4519851237430572,\n",
       " 'BEETLE 2.0L I4 MFI /': -0.5108256237659907,\n",
       " 'BONNEVILLE': -0.9555114450274363,\n",
       " 'BONNEVILLE 3.8L V6 M': -0.9985288301111273,\n",
       " 'BRAVADA AWD V6': -0.5108256237659907,\n",
       " 'CALIBER': -0.4895482253187058,\n",
       " 'CALIBER 2.0L I4 SFI': 0.3364722366212129,\n",
       " 'CAMRY 4C': 0.6007738604289301,\n",
       " 'CAMRY 4C 2.4L I-4 EF': -0.5108256237659907,\n",
       " 'CAMRY 4C 2.4L I-4 SF': -0.8472978603872037,\n",
       " 'CAMRY 4C 2.4L I4 SFI': -0.5108256237659907,\n",
       " 'CAMRY SOLARA 4C': 0.3364722366212129,\n",
       " 'CAMRY SOLARA V6': -0.3364722366212129,\n",
       " 'CAMRY V6': -0.1431008436406733,\n",
       " 'CANYON PICKUP 2WD I5': -0.5108256237659907,\n",
       " 'CARAVAN FWD 4C': -0.2006706954621511,\n",
       " 'CARAVAN FWD 4C 2.4L': -0.6109090823229733,\n",
       " 'CARAVAN FWD V6': 0.651761964397091,\n",
       " 'CARAVAN FWD V6 3.3L': 0.25629575863111026,\n",
       " 'CARAVAN GRAND FWD V6': 0.10312158940670604,\n",
       " 'CAVALIER 4C': -0.4638371143300716,\n",
       " 'CAVALIER 4C 2.2L I-4': -0.587786664902119,\n",
       " 'CAVALIER 4C 2.2L I4': -0.3999856423435389,\n",
       " 'CENTURY V6': -0.6109090823229733,\n",
       " 'CENTURY V6 3.1L V6 S': -0.3101549283038396,\n",
       " 'CHARGER': 0.494696241836107,\n",
       " 'CHARGER 2.7L V6 MPI': 1.413693335308005,\n",
       " 'CHARGER V6': 0.7926767759069784,\n",
       " 'CHARGER V6 2.7L V6 M': 1.133098464739279,\n",
       " 'CHARGER V6 3.5L V6 E': -0.3364722366212129,\n",
       " 'CIVIC': -0.3894647667617233,\n",
       " 'COBALT': 0.06875559541512996,\n",
       " 'COBALT 2.2L I4 MPI': 0.7944009142651182,\n",
       " 'COBALT 2.2L I4 MPI /': 0.9555114450274363,\n",
       " 'COLORADO PICKUP 2WD': 0.4895482253187058,\n",
       " 'COMMANDER 2WD V6': 0.16705408466316624,\n",
       " 'COMMANDER 2WD V6 3.7': 1.0986122886681098,\n",
       " 'COMMANDER 2WD V8': 0.8472978603872037,\n",
       " 'COMMANDER 4WD V6': -1.466337068793427,\n",
       " 'COMMANDER 4WD V8': 0.5108256237659907,\n",
       " 'COMPASS 4WD 4C': 0.5108256237659907,\n",
       " 'COMPASS FWD 4C': -1.845826690498331,\n",
       " 'CONCORDE': -0.25131442828090605,\n",
       " 'CONCORDE 3.5L V6 MPI': -0.3364722366212129,\n",
       " 'COOPER': -0.3364722366212129,\n",
       " 'COROLLA': 0.19574457712609533,\n",
       " 'CR-V 4WD': -0.3364722366212129,\n",
       " 'DAKOTA PICKUP 2WD V6': -0.17284281283941083,\n",
       " 'DAKOTA PICKUP 2WD V8': -0.7472144018302211,\n",
       " 'DURANGO 2WD V6': -0.12921173148000623,\n",
       " 'DURANGO 2WD V6 3.7L': -0.5465437063680699,\n",
       " 'DURANGO 2WD V8': 0.32132043160061075,\n",
       " 'DURANGO 2WD V8 4.7L': 0.3128723212803394,\n",
       " 'DURANGO 2WD V8 5.7L': 0.25131442828090617,\n",
       " 'DURANGO 4WD V8': 0.16400297627026988,\n",
       " 'DURANGO 4WD V8 4.7L': 0.30673026742247544,\n",
       " 'DURANGO 4WD V8 SEFI': 0.5108256237659907,\n",
       " 'ECLIPSE': -0.7375989431307791,\n",
       " 'ELANTRA': 0.26341745045214976,\n",
       " 'ELANTRA 2.0L I4 MPI': 0.1502822030493379,\n",
       " 'ELANTRA MFI I-4 2.0L': 0.8472978603872037,\n",
       " 'ELEMENT 2WD': -0.3364722366212129,\n",
       " 'ENDEAVOR FWD': -0.11122563511022437,\n",
       " 'ENDEAVOR FWD 3.8L V6': 1.466337068793427,\n",
       " 'ENVOY 2WD 6C': 0.7221347174331975,\n",
       " 'ENVOY 2WD 6C 4.2L I-': -0.8472978603872037,\n",
       " 'ENVOY 2WD 6C 4.2L I6': 0.4353180712578455,\n",
       " 'ENVOY 4WD 6C': -1.2367626271489267,\n",
       " 'ENVOY 4WD 6C 4.2L I6': 1.6094379124341003,\n",
       " 'ENVOY XL 2WD 6C': 0.6190392084062235,\n",
       " 'ENVOY XL 2WD 6C 4.2L': 1.0986122886681098,\n",
       " 'ENVOY XL 4WD 6C': 0.5877866649021191,\n",
       " 'EQUINOX AWD V6': -0.6690496289808848,\n",
       " 'EQUINOX AWD V6 3.4L': -0.3513978868378886,\n",
       " 'EQUINOX FWD V6': 0.12210269680089991,\n",
       " 'EQUINOX FWD V6 3.4L': 0.14310084364067324,\n",
       " 'ES300 3.0L V6 EFI': -0.5108256237659907,\n",
       " 'ESCAPE 2WD 4C': -0.5280674302004967,\n",
       " 'ESCAPE 2WD 4C 2.3L I': 0.14310084364067324,\n",
       " 'ESCAPE 2WD V6': -0.12516314295400605,\n",
       " 'ESCAPE 2WD V6 3.0L V': -0.29849298855599654,\n",
       " 'ESCAPE 4WD V6': -0.7884573603642702,\n",
       " 'EXPEDITION 2WD V8': -0.7777045685880083,\n",
       " 'EXPEDITION 2WD V8 4.': -0.578077850775158,\n",
       " 'EXPEDITION 2WD V8 5.': -1.4087672169719492,\n",
       " 'EXPEDITION 4WD V8': -1.1962507582320256,\n",
       " 'EXPEDITION 4WD V8 4.': 1.2237754316221157,\n",
       " 'EXPEDITION 4WD V8 5.': -0.419853845560264,\n",
       " 'EXPLORER 2WD V6': -1.0986122886681098,\n",
       " 'EXPLORER 2WD V6 4.0L': -0.9620367536623589,\n",
       " 'EXPLORER 2WD V8 4.6L': -1.2992829841302609,\n",
       " 'EXPLORER 4WD V6': -0.587786664902119,\n",
       " 'EXPLORER 4WD V6 4.0L': -0.26469255422708216,\n",
       " 'EXPLORER 4WD V8': -1.9459101490553135,\n",
       " 'F150 PICKUP 2WD V6': -0.22957444164450025,\n",
       " 'F150 PICKUP 2WD V6 4': -0.6632942174102642,\n",
       " 'F150 PICKUP 2WD V8': -0.06524052186840097,\n",
       " 'F150 PICKUP 2WD V8 4': 0.9057086225436182,\n",
       " 'F150 PICKUP 2WD V8 5': -0.3513978868378886,\n",
       " 'F150 PICKUP 4WD V8': -1.3350010667323402,\n",
       " 'FIVE HUNDRED': 0.4828517717235845,\n",
       " 'FIVE HUNDRED 3.0L V6': 0.20067069546215124,\n",
       " 'FOCUS': -0.570053457966324,\n",
       " 'FOCUS 2.0L I-4 SFI D': -0.3677247801253174,\n",
       " 'FOCUS 2.0L I-4 SFI S': -0.9555114450274363,\n",
       " 'FOCUS 2.0L I4 EFI': -1.7346010553881064,\n",
       " 'FOCUS 2.0L I4 MFI /': -1.0986122886681098,\n",
       " 'FOCUS 2.0L I4 SFI': -0.1688208695750521,\n",
       " 'FOCUS 2.0L I4 SPI': -1.466337068793427,\n",
       " 'FOCUS 2.3L I4 DOHC': -1.466337068793427,\n",
       " 'FORENZA': -0.38395890288720075,\n",
       " 'FORENZA 2.0L I4 EFI': -0.28394375034117386,\n",
       " 'FORESTER AWD': 0.5108256237659907,\n",
       " 'FREESTAR FWD V6': 0.09646026618756232,\n",
       " 'FREESTAR FWD V6 3.9L': -0.2835752904991275,\n",
       " 'FREESTAR FWD V6 4.2L': 0.5108256237659907,\n",
       " 'FREESTYLE 2WD V6': -0.2682639865946794,\n",
       " 'FREESTYLE 2WD V6 3.0': 0.3364722366212129,\n",
       " 'FREESTYLE AWD V6': 1.0986122886681098,\n",
       " 'FREESTYLE AWD V6 3.0': 0.5877866649021191,\n",
       " 'FREESTYLE FWD V6': 0.12136085700426753,\n",
       " 'FREESTYLE FWD V6 3.0': 0.3513978868378886,\n",
       " 'FRONTIER PICKUP 2WD': -1.0216512475319814,\n",
       " 'FUSION 4C': 0.4563567154045537,\n",
       " 'FUSION 4C 2.3L I4 EF': 0.5465437063680699,\n",
       " 'FUSION V6': 0.7963314167951762,\n",
       " 'G35': -0.587786664902119,\n",
       " 'G5 4C': -0.7621400520468967,\n",
       " 'G6 4C': 0.5942072327050417,\n",
       " 'G6 4C 2.4L I4 MFI /': 0.20067069546215124,\n",
       " 'G6 V6': 0.6412623451909336,\n",
       " 'G6 V6 3.5L V6 SFI': 0.578077850775158,\n",
       " 'GALANT 4C': 0.653926467406664,\n",
       " 'GALANT 4C 2.4L I4 EF': 0.21130909366720696,\n",
       " 'GRAND AM 4C': -1.349926716949016,\n",
       " 'GRAND AM 4C 2.2L I4': -0.3364722366212129,\n",
       " 'GRAND AM V6': -0.9354606479818753,\n",
       " 'GRAND AM V6 3.4L V6': -0.7707054149058198,\n",
       " 'GRAND CHEROKEE 2WD 6': -0.9279867716373464,\n",
       " 'GRAND CHEROKEE 2WD V': -0.25857398829371026,\n",
       " 'GRAND CHEROKEE 4WD 6': -0.7375989431307791,\n",
       " 'GRAND CHEROKEE 4WD V': -0.07847161544149521,\n",
       " 'GRAND MARQUIS': -1.6094379124341003,\n",
       " 'GRAND PRIX': 0.35723975615369113,\n",
       " 'GRAND PRIX 3.1L V6 S': -1.0216512475319814,\n",
       " 'GRAND PRIX 3.8L V6 M': -1.2237754316221157,\n",
       " 'GRAND PRIX 3.8L V6 S': 0.688463331247519,\n",
       " 'GRAND VITARA 2WD': -1.0986122886681098,\n",
       " 'HHR': 0.5108256237659907,\n",
       " 'HHR 2.2L I4 MPI': 0.5108256237659907,\n",
       " 'HHR 2.4L I-4 MPI': -0.3364722366212129,\n",
       " 'HIGHLANDER 2WD V6': -0.5108256237659907,\n",
       " 'HIGHLANDER 2WD V6 3.': 0.5108256237659907,\n",
       " 'IMPALA': 0.47354624267324213,\n",
       " 'IMPALA 3.4L V6 SFI': -0.21392689620928568,\n",
       " 'IMPALA 3.5L V6 SFI': 0.9985288301111273,\n",
       " 'IMPALA 3.8L V6 MFI': -0.7621400520468967,\n",
       " 'IMPALA 3.8L V6 SFI': -0.4274440148269396,\n",
       " 'IMPALA 3.9L V6 SFI': -1.2992829841302609,\n",
       " 'IMPALA V6': 1.4842747694800944,\n",
       " 'IMPALA V6 3.5L V6 SF': 0.9028677115420144,\n",
       " 'INTREPID 3.5L V6 MPI': -0.8472978603872037,\n",
       " 'ION': -0.26469255422708216,\n",
       " 'ION 2.0L I4 MPI': 0.7621400520468967,\n",
       " 'ION 2.2L I4 EFI': 0.4353180712578455,\n",
       " 'ION 2.2L I4 EFI / SF': -0.19105523676270922,\n",
       " 'ION 2.2L I4 MPI': 0.31015492830383945,\n",
       " 'JETTA 5C': -0.10008345855698253,\n",
       " 'L SERIES': -1.0319209141694374,\n",
       " 'L SERIES 2.0L I-4 MP': -0.5108256237659907,\n",
       " 'L SERIES 2.0L I4 MPI': -0.8472978603872037,\n",
       " 'L SERIES 2.2L I4 MPI': -0.7884573603642702,\n",
       " 'L SERIES 3.0L V6 EFI': -2.001480000210124,\n",
       " 'LACROSSE': 0.5465437063680699,\n",
       " 'LACROSSE 3.8L V6 SFI': 1.0986122886681098,\n",
       " 'LANCER': -0.3150810466398954,\n",
       " 'LANCER 2.0L I4 MPI': -0.3513978868378886,\n",
       " 'LANCER 2.4L I4 MPI': 0.5108256237659907,\n",
       " 'LE SABRE': -0.6539264674066639,\n",
       " 'LE SABRE 3.8L V6 MFI': -0.9985288301111273,\n",
       " 'LE SABRE Unspecified': 0.14310084364067324,\n",
       " 'LIBERTY 2WD 4C': -1.7346010553881064,\n",
       " 'LIBERTY 2WD V6': 0.46734051182625186,\n",
       " 'LIBERTY 4WD V6': -0.05971923470162231,\n",
       " 'LIBERTY 4WD V6 3.7L': 0.31015492830383945,\n",
       " 'MAGNUM V6': 0.9694005571881035,\n",
       " 'MAGNUM V6 2.7L V6 MP': 1.1468143904859875,\n",
       " 'MAGNUM V6 3.5L V6 MP': 0.5108256237659907,\n",
       " 'MALIBU 4C': 0.9042985828288912,\n",
       " 'MALIBU 4C 2.2L I4 MF': 1.466337068793427,\n",
       " 'MALIBU 4C 2.2L I4 MP': 0.5073412996833798,\n",
       " 'MALIBU MAXX V6': 0.2273898421956608,\n",
       " 'MALIBU MAXX V6 3.5L': -0.058840500022933465,\n",
       " 'MALIBU V6': 0.26175838744198926,\n",
       " 'MALIBU V6 3.1L V6 SF': -1.3993664426872434,\n",
       " 'MALIBU V6 3.5L V6 SF': 0.37351350830156194,\n",
       " 'MARINER 2WD 4C 2.3L': 0.5108256237659907,\n",
       " 'MARINER 2WD V6': 0.25131442828090617,\n",
       " 'MARINER 2WD V6 3.0L': 1.0986122886681098,\n",
       " 'MARINER 4WD V6': 0.4519851237430572,\n",
       " 'MARINER 4WD V6 3.0L': 0.31015492830383945,\n",
       " 'MATRIX 2WD': -0.7308875085427924,\n",
       " 'MAXIMA': -1.4008931605410433,\n",
       " 'MAXIMA 3.5L V6 MPI': -1.0986122886681098,\n",
       " 'MAXIMA MFI V6 3.5L D': -0.7884573603642702,\n",
       " 'MAZDA3': 0.37647757123491205,\n",
       " 'MAZDA3 2.0L I4 MPI': -0.5108256237659907,\n",
       " 'MAZDA5': -0.25131442828090605,\n",
       " 'MAZDA6': -0.5764229062518039,\n",
       " 'MAZDA6 2.3L I4 MFI /': 0.5877866649021191,\n",
       " 'MAZDA6 2.3L I4 MPI': 1.2992829841302609,\n",
       " 'MILAN 4C': 1.2656663733312759,\n",
       " 'MILAN V6': 1.466337068793427,\n",
       " 'MONTANA': -0.9028677115420143,\n",
       " 'MONTANA 3.4L V6 EFI': -0.8979415932059586,\n",
       " 'MONTANA 3.4L V6 SFI': 0.5108256237659907,\n",
       " 'MONTE CARLO': -0.033336420267591836,\n",
       " 'MONTE CARLO 3.4L V6': 0.25131442828090617,\n",
       " 'MONTE CARLO 3.5L V6': 0.5877866649021191,\n",
       " 'MONTE CARLO 3.8L V6': 1.0986122886681098,\n",
       " 'MONTE CARLO 3.9L V6': 0.5108256237659907,\n",
       " 'MONTEGO': 0.16705408466316624,\n",
       " 'MONTEREY': -1.466337068793427,\n",
       " 'MONTEREY 4.2L V6 SPI': -0.587786664902119,\n",
       " 'MONTERO SPORT 2WD V6': -0.9382696385929302,\n",
       " 'MONTERO SPORT 4WD V6': -1.466337068793427,\n",
       " 'MOUNTAINEER 2WD V6': -1.0986122886681098,\n",
       " 'MOUNTAINEER 2WD V8': -1.0986122886681098,\n",
       " 'MOUNTAINEER AWD V6': -0.7884573603642702,\n",
       " 'MOUNTAINEER AWD V6 4': -0.8472978603872037,\n",
       " 'MOUNTAINEER AWD V8': -0.587786664902119,\n",
       " 'MPV 2WD V6': -0.7884573603642702,\n",
       " 'MPV 2WD V6 3.0L V6 M': 0.8472978603872037,\n",
       " 'MURANO 2WD V6': 0.5877866649021191,\n",
       " 'MUSTANG V6': -0.17693070815907821,\n",
       " 'MUSTANG V6 3.8L V6 E': -0.7114963192281418,\n",
       " 'MUSTANG V6 3.9L V6 E': 0.26826398659467937,\n",
       " 'MUSTANG V6 4.0L V6 E': -0.5465437063680699,\n",
       " 'NAVIGATOR 2WD V8 5.4': -0.5108256237659907,\n",
       " 'NEON': -0.5900749954201313,\n",
       " 'NEON 2.0L I4 SFI': -0.8678641379686807,\n",
       " 'NEON 2.0L I4 SFI / S': -1.1895840668738362,\n",
       " 'NITRO 2WD V6': 0.4353180712578455,\n",
       " 'OPTIMA 4C': 0.30466040898619884,\n",
       " 'OPTIMA 4C 2.4L I4 MP': 0.29849298855599654,\n",
       " 'OPTIMA V6 2.7L V6 MP': -0.7884573603642702,\n",
       " 'OPTIMA V6 MFI V6 2.7': 0.5108256237659907,\n",
       " 'OUTLANDER 2WD 4C 2.4': 0.7884573603642703,\n",
       " 'OUTLANDER AWD 4C': -0.8472978603872037,\n",
       " 'PACIFICA AWD': -0.2682639865946794,\n",
       " 'PACIFICA AWD 3.5L V6': 0.7375989431307791,\n",
       " 'PACIFICA AWD 4.0L V6': -0.5108256237659907,\n",
       " 'PACIFICA FWD': 0.31015492830383945,\n",
       " 'PACIFICA FWD 3.5L V6': 0.48701497507227215,\n",
       " 'PACIFICA FWD 3.8L V6': -1.2992829841302609,\n",
       " 'PACIFICA FWD 4.0L V6': 0.5108256237659907,\n",
       " 'PATHFINDER 4WD V6': -0.5108256237659907,\n",
       " 'PATHFINDER 4WD V6 3.': -0.5108256237659907,\n",
       " 'PATHFINDER 4WD V6 MF': -0.5108256237659907,\n",
       " 'PATRIOT 4WD 4C': -1.6094379124341003,\n",
       " 'PATRIOT FWD 4C': -1.7346010553881064,\n",
       " 'PROTEGE': -1.845826690498331,\n",
       " 'PROTEGE 2.0L I4 EFI': -1.0986122886681098,\n",
       " 'PROTEGE 5 2.0L I-4 M': -0.8472978603872037,\n",
       " 'PT CRUISER': -0.6804814959878379,\n",
       " 'PT CRUISER 2.4L I-4': -0.7884573603642702,\n",
       " 'PT CRUISER 2.4L I4 M': -0.7233002187306329,\n",
       " 'PT CRUISER 2.4L I4 S': -0.24155230072427963,\n",
       " 'RANGER PICKUP 2WD 4C': -0.1743533871447778,\n",
       " 'RANGER PICKUP 2WD V6': -0.49469624183610705,\n",
       " 'REGAL': 0.25131442828090617,\n",
       " 'REGAL 3.8L V6 MFI': -0.8472978603872037,\n",
       " 'REGAL 3.8L V6 MFI SC': 0.5108256237659907,\n",
       " 'RELAY 2WD V6': 1.6094379124341003,\n",
       " 'RELAY 2WD V6 3.5L V6': 0.25131442828090617,\n",
       " 'RENDEZVOUS AWD': -1.2237754316221157,\n",
       " 'RENDEZVOUS FWD': 0.14842000511827322,\n",
       " 'RENDEZVOUS FWD 3.4L': 0.5108256237659907,\n",
       " 'RENO 2.0L I4 DI / EF': 0.5877866649021191,\n",
       " 'RENO 2.0L I4 EFI': 0.6190392084062235,\n",
       " 'RIO 5': -0.5108256237659907,\n",
       " 'RIO MFI I-4 1.6L DOH': -0.3364722366212129,\n",
       " 'RONDO V6': 0.7621400520468967,\n",
       " 'S SERIES': -0.8472978603872037,\n",
       " 'S SERIES 1.9L I-4 SF': -0.7884573603642702,\n",
       " 'S10 PICKUP 2WD 4C': 1.0986122886681098,\n",
       " 'S10 PICKUP 2WD 4C 2.': 1.0986122886681098,\n",
       " 'SABLE': -0.2638145910451376,\n",
       " 'SABLE 3.0L V6 2V /EF': 0.31015492830383945,\n",
       " 'SABLE 3.0L V6 4V /EF': -1.845826690498331,\n",
       " 'SABLE 3.0L V6 EFI': -0.43936665978384565,\n",
       " 'SABLE 3.0L V6 EFI DO': -0.8472978603872037,\n",
       " 'SABLE 3.0L V6 EFI SO': -0.5108256237659907,\n",
       " 'SANTA FE 2WD V6': 0.4353180712578455,\n",
       " 'SANTA FE 2WD V6 2.7L': 0.7375989431307791,\n",
       " 'SANTA FE 4WD V6': -1.466337068793427,\n",
       " 'SANTA FE 4WD V6 2.7L': 0.25131442828090617,\n",
       " 'SEBRING 4C': 0.4507803043202069,\n",
       " 'SEBRING 4C 2.4L I-4': -0.7884573603642702,\n",
       " 'SEBRING 4C 2.4L I4 E': -0.032260862218221435,\n",
       " 'SEBRING V6': -0.10616019582839067,\n",
       " 'SEBRING V6 2.7L V6 M': -0.04348511193973878,\n",
       " 'SEBRING V6 MFI V6 2.': -0.3364722366212129,\n",
       " 'SEDONA': 0.10008345855698263,\n",
       " 'SENTRA': -0.17114825619582946,\n",
       " 'SENTRA 1.8L I4 EFI': -0.7375989431307791,\n",
       " 'SENTRA 1.8L I4 EFI /': 0.5108256237659907,\n",
       " 'SILHOUETTE': -0.5108256237659907,\n",
       " 'SONATA 4C': 0.5014797613477531,\n",
       " 'SONATA 4C 2.4L I4 MP': -0.46262352194811296,\n",
       " 'SONATA V6': 0.21962860920676536,\n",
       " 'SONATA V6 2.7L V6 MP': -0.7472144018302211,\n",
       " 'SONATA V6 3.3L V6 MP': -0.12516314295400605,\n",
       " 'SONOMA PICKUP 2WD 4C': -0.8472978603872037,\n",
       " 'SORENTO 2WD': -1.1895840668738362,\n",
       " 'SORENTO 2WD 3.5L V6': 0.07145896398214505,\n",
       " 'SORENTO 4WD': -0.3022808718729337,\n",
       " 'SORENTO 4WD 3.5L V6': -0.1670540846631662,\n",
       " 'SPECTRA': 0.2476345713225055,\n",
       " 'SPECTRA 1.8L I4 EFI': 0.5108256237659907,\n",
       " 'SPECTRA 2.0L I-4 EFI': -0.5108256237659907,\n",
       " 'SPECTRA 2.0L I4 EFI': 0.30421137440299156,\n",
       " 'SPECTRA 5': -0.3364722366212129,\n",
       " 'SPORTAGE 2WD 4C': 0.20067069546215124,\n",
       " 'STRATUS 4C': -0.026145280104322245,\n",
       " 'STRATUS 4C 2.4L I4 M': 0.26341745045214976,\n",
       " 'STRATUS 4C 2.4L I4 S': -0.29376111852816306,\n",
       " 'STRATUS V6': 0.49933124434025555,\n",
       " 'STRATUS V6 2.7L V6 M': 1.5217529079349963,\n",
       " 'SUBURBAN 1500 2WD': 0.14310084364067324,\n",
       " 'SUBURBAN 1500 2WD 5.': -0.2006706954621511,\n",
       " 'SUNFIRE': -0.8472978603872037,\n",
       " 'SUNFIRE 2.2L I4 MPI': -1.0216512475319814,\n",
       " 'TAHOE 2WD': 0.5108256237659907,\n",
       " 'TAHOE 2WD 4.8L V8 SF': 0.5108256237659907,\n",
       " 'TAHOE 2WD 5.3L V8 SF': 0.4519851237430572,\n",
       " 'TAHOE 4WD 4.8L V8 SF': -0.8472978603872037,\n",
       " 'TAURUS': -0.029631797606371114,\n",
       " 'TAURUS 3.0L V6 EFI': -0.462272398349,\n",
       " 'TAURUS 3.0L V6 EFI /': 0.5108256237659907,\n",
       " 'TAURUS 3.0L V6 EFI D': -1.0986122886681098,\n",
       " 'TAURUS 3.0L V6 EFI F': 1.0986122886681098,\n",
       " 'TAURUS 3.0L V6 EFI S': -1.6094379124341003,\n",
       " 'TAURUS 3.0L V6 SFI': -0.1670540846631662,\n",
       " 'TAURUS X FWD V6': 1.466337068793427,\n",
       " 'TIBURON': -1.7346010553881064,\n",
       " 'TITAN PICKUP 2WD V8': 0.8472978603872037,\n",
       " 'TORRENT FWD V6': 0.25131442828090617,\n",
       " 'TORRENT FWD V6 3.4L': 0.5877866649021191,\n",
       " 'TOWN & COUNTRY 2WD V': 0.44031183943833246,\n",
       " 'TOWN & COUNTRY FWD V': 0.02963179760637115,\n",
       " 'TOWN CAR': 0.25131442828090617,\n",
       " 'TOWN CAR 4.6L V8 EFI': -0.587786664902119,\n",
       " 'TRACKER 2WD 4C': 0.5108256237659907,\n",
       " 'TRACKER 2WD V6': -0.587786664902119,\n",
       " 'TRAILBLAZER 2WD 6C': 0.3900564827553193,\n",
       " 'TRAILBLAZER 2WD 6C 4': 0.1981769285837487,\n",
       " 'TRAILBLAZER 4WD 6C': 0.3491842722095748,\n",
       " 'TRAILBLAZER 4WD 6C 4': 0.41074216520900814,\n",
       " 'TRAILBLAZER EXT 2WD': 0.1973594341584952,\n",
       " 'TRIBUTE 2WD 4C': -0.2682639865946794,\n",
       " 'TRIBUTE 2WD 4C 2.3L': 0.9555114450274363,\n",
       " 'TRIBUTE 2WD V6': 0.36772478012531734,\n",
       " 'TRIBUTE 2WD V6 3.0L': -0.5108256237659907,\n",
       " 'TRIBUTE 4WD V6': -1.0986122886681098,\n",
       " 'TRIBUTE 4WD V6 3.0L': -0.25131442828090605,\n",
       " 'TUCSON 2WD 4C': 0.5877866649021191,\n",
       " 'TUCSON 2WD V6': -0.5108256237659907,\n",
       " 'TUNDRA PICKUP 2WD V8': 0.7621400520468967,\n",
       " 'UPLANDER AWD V6 3.5L': -0.5108256237659907,\n",
       " 'UPLANDER FWD V6': 0.5156333253340938,\n",
       " 'UPLANDER FWD V6 3.5L': 0.5705448584676129,\n",
       " 'UPLANDER FWD V6 3.9L': 2.268683541318364,\n",
       " 'VENTURE FWD V6': -0.07275935428242832,\n",
       " 'VENTURE FWD V6 3.4L': -0.08894748601649617,\n",
       " 'VERONA 2.5L I6 MPI': 0.5877866649021191,\n",
       " 'VERSA': 0.5465437063680699,\n",
       " 'VIBE': -0.058840500022933465,\n",
       " 'VIBE 1.8L I-4 MPI': 0.3364722366212129,\n",
       " 'VIBE 1.8L I4 MPI': -0.2006706954621511,\n",
       " 'VOYAGER FWD 4C': -0.5108256237659907,\n",
       " 'VOYAGER FWD 4C 2.4L': -1.466337068793427,\n",
       " 'VOYAGER FWD V6 3.3L': -1.0986122886681098,\n",
       " 'VUE 2WD 4C': -0.3272129112084162,\n",
       " 'VUE 2WD 4C 2.2L I-4': -0.5108256237659907,\n",
       " 'VUE 2WD V6': -0.7621400520468967,\n",
       " 'VUE AWD 4C 2.2L I4 M': -0.5108256237659907,\n",
       " 'VUE AWD V6': -0.25131442828090605,\n",
       " 'WINDSTAR FWD V6': -1.0319209141694374,\n",
       " 'WINDSTAR FWD V6 3.8L': -1.5664205273504095,\n",
       " 'XA': -0.3364722366212129,\n",
       " 'XB': 0.3364722366212129,\n",
       " 'XB 1.5L I-4 EFI DOHC': 0.3364722366212129,\n",
       " 'XB 1.5L I4 EFI': -0.5108256237659907,\n",
       " 'XG 350': 1.0986122886681098,\n",
       " 'XL-7 2WD': -1.0986122886681098,\n",
       " 'XL-7 4WD': -0.5108256237659907,\n",
       " 'XTERRA 2WD 4C': -1.0986122886681098,\n",
       " 'XTERRA 2WD V6': -1.6094379124341003,\n",
       " 'XTERRA 2WD V6 3.3L V': -0.09097177820572676,\n",
       " 'XTERRA 4WD V6': -0.8472978603872037,\n",
       " 'YUKON 2WD V8': -0.5108256237659907,\n",
       " 'YUKON 2WD V8 4.8L V8': 0.5108256237659907,\n",
       " 'YUKON XL 1500 4WD': 0.5108256237659907,\n",
       " 'ZEPHYR': 0.5108256237659907,\n",
       " 'BUICK': -0.20726050514120672,\n",
       " 'CHEVROLET': 0.3523148651062754,\n",
       " 'CHRYSLER': -0.16134913190256486,\n",
       " 'DODGE': 0.19940286644922028,\n",
       " 'FORD': -0.28818618094660226,\n",
       " 'GMC': 0.26304476806639576,\n",
       " 'HONDA': 0.3272129112084162,\n",
       " 'HYUNDAI': 0.11858981262632354,\n",
       " 'INFINITI': -0.587786664902119,\n",
       " 'ISUZU': 0.5108256237659907,\n",
       " 'JEEP': -0.18646807275580313,\n",
       " 'KIA': 0.07056869016416226,\n",
       " 'LEXUS': -0.5108256237659907,\n",
       " 'LINCOLN': -0.10008345855698253,\n",
       " 'MAZDA': -0.25671984684781396,\n",
       " 'MERCURY': -0.20302918712144405,\n",
       " 'MINI': -0.3364722366212129,\n",
       " 'MITSUBISHI': -0.009804000096620856,\n",
       " 'NISSAN': -0.24445333790096085,\n",
       " 'OLDSMOBILE': -0.4895482253187058,\n",
       " 'PONTIAC': 0.10676797542570614,\n",
       " 'SATURN': -0.25707662337570325,\n",
       " 'SUBARU': 0.5108256237659907,\n",
       " 'SUZUKI': -0.31126081727471694,\n",
       " 'TOYOTA': 0.14686024656457913,\n",
       " 'AUTO': 0.02789546421860804,\n",
       " 'MANUAL': -0.01535538808319465}"
      ]
     },
     "execution_count": 352,
     "metadata": {},
     "output_type": "execute_result"
    }
   ],
   "source": [
    "woe_cat_dict \n",
    "#the nan value are here can simply be compared to having no values or zero, we will set it in the flask code part\n",
    "# using the np.nan_to_num method"
   ]
  },
  {
   "cell_type": "code",
   "execution_count": 353,
   "id": "cf2e1cd5",
   "metadata": {},
   "outputs": [
    {
     "name": "stdout",
     "output_type": "stream",
     "text": [
      "<class 'pandas.core.frame.DataFrame'>\n",
      "RangeIndex: 16360 entries, 0 to 16359\n",
      "Data columns (total 9 columns):\n",
      " #   Column                             Non-Null Count  Dtype  \n",
      "---  ------                             --------------  -----  \n",
      " 0   Model                              16360 non-null  object \n",
      " 1   Make                               16360 non-null  object \n",
      " 2   Transmission                       16360 non-null  object \n",
      " 3   VehOdo                             16360 non-null  int64  \n",
      " 4   MMRAcquisitionAuctionAveragePrice  16360 non-null  float64\n",
      " 5   IsBadBuy                           16360 non-null  int64  \n",
      " 6   Model_encoded                      16360 non-null  float64\n",
      " 7   Make_encoded                       16360 non-null  float64\n",
      " 8   Transmission_encoded               16360 non-null  float64\n",
      "dtypes: float64(4), int64(2), object(3)\n",
      "memory usage: 1.1+ MB\n"
     ]
    }
   ],
   "source": [
    "adesa_woe_pipe.info()"
   ]
  },
  {
   "cell_type": "markdown",
   "id": "29dcff36",
   "metadata": {},
   "source": [
    "### Modelization based on WOE "
   ]
  },
  {
   "cell_type": "code",
   "execution_count": 354,
   "id": "829f484e",
   "metadata": {},
   "outputs": [],
   "source": [
    "df = df_adesa_raw.copy()"
   ]
  },
  {
   "cell_type": "code",
   "execution_count": 355,
   "id": "204deeff",
   "metadata": {},
   "outputs": [],
   "source": [
    "#features = df\n",
    "#target = df[\"IsBadBuy\"]\n",
    "\n",
    "#x_wtrain, x_wtest, y_wtrain, y_wtest = train_test_split(features, target, test_size=0.25, random_state=0, stratify =df['Make']  )"
   ]
  },
  {
   "cell_type": "code",
   "execution_count": 356,
   "id": "0fae644e",
   "metadata": {},
   "outputs": [
    {
     "data": {
      "text/plain": [
       "0    6168\n",
       "1    6102\n",
       "Name: IsBadBuy, dtype: int64"
      ]
     },
     "execution_count": 356,
     "metadata": {},
     "output_type": "execute_result"
    }
   ],
   "source": [
    "y_wtrain.value_counts()"
   ]
  },
  {
   "cell_type": "code",
   "execution_count": 357,
   "id": "7d6938ea",
   "metadata": {},
   "outputs": [
    {
     "data": {
      "text/plain": [
       "1    2078\n",
       "0    2012\n",
       "Name: IsBadBuy, dtype: int64"
      ]
     },
     "execution_count": 357,
     "metadata": {},
     "output_type": "execute_result"
    }
   ],
   "source": [
    "y_wtest.value_counts()"
   ]
  },
  {
   "cell_type": "code",
   "execution_count": 358,
   "id": "701dde57",
   "metadata": {},
   "outputs": [],
   "source": [
    "#features = df\n",
    "#target = df[\"IsBadBuy\"]\n",
    "#x_wtrain, x_wtest, y_wtrain, y_wtest = train_test_split(features, target, test_size=0.25, random_state=0, stratify = )"
   ]
  },
  {
   "cell_type": "code",
   "execution_count": 359,
   "id": "a609232d",
   "metadata": {},
   "outputs": [],
   "source": [
    "features = adesa_woe_pipe\n",
    "target = adesa_woe_pipe[\"IsBadBuy\"]\n",
    "x_wtrain, x_wtest, y_wtrain, y_wtest = train_test_split(features, target, test_size=0.25, random_state=0)"
   ]
  },
  {
   "cell_type": "code",
   "execution_count": 360,
   "id": "84a3b840",
   "metadata": {},
   "outputs": [
    {
     "data": {
      "text/plain": [
       "12270"
      ]
     },
     "execution_count": 360,
     "metadata": {},
     "output_type": "execute_result"
    }
   ],
   "source": [
    "x_wtrain[\"IsBadBuy\"].shape[0]"
   ]
  },
  {
   "cell_type": "code",
   "execution_count": 361,
   "id": "46db1e27",
   "metadata": {},
   "outputs": [
    {
     "data": {
      "text/plain": [
       "12270"
      ]
     },
     "execution_count": 361,
     "metadata": {},
     "output_type": "execute_result"
    }
   ],
   "source": [
    "x_wtrain[\"IsBadBuy\"].shape[0]"
   ]
  },
  {
   "cell_type": "code",
   "execution_count": 362,
   "id": "831e7f61",
   "metadata": {},
   "outputs": [],
   "source": [
    "w_scaler = StandardScaler()\n",
    "w_randomForest = RandomForestClassifier(class_weight=\"balanced\")\n",
    "w_logisticRegr = LogisticRegression(random_state=0)\n",
    "w_decisionTree = DecisionTreeClassifier()\n",
    "\n",
    "# Creating a list of pipelines for three different candidate classifiers \n",
    "woe_bench_cross = [Pipeline([(\"scaler\",w_scaler), ('lr_classifier', w_logisticRegr)]),\n",
    "                    Pipeline([('dt_classifier', w_decisionTree)]),\n",
    "                    Pipeline([('rf_classifier', w_randomForest)])] "
   ]
  },
  {
   "cell_type": "code",
   "execution_count": 363,
   "id": "8a8b3e28",
   "metadata": {},
   "outputs": [
    {
     "data": {
      "text/html": [
       "<div>\n",
       "<style scoped>\n",
       "    .dataframe tbody tr th:only-of-type {\n",
       "        vertical-align: middle;\n",
       "    }\n",
       "\n",
       "    .dataframe tbody tr th {\n",
       "        vertical-align: top;\n",
       "    }\n",
       "\n",
       "    .dataframe thead th {\n",
       "        text-align: right;\n",
       "    }\n",
       "</style>\n",
       "<table border=\"1\" class=\"dataframe\">\n",
       "  <thead>\n",
       "    <tr style=\"text-align: right;\">\n",
       "      <th></th>\n",
       "      <th>Model</th>\n",
       "      <th>Make</th>\n",
       "      <th>Transmission</th>\n",
       "      <th>VehOdo</th>\n",
       "      <th>MMRAcquisitionAuctionAveragePrice</th>\n",
       "      <th>IsBadBuy</th>\n",
       "      <th>Model_encoded</th>\n",
       "      <th>Make_encoded</th>\n",
       "      <th>Transmission_encoded</th>\n",
       "    </tr>\n",
       "  </thead>\n",
       "  <tbody>\n",
       "    <tr>\n",
       "      <th>3824</th>\n",
       "      <td>IMPALA</td>\n",
       "      <td>CHEVROLET</td>\n",
       "      <td>AUTO</td>\n",
       "      <td>61255</td>\n",
       "      <td>6840.0</td>\n",
       "      <td>0</td>\n",
       "      <td>0.473546</td>\n",
       "      <td>0.352315</td>\n",
       "      <td>0.027895</td>\n",
       "    </tr>\n",
       "    <tr>\n",
       "      <th>12190</th>\n",
       "      <td>TAURUS 3.0L V6 EFI</td>\n",
       "      <td>FORD</td>\n",
       "      <td>AUTO</td>\n",
       "      <td>61718</td>\n",
       "      <td>4495.0</td>\n",
       "      <td>1</td>\n",
       "      <td>-0.462272</td>\n",
       "      <td>-0.288186</td>\n",
       "      <td>0.027895</td>\n",
       "    </tr>\n",
       "    <tr>\n",
       "      <th>4075</th>\n",
       "      <td>TRAILBLAZER EXT 2WD</td>\n",
       "      <td>CHEVROLET</td>\n",
       "      <td>AUTO</td>\n",
       "      <td>78986</td>\n",
       "      <td>5490.0</td>\n",
       "      <td>0</td>\n",
       "      <td>0.197359</td>\n",
       "      <td>0.352315</td>\n",
       "      <td>0.027895</td>\n",
       "    </tr>\n",
       "    <tr>\n",
       "      <th>4350</th>\n",
       "      <td>UPLANDER FWD V6 3.5L</td>\n",
       "      <td>CHEVROLET</td>\n",
       "      <td>AUTO</td>\n",
       "      <td>67555</td>\n",
       "      <td>7123.0</td>\n",
       "      <td>0</td>\n",
       "      <td>0.570545</td>\n",
       "      <td>0.352315</td>\n",
       "      <td>0.027895</td>\n",
       "    </tr>\n",
       "    <tr>\n",
       "      <th>11031</th>\n",
       "      <td>SORENTO 2WD</td>\n",
       "      <td>KIA</td>\n",
       "      <td>AUTO</td>\n",
       "      <td>69046</td>\n",
       "      <td>5058.0</td>\n",
       "      <td>1</td>\n",
       "      <td>-1.189584</td>\n",
       "      <td>0.070569</td>\n",
       "      <td>0.027895</td>\n",
       "    </tr>\n",
       "    <tr>\n",
       "      <th>...</th>\n",
       "      <td>...</td>\n",
       "      <td>...</td>\n",
       "      <td>...</td>\n",
       "      <td>...</td>\n",
       "      <td>...</td>\n",
       "      <td>...</td>\n",
       "      <td>...</td>\n",
       "      <td>...</td>\n",
       "      <td>...</td>\n",
       "    </tr>\n",
       "    <tr>\n",
       "      <th>13123</th>\n",
       "      <td>EXPLORER 4WD V6</td>\n",
       "      <td>FORD</td>\n",
       "      <td>AUTO</td>\n",
       "      <td>75445</td>\n",
       "      <td>6788.0</td>\n",
       "      <td>1</td>\n",
       "      <td>-0.587787</td>\n",
       "      <td>-0.288186</td>\n",
       "      <td>0.027895</td>\n",
       "    </tr>\n",
       "    <tr>\n",
       "      <th>3264</th>\n",
       "      <td>PT CRUISER 2.4L I4 S</td>\n",
       "      <td>CHRYSLER</td>\n",
       "      <td>AUTO</td>\n",
       "      <td>41735</td>\n",
       "      <td>6263.0</td>\n",
       "      <td>0</td>\n",
       "      <td>-0.241552</td>\n",
       "      <td>-0.161349</td>\n",
       "      <td>0.027895</td>\n",
       "    </tr>\n",
       "    <tr>\n",
       "      <th>9845</th>\n",
       "      <td>TRAILBLAZER 2WD 6C 4</td>\n",
       "      <td>CHEVROLET</td>\n",
       "      <td>AUTO</td>\n",
       "      <td>71891</td>\n",
       "      <td>6434.0</td>\n",
       "      <td>1</td>\n",
       "      <td>0.198177</td>\n",
       "      <td>0.352315</td>\n",
       "      <td>0.027895</td>\n",
       "    </tr>\n",
       "    <tr>\n",
       "      <th>10799</th>\n",
       "      <td>GRAND PRIX 3.8L V6 S</td>\n",
       "      <td>PONTIAC</td>\n",
       "      <td>AUTO</td>\n",
       "      <td>78448</td>\n",
       "      <td>6699.0</td>\n",
       "      <td>1</td>\n",
       "      <td>0.688463</td>\n",
       "      <td>0.106768</td>\n",
       "      <td>0.027895</td>\n",
       "    </tr>\n",
       "    <tr>\n",
       "      <th>2732</th>\n",
       "      <td>IMPALA</td>\n",
       "      <td>CHEVROLET</td>\n",
       "      <td>AUTO</td>\n",
       "      <td>52998</td>\n",
       "      <td>4301.0</td>\n",
       "      <td>1</td>\n",
       "      <td>0.473546</td>\n",
       "      <td>0.352315</td>\n",
       "      <td>0.027895</td>\n",
       "    </tr>\n",
       "  </tbody>\n",
       "</table>\n",
       "<p>12270 rows × 9 columns</p>\n",
       "</div>"
      ],
      "text/plain": [
       "                      Model       Make Transmission  VehOdo  \\\n",
       "3824                 IMPALA  CHEVROLET         AUTO   61255   \n",
       "12190    TAURUS 3.0L V6 EFI       FORD         AUTO   61718   \n",
       "4075    TRAILBLAZER EXT 2WD  CHEVROLET         AUTO   78986   \n",
       "4350   UPLANDER FWD V6 3.5L  CHEVROLET         AUTO   67555   \n",
       "11031           SORENTO 2WD        KIA         AUTO   69046   \n",
       "...                     ...        ...          ...     ...   \n",
       "13123       EXPLORER 4WD V6       FORD         AUTO   75445   \n",
       "3264   PT CRUISER 2.4L I4 S   CHRYSLER         AUTO   41735   \n",
       "9845   TRAILBLAZER 2WD 6C 4  CHEVROLET         AUTO   71891   \n",
       "10799  GRAND PRIX 3.8L V6 S    PONTIAC         AUTO   78448   \n",
       "2732                 IMPALA  CHEVROLET         AUTO   52998   \n",
       "\n",
       "       MMRAcquisitionAuctionAveragePrice  IsBadBuy  Model_encoded  \\\n",
       "3824                              6840.0         0       0.473546   \n",
       "12190                             4495.0         1      -0.462272   \n",
       "4075                              5490.0         0       0.197359   \n",
       "4350                              7123.0         0       0.570545   \n",
       "11031                             5058.0         1      -1.189584   \n",
       "...                                  ...       ...            ...   \n",
       "13123                             6788.0         1      -0.587787   \n",
       "3264                              6263.0         0      -0.241552   \n",
       "9845                              6434.0         1       0.198177   \n",
       "10799                             6699.0         1       0.688463   \n",
       "2732                              4301.0         1       0.473546   \n",
       "\n",
       "       Make_encoded  Transmission_encoded  \n",
       "3824       0.352315              0.027895  \n",
       "12190     -0.288186              0.027895  \n",
       "4075       0.352315              0.027895  \n",
       "4350       0.352315              0.027895  \n",
       "11031      0.070569              0.027895  \n",
       "...             ...                   ...  \n",
       "13123     -0.288186              0.027895  \n",
       "3264      -0.161349              0.027895  \n",
       "9845       0.352315              0.027895  \n",
       "10799      0.106768              0.027895  \n",
       "2732       0.352315              0.027895  \n",
       "\n",
       "[12270 rows x 9 columns]"
      ]
     },
     "execution_count": 363,
     "metadata": {},
     "output_type": "execute_result"
    }
   ],
   "source": [
    "x_wtrain"
   ]
  },
  {
   "cell_type": "code",
   "execution_count": 364,
   "id": "b70eec72",
   "metadata": {},
   "outputs": [],
   "source": [
    "# Dictionary of pipelines and classifier types for ease of reference\n",
    "woe_pipe_dict = {0: 'Logistic Regression', 1: 'Decision Tree', 2: ' Default mode RandomForest'}\n",
    "\n",
    "# Fit the pipelines\n",
    "for pipe in woe_bench_cross:\n",
    "    pipe.fit(x_wtrain.drop([\"IsBadBuy\", \"Model\", \"Make\",\"Transmission\"], axis =1), y_wtrain)"
   ]
  },
  {
   "cell_type": "code",
   "execution_count": 365,
   "id": "1024e0c2",
   "metadata": {},
   "outputs": [
    {
     "name": "stdout",
     "output_type": "stream",
     "text": [
      "Logistic Regression with Weight of evidence Test Accuracy: 0.628361858190709\n",
      "Decision Tree with Weight of evidence Test Accuracy: 0.5603911980440098\n",
      " Default mode RandomForest with Weight of evidence Test Accuracy: 0.5965770171149144\n"
     ]
    }
   ],
   "source": [
    "for i,model in enumerate(woe_bench_cross):\n",
    "    print(\"{} with Weight of evidence Test Accuracy: {}\".format(woe_pipe_dict[i],model.score(x_wtest.drop([\"IsBadBuy\", \"Model\", \"Make\",\"Transmission\"], axis =1),y_wtest)))"
   ]
  },
  {
   "cell_type": "markdown",
   "id": "5c70af55",
   "metadata": {},
   "source": [
    "# Random frorest classifier Auto-Hyperparameters tuning"
   ]
  },
  {
   "cell_type": "code",
   "execution_count": 366,
   "id": "d18edb4d",
   "metadata": {},
   "outputs": [],
   "source": [
    "# Create a pipeline\n",
    "pipe = make_pipeline((RandomForestClassifier()))\n",
    "# Create dictionary with candidate learning algorithms and their hyperparameters\n",
    "grid_param = [\n",
    "                {\"randomforestclassifier\": [RandomForestClassifier(class_weight=\"balanced\")],\n",
    "                 \"randomforestclassifier__n_estimators\": [10],\n",
    "                 \"randomforestclassifier__max_depth\":[10,30,25,20],\n",
    "                 \"randomforestclassifier__min_samples_leaf\":[1,2,5,6,10,15,100],\n",
    "                 \"randomforestclassifier__max_leaf_nodes\": [2, 5,10]}]\n",
    "# create a gridsearch of the pipeline, the fit the best model\n",
    "gridsearch = GridSearchCV(pipe, grid_param, cv=10, verbose=0,n_jobs=-1) # Fit grid search\n",
    "Upgraded_Random_frorest = gridsearch.fit(x_wtrain.drop([\"IsBadBuy\", \"Model\", \"Make\",\"Transmission\"], axis =1),y_wtrain)"
   ]
  },
  {
   "cell_type": "code",
   "execution_count": 367,
   "id": "b69bfca8",
   "metadata": {},
   "outputs": [
    {
     "data": {
      "text/plain": [
       "0.6207823960880196"
      ]
     },
     "execution_count": 367,
     "metadata": {},
     "output_type": "execute_result"
    }
   ],
   "source": [
    "Upgraded_Random_frorest.score(x_wtest.drop([\"IsBadBuy\", \"Model\", \"Make\",\"Transmission\"], axis =1), y_wtest)"
   ]
  },
  {
   "cell_type": "code",
   "execution_count": 368,
   "id": "0f92443a",
   "metadata": {},
   "outputs": [
    {
     "name": "stdout",
     "output_type": "stream",
     "text": [
      "Pipeline(steps=[('randomforestclassifier',\n",
      "                 RandomForestClassifier(class_weight='balanced', max_depth=30,\n",
      "                                        max_leaf_nodes=10, min_samples_leaf=100,\n",
      "                                        n_estimators=10))])\n"
     ]
    }
   ],
   "source": [
    "print(Upgraded_Random_frorest.best_estimator_)"
   ]
  },
  {
   "cell_type": "markdown",
   "id": "42393713",
   "metadata": {},
   "source": [
    "# Results"
   ]
  },
  {
   "cell_type": "markdown",
   "id": "7c111207",
   "metadata": {},
   "source": [
    "The best pipeline between the frequency encoding and the weight of evidence encoding is  : Weight of evidence one "
   ]
  },
  {
   "cell_type": "markdown",
   "id": "fddc0b35",
   "metadata": {},
   "source": [
    "The best model within that pipeline is : Logistic regression  then Upgraded Random forest models with the same score"
   ]
  },
  {
   "cell_type": "markdown",
   "id": "19640cc3",
   "metadata": {},
   "source": [
    "saving the created encoding dictionnary for interpretation in the flask part"
   ]
  },
  {
   "cell_type": "code",
   "execution_count": 369,
   "id": "ef35996e",
   "metadata": {},
   "outputs": [],
   "source": [
    "file = open('kidict.pkl', 'wb')\n",
    "pickle.dump(woe_cat_dict, file)"
   ]
  },
  {
   "cell_type": "markdown",
   "id": "ec9648d7",
   "metadata": {},
   "source": [
    "saving the selected model"
   ]
  },
  {
   "cell_type": "code",
   "execution_count": 370,
   "id": "6b082fe4",
   "metadata": {},
   "outputs": [],
   "source": [
    "file = open('model.pkl', 'wb')\n",
    "pickle.dump(Upgraded_Random_frorest, file)"
   ]
  },
  {
   "cell_type": "markdown",
   "id": "4e8d9414",
   "metadata": {},
   "source": [
    "# Test"
   ]
  },
  {
   "cell_type": "code",
   "execution_count": 371,
   "id": "ce49029a",
   "metadata": {},
   "outputs": [
    {
     "data": {
      "text/plain": [
       "array([1, 1, 1, ..., 0, 1, 1], dtype=int64)"
      ]
     },
     "execution_count": 371,
     "metadata": {},
     "output_type": "execute_result"
    }
   ],
   "source": [
    "a = Upgraded_Random_frorest.predict(x_wtest.drop([\"IsBadBuy\",\n",
    "                                                  \"Model\",\n",
    "                                                  \"Make\",\n",
    "                                                  \"Transmission\"], axis =1))\n",
    "a"
   ]
  },
  {
   "cell_type": "code",
   "execution_count": 372,
   "id": "eb43813e",
   "metadata": {},
   "outputs": [
    {
     "data": {
      "text/plain": [
       "4090"
      ]
     },
     "execution_count": 372,
     "metadata": {},
     "output_type": "execute_result"
    }
   ],
   "source": [
    "len(a)"
   ]
  },
  {
   "cell_type": "code",
   "execution_count": 373,
   "id": "80305e5d",
   "metadata": {},
   "outputs": [
    {
     "data": {
      "text/plain": [
       "1975"
      ]
     },
     "execution_count": 373,
     "metadata": {},
     "output_type": "execute_result"
    }
   ],
   "source": [
    "a.sum()"
   ]
  },
  {
   "cell_type": "code",
   "execution_count": 374,
   "id": "e0f58c97",
   "metadata": {},
   "outputs": [],
   "source": [
    "x_wtest['predicted_label'] = Upgraded_Random_frorest.predict(x_wtest.drop([\"IsBadBuy\",\n",
    "                                                                           \"Model\", \n",
    "                                                                           \"Make\",\n",
    "                                                                           \"Transmission\"], axis =1))"
   ]
  },
  {
   "cell_type": "code",
   "execution_count": 375,
   "id": "67ff1d68",
   "metadata": {},
   "outputs": [
    {
     "data": {
      "text/html": [
       "<div>\n",
       "<style scoped>\n",
       "    .dataframe tbody tr th:only-of-type {\n",
       "        vertical-align: middle;\n",
       "    }\n",
       "\n",
       "    .dataframe tbody tr th {\n",
       "        vertical-align: top;\n",
       "    }\n",
       "\n",
       "    .dataframe thead th {\n",
       "        text-align: right;\n",
       "    }\n",
       "</style>\n",
       "<table border=\"1\" class=\"dataframe\">\n",
       "  <thead>\n",
       "    <tr style=\"text-align: right;\">\n",
       "      <th></th>\n",
       "      <th>Model</th>\n",
       "      <th>Make</th>\n",
       "      <th>Transmission</th>\n",
       "      <th>VehOdo</th>\n",
       "      <th>MMRAcquisitionAuctionAveragePrice</th>\n",
       "      <th>IsBadBuy</th>\n",
       "      <th>Model_encoded</th>\n",
       "      <th>Make_encoded</th>\n",
       "      <th>Transmission_encoded</th>\n",
       "      <th>predicted_label</th>\n",
       "    </tr>\n",
       "  </thead>\n",
       "  <tbody>\n",
       "    <tr>\n",
       "      <th>12540</th>\n",
       "      <td>ALTIMA</td>\n",
       "      <td>NISSAN</td>\n",
       "      <td>AUTO</td>\n",
       "      <td>86450</td>\n",
       "      <td>4165.0</td>\n",
       "      <td>1</td>\n",
       "      <td>0.170106</td>\n",
       "      <td>-0.244453</td>\n",
       "      <td>0.027895</td>\n",
       "      <td>1</td>\n",
       "    </tr>\n",
       "    <tr>\n",
       "      <th>2606</th>\n",
       "      <td>VENTURE FWD V6</td>\n",
       "      <td>CHEVROLET</td>\n",
       "      <td>AUTO</td>\n",
       "      <td>78136</td>\n",
       "      <td>3382.0</td>\n",
       "      <td>0</td>\n",
       "      <td>-0.072759</td>\n",
       "      <td>0.352315</td>\n",
       "      <td>0.027895</td>\n",
       "      <td>1</td>\n",
       "    </tr>\n",
       "    <tr>\n",
       "      <th>5911</th>\n",
       "      <td>CAVALIER 4C</td>\n",
       "      <td>CHEVROLET</td>\n",
       "      <td>AUTO</td>\n",
       "      <td>50887</td>\n",
       "      <td>2977.0</td>\n",
       "      <td>0</td>\n",
       "      <td>-0.463837</td>\n",
       "      <td>0.352315</td>\n",
       "      <td>0.027895</td>\n",
       "      <td>1</td>\n",
       "    </tr>\n",
       "    <tr>\n",
       "      <th>7862</th>\n",
       "      <td>CALIBER</td>\n",
       "      <td>DODGE</td>\n",
       "      <td>AUTO</td>\n",
       "      <td>90387</td>\n",
       "      <td>7197.0</td>\n",
       "      <td>0</td>\n",
       "      <td>-0.489548</td>\n",
       "      <td>0.199403</td>\n",
       "      <td>0.027895</td>\n",
       "      <td>1</td>\n",
       "    </tr>\n",
       "    <tr>\n",
       "      <th>1534</th>\n",
       "      <td>TAURUS</td>\n",
       "      <td>FORD</td>\n",
       "      <td>AUTO</td>\n",
       "      <td>71364</td>\n",
       "      <td>2259.0</td>\n",
       "      <td>0</td>\n",
       "      <td>-0.029632</td>\n",
       "      <td>-0.288186</td>\n",
       "      <td>0.027895</td>\n",
       "      <td>1</td>\n",
       "    </tr>\n",
       "  </tbody>\n",
       "</table>\n",
       "</div>"
      ],
      "text/plain": [
       "                Model       Make Transmission  VehOdo  \\\n",
       "12540          ALTIMA     NISSAN         AUTO   86450   \n",
       "2606   VENTURE FWD V6  CHEVROLET         AUTO   78136   \n",
       "5911      CAVALIER 4C  CHEVROLET         AUTO   50887   \n",
       "7862          CALIBER      DODGE         AUTO   90387   \n",
       "1534           TAURUS       FORD         AUTO   71364   \n",
       "\n",
       "       MMRAcquisitionAuctionAveragePrice  IsBadBuy  Model_encoded  \\\n",
       "12540                             4165.0         1       0.170106   \n",
       "2606                              3382.0         0      -0.072759   \n",
       "5911                              2977.0         0      -0.463837   \n",
       "7862                              7197.0         0      -0.489548   \n",
       "1534                              2259.0         0      -0.029632   \n",
       "\n",
       "       Make_encoded  Transmission_encoded  predicted_label  \n",
       "12540     -0.244453              0.027895                1  \n",
       "2606       0.352315              0.027895                1  \n",
       "5911       0.352315              0.027895                1  \n",
       "7862       0.199403              0.027895                1  \n",
       "1534      -0.288186              0.027895                1  "
      ]
     },
     "execution_count": 375,
     "metadata": {},
     "output_type": "execute_result"
    }
   ],
   "source": [
    "x_wtest.head(5) \n"
   ]
  },
  {
   "cell_type": "code",
   "execution_count": 376,
   "id": "7f1ce219",
   "metadata": {},
   "outputs": [
    {
     "data": {
      "text/plain": [
       "0.47354624267324213"
      ]
     },
     "execution_count": 376,
     "metadata": {},
     "output_type": "execute_result"
    }
   ],
   "source": [
    "woe_cat_dict.get('IMPALA')"
   ]
  },
  {
   "cell_type": "code",
   "execution_count": 377,
   "id": "71796b5f",
   "metadata": {},
   "outputs": [
    {
     "data": {
      "text/plain": [
       "2078"
      ]
     },
     "execution_count": 377,
     "metadata": {},
     "output_type": "execute_result"
    }
   ],
   "source": [
    "test['IsBadBuy'].sum()"
   ]
  },
  {
   "cell_type": "code",
   "execution_count": 406,
   "id": "51509e71",
   "metadata": {},
   "outputs": [
    {
     "data": {
      "text/html": [
       "<div>\n",
       "<style scoped>\n",
       "    .dataframe tbody tr th:only-of-type {\n",
       "        vertical-align: middle;\n",
       "    }\n",
       "\n",
       "    .dataframe tbody tr th {\n",
       "        vertical-align: top;\n",
       "    }\n",
       "\n",
       "    .dataframe thead th {\n",
       "        text-align: right;\n",
       "    }\n",
       "</style>\n",
       "<table border=\"1\" class=\"dataframe\">\n",
       "  <thead>\n",
       "    <tr style=\"text-align: right;\">\n",
       "      <th></th>\n",
       "      <th>Model</th>\n",
       "      <th>Make</th>\n",
       "      <th>Transmission</th>\n",
       "      <th>VehOdo</th>\n",
       "      <th>MMRAcquisitionAuctionAveragePrice</th>\n",
       "      <th>IsBadBuy</th>\n",
       "      <th>predicted_label</th>\n",
       "    </tr>\n",
       "  </thead>\n",
       "  <tbody>\n",
       "    <tr>\n",
       "      <th>12540</th>\n",
       "      <td>ALTIMA</td>\n",
       "      <td>NISSAN</td>\n",
       "      <td>AUTO</td>\n",
       "      <td>86450</td>\n",
       "      <td>4165.0</td>\n",
       "      <td>1</td>\n",
       "      <td>1</td>\n",
       "    </tr>\n",
       "    <tr>\n",
       "      <th>2606</th>\n",
       "      <td>VENTURE FWD V6</td>\n",
       "      <td>CHEVROLET</td>\n",
       "      <td>AUTO</td>\n",
       "      <td>78136</td>\n",
       "      <td>3382.0</td>\n",
       "      <td>0</td>\n",
       "      <td>1</td>\n",
       "    </tr>\n",
       "    <tr>\n",
       "      <th>5911</th>\n",
       "      <td>CAVALIER 4C</td>\n",
       "      <td>CHEVROLET</td>\n",
       "      <td>AUTO</td>\n",
       "      <td>50887</td>\n",
       "      <td>2977.0</td>\n",
       "      <td>0</td>\n",
       "      <td>1</td>\n",
       "    </tr>\n",
       "    <tr>\n",
       "      <th>7862</th>\n",
       "      <td>CALIBER</td>\n",
       "      <td>DODGE</td>\n",
       "      <td>AUTO</td>\n",
       "      <td>90387</td>\n",
       "      <td>7197.0</td>\n",
       "      <td>0</td>\n",
       "      <td>1</td>\n",
       "    </tr>\n",
       "    <tr>\n",
       "      <th>1534</th>\n",
       "      <td>TAURUS</td>\n",
       "      <td>FORD</td>\n",
       "      <td>AUTO</td>\n",
       "      <td>71364</td>\n",
       "      <td>2259.0</td>\n",
       "      <td>0</td>\n",
       "      <td>1</td>\n",
       "    </tr>\n",
       "    <tr>\n",
       "      <th>574</th>\n",
       "      <td>COBALT</td>\n",
       "      <td>CHEVROLET</td>\n",
       "      <td>MANUAL</td>\n",
       "      <td>88170</td>\n",
       "      <td>5092.0</td>\n",
       "      <td>0</td>\n",
       "      <td>1</td>\n",
       "    </tr>\n",
       "    <tr>\n",
       "      <th>10172</th>\n",
       "      <td>STRATUS V6</td>\n",
       "      <td>DODGE</td>\n",
       "      <td>AUTO</td>\n",
       "      <td>64554</td>\n",
       "      <td>3228.0</td>\n",
       "      <td>1</td>\n",
       "      <td>0</td>\n",
       "    </tr>\n",
       "    <tr>\n",
       "      <th>14897</th>\n",
       "      <td>DURANGO 4WD V8 4.7L</td>\n",
       "      <td>DODGE</td>\n",
       "      <td>AUTO</td>\n",
       "      <td>89416</td>\n",
       "      <td>9116.0</td>\n",
       "      <td>1</td>\n",
       "      <td>0</td>\n",
       "    </tr>\n",
       "    <tr>\n",
       "      <th>12148</th>\n",
       "      <td>EXPEDITION 2WD V8</td>\n",
       "      <td>FORD</td>\n",
       "      <td>AUTO</td>\n",
       "      <td>91769</td>\n",
       "      <td>8446.0</td>\n",
       "      <td>1</td>\n",
       "      <td>1</td>\n",
       "    </tr>\n",
       "    <tr>\n",
       "      <th>5543</th>\n",
       "      <td>IMPALA</td>\n",
       "      <td>CHEVROLET</td>\n",
       "      <td>AUTO</td>\n",
       "      <td>68515</td>\n",
       "      <td>8015.0</td>\n",
       "      <td>0</td>\n",
       "      <td>0</td>\n",
       "    </tr>\n",
       "    <tr>\n",
       "      <th>10510</th>\n",
       "      <td>ION</td>\n",
       "      <td>SATURN</td>\n",
       "      <td>AUTO</td>\n",
       "      <td>70736</td>\n",
       "      <td>5773.0</td>\n",
       "      <td>1</td>\n",
       "      <td>1</td>\n",
       "    </tr>\n",
       "    <tr>\n",
       "      <th>651</th>\n",
       "      <td>CENTURY V6</td>\n",
       "      <td>BUICK</td>\n",
       "      <td>AUTO</td>\n",
       "      <td>92219</td>\n",
       "      <td>3658.0</td>\n",
       "      <td>0</td>\n",
       "      <td>1</td>\n",
       "    </tr>\n",
       "    <tr>\n",
       "      <th>12416</th>\n",
       "      <td>SPECTRA</td>\n",
       "      <td>KIA</td>\n",
       "      <td>AUTO</td>\n",
       "      <td>65978</td>\n",
       "      <td>3955.0</td>\n",
       "      <td>1</td>\n",
       "      <td>0</td>\n",
       "    </tr>\n",
       "    <tr>\n",
       "      <th>4610</th>\n",
       "      <td>F150 PICKUP 2WD V6 4</td>\n",
       "      <td>FORD</td>\n",
       "      <td>MANUAL</td>\n",
       "      <td>71942</td>\n",
       "      <td>5338.0</td>\n",
       "      <td>0</td>\n",
       "      <td>1</td>\n",
       "    </tr>\n",
       "    <tr>\n",
       "      <th>12882</th>\n",
       "      <td>EQUINOX AWD V6 3.4L</td>\n",
       "      <td>CHEVROLET</td>\n",
       "      <td>AUTO</td>\n",
       "      <td>74939</td>\n",
       "      <td>8918.0</td>\n",
       "      <td>1</td>\n",
       "      <td>1</td>\n",
       "    </tr>\n",
       "    <tr>\n",
       "      <th>3780</th>\n",
       "      <td>PT CRUISER</td>\n",
       "      <td>CHRYSLER</td>\n",
       "      <td>AUTO</td>\n",
       "      <td>91796</td>\n",
       "      <td>3688.0</td>\n",
       "      <td>0</td>\n",
       "      <td>1</td>\n",
       "    </tr>\n",
       "    <tr>\n",
       "      <th>6988</th>\n",
       "      <td>MAZDA3</td>\n",
       "      <td>MAZDA</td>\n",
       "      <td>AUTO</td>\n",
       "      <td>67632</td>\n",
       "      <td>7264.0</td>\n",
       "      <td>0</td>\n",
       "      <td>0</td>\n",
       "    </tr>\n",
       "    <tr>\n",
       "      <th>2291</th>\n",
       "      <td>SEBRING 4C</td>\n",
       "      <td>CHRYSLER</td>\n",
       "      <td>AUTO</td>\n",
       "      <td>51805</td>\n",
       "      <td>8533.0</td>\n",
       "      <td>0</td>\n",
       "      <td>0</td>\n",
       "    </tr>\n",
       "    <tr>\n",
       "      <th>15442</th>\n",
       "      <td>ALTIMA</td>\n",
       "      <td>NISSAN</td>\n",
       "      <td>AUTO</td>\n",
       "      <td>69447</td>\n",
       "      <td>11928.0</td>\n",
       "      <td>1</td>\n",
       "      <td>0</td>\n",
       "    </tr>\n",
       "    <tr>\n",
       "      <th>10282</th>\n",
       "      <td>MAZDA6</td>\n",
       "      <td>MAZDA</td>\n",
       "      <td>MANUAL</td>\n",
       "      <td>61693</td>\n",
       "      <td>8181.0</td>\n",
       "      <td>1</td>\n",
       "      <td>1</td>\n",
       "    </tr>\n",
       "  </tbody>\n",
       "</table>\n",
       "</div>"
      ],
      "text/plain": [
       "                      Model       Make Transmission  VehOdo  \\\n",
       "12540                ALTIMA     NISSAN         AUTO   86450   \n",
       "2606         VENTURE FWD V6  CHEVROLET         AUTO   78136   \n",
       "5911            CAVALIER 4C  CHEVROLET         AUTO   50887   \n",
       "7862                CALIBER      DODGE         AUTO   90387   \n",
       "1534                 TAURUS       FORD         AUTO   71364   \n",
       "574                  COBALT  CHEVROLET       MANUAL   88170   \n",
       "10172            STRATUS V6      DODGE         AUTO   64554   \n",
       "14897   DURANGO 4WD V8 4.7L      DODGE         AUTO   89416   \n",
       "12148     EXPEDITION 2WD V8       FORD         AUTO   91769   \n",
       "5543                 IMPALA  CHEVROLET         AUTO   68515   \n",
       "10510                   ION     SATURN         AUTO   70736   \n",
       "651              CENTURY V6      BUICK         AUTO   92219   \n",
       "12416               SPECTRA        KIA         AUTO   65978   \n",
       "4610   F150 PICKUP 2WD V6 4       FORD       MANUAL   71942   \n",
       "12882   EQUINOX AWD V6 3.4L  CHEVROLET         AUTO   74939   \n",
       "3780             PT CRUISER   CHRYSLER         AUTO   91796   \n",
       "6988                 MAZDA3      MAZDA         AUTO   67632   \n",
       "2291             SEBRING 4C   CHRYSLER         AUTO   51805   \n",
       "15442                ALTIMA     NISSAN         AUTO   69447   \n",
       "10282                MAZDA6      MAZDA       MANUAL   61693   \n",
       "\n",
       "       MMRAcquisitionAuctionAveragePrice  IsBadBuy  predicted_label  \n",
       "12540                             4165.0         1                1  \n",
       "2606                              3382.0         0                1  \n",
       "5911                              2977.0         0                1  \n",
       "7862                              7197.0         0                1  \n",
       "1534                              2259.0         0                1  \n",
       "574                               5092.0         0                1  \n",
       "10172                             3228.0         1                0  \n",
       "14897                             9116.0         1                0  \n",
       "12148                             8446.0         1                1  \n",
       "5543                              8015.0         0                0  \n",
       "10510                             5773.0         1                1  \n",
       "651                               3658.0         0                1  \n",
       "12416                             3955.0         1                0  \n",
       "4610                              5338.0         0                1  \n",
       "12882                             8918.0         1                1  \n",
       "3780                              3688.0         0                1  \n",
       "6988                              7264.0         0                0  \n",
       "2291                              8533.0         0                0  \n",
       "15442                            11928.0         1                0  \n",
       "10282                             8181.0         1                1  "
      ]
     },
     "execution_count": 406,
     "metadata": {},
     "output_type": "execute_result"
    }
   ],
   "source": [
    "test = x_wtest.drop([\"Model_encoded\", \"Make_encoded\",\"Transmission_encoded\"], axis =1)\n",
    "test.head(20)"
   ]
  },
  {
   "cell_type": "code",
   "execution_count": 379,
   "id": "244f4cf2",
   "metadata": {},
   "outputs": [
    {
     "data": {
      "text/plain": [
       "array([[1288,  724],\n",
       "       [ 827, 1251]], dtype=int64)"
      ]
     },
     "execution_count": 379,
     "metadata": {},
     "output_type": "execute_result"
    }
   ],
   "source": [
    "from sklearn.metrics import confusion_matrix\n",
    "y_true = test['IsBadBuy']\n",
    "y_pred = test['predicted_label']\n",
    "confusion_matrix(y_true, y_pred)"
   ]
  },
  {
   "cell_type": "code",
   "execution_count": 380,
   "id": "738c7e09",
   "metadata": {},
   "outputs": [
    {
     "data": {
      "text/html": [
       "<div>\n",
       "<style scoped>\n",
       "    .dataframe tbody tr th:only-of-type {\n",
       "        vertical-align: middle;\n",
       "    }\n",
       "\n",
       "    .dataframe tbody tr th {\n",
       "        vertical-align: top;\n",
       "    }\n",
       "\n",
       "    .dataframe thead th {\n",
       "        text-align: right;\n",
       "    }\n",
       "</style>\n",
       "<table border=\"1\" class=\"dataframe\">\n",
       "  <thead>\n",
       "    <tr style=\"text-align: right;\">\n",
       "      <th></th>\n",
       "      <th>VehOdo</th>\n",
       "      <th>MMRAcquisitionAuctionAveragePrice</th>\n",
       "      <th>IsBadBuy</th>\n",
       "      <th>predicted_label</th>\n",
       "    </tr>\n",
       "  </thead>\n",
       "  <tbody>\n",
       "    <tr>\n",
       "      <th>count</th>\n",
       "      <td>4090.000000</td>\n",
       "      <td>4090.000000</td>\n",
       "      <td>4090.000000</td>\n",
       "      <td>4090.000000</td>\n",
       "    </tr>\n",
       "    <tr>\n",
       "      <th>mean</th>\n",
       "      <td>73238.441809</td>\n",
       "      <td>5781.391443</td>\n",
       "      <td>0.508068</td>\n",
       "      <td>0.482885</td>\n",
       "    </tr>\n",
       "    <tr>\n",
       "      <th>std</th>\n",
       "      <td>14078.099940</td>\n",
       "      <td>2365.500054</td>\n",
       "      <td>0.499996</td>\n",
       "      <td>0.499768</td>\n",
       "    </tr>\n",
       "    <tr>\n",
       "      <th>min</th>\n",
       "      <td>12628.000000</td>\n",
       "      <td>10.000000</td>\n",
       "      <td>0.000000</td>\n",
       "      <td>0.000000</td>\n",
       "    </tr>\n",
       "    <tr>\n",
       "      <th>25%</th>\n",
       "      <td>64135.000000</td>\n",
       "      <td>3880.250000</td>\n",
       "      <td>0.000000</td>\n",
       "      <td>0.000000</td>\n",
       "    </tr>\n",
       "    <tr>\n",
       "      <th>50%</th>\n",
       "      <td>74673.000000</td>\n",
       "      <td>5547.500000</td>\n",
       "      <td>1.000000</td>\n",
       "      <td>0.000000</td>\n",
       "    </tr>\n",
       "    <tr>\n",
       "      <th>75%</th>\n",
       "      <td>83582.250000</td>\n",
       "      <td>7386.000000</td>\n",
       "      <td>1.000000</td>\n",
       "      <td>1.000000</td>\n",
       "    </tr>\n",
       "    <tr>\n",
       "      <th>max</th>\n",
       "      <td>115717.000000</td>\n",
       "      <td>17229.000000</td>\n",
       "      <td>1.000000</td>\n",
       "      <td>1.000000</td>\n",
       "    </tr>\n",
       "  </tbody>\n",
       "</table>\n",
       "</div>"
      ],
      "text/plain": [
       "              VehOdo  MMRAcquisitionAuctionAveragePrice     IsBadBuy  \\\n",
       "count    4090.000000                        4090.000000  4090.000000   \n",
       "mean    73238.441809                        5781.391443     0.508068   \n",
       "std     14078.099940                        2365.500054     0.499996   \n",
       "min     12628.000000                          10.000000     0.000000   \n",
       "25%     64135.000000                        3880.250000     0.000000   \n",
       "50%     74673.000000                        5547.500000     1.000000   \n",
       "75%     83582.250000                        7386.000000     1.000000   \n",
       "max    115717.000000                       17229.000000     1.000000   \n",
       "\n",
       "       predicted_label  \n",
       "count      4090.000000  \n",
       "mean          0.482885  \n",
       "std           0.499768  \n",
       "min           0.000000  \n",
       "25%           0.000000  \n",
       "50%           0.000000  \n",
       "75%           1.000000  \n",
       "max           1.000000  "
      ]
     },
     "execution_count": 380,
     "metadata": {},
     "output_type": "execute_result"
    }
   ],
   "source": [
    "test.describe() \n",
    "#test[test.MMRAcquisitionAuctionAveragePrice == 0]"
   ]
  },
  {
   "cell_type": "code",
   "execution_count": 407,
   "id": "38288f67",
   "metadata": {},
   "outputs": [
    {
     "data": {
      "text/plain": [
       "CHEVROLET     914\n",
       "DODGE         722\n",
       "FORD          708\n",
       "CHRYSLER      478\n",
       "PONTIAC       244\n",
       "NISSAN        128\n",
       "KIA           122\n",
       "SATURN        119\n",
       "HYUNDAI       114\n",
       "JEEP          101\n",
       "MERCURY        77\n",
       "MITSUBISHI     61\n",
       "SUZUKI         59\n",
       "BUICK          49\n",
       "MAZDA          47\n",
       "TOYOTA         44\n",
       "GMC            34\n",
       "HONDA          32\n",
       "OLDSMOBILE     20\n",
       "LINCOLN         6\n",
       "ISUZU           4\n",
       "SUBARU          2\n",
       "INFINITI        2\n",
       "MINI            2\n",
       "LEXUS           1\n",
       "Name: Make, dtype: int64"
      ]
     },
     "execution_count": 407,
     "metadata": {},
     "output_type": "execute_result"
    }
   ],
   "source": [
    "test.Make.value_counts() #mask for lincoln"
   ]
  },
  {
   "cell_type": "code",
   "execution_count": 408,
   "id": "1a27d618",
   "metadata": {},
   "outputs": [
    {
     "data": {
      "text/plain": [
       "<AxesSubplot:xlabel='Model', ylabel='Density'>"
      ]
     },
     "execution_count": 408,
     "metadata": {},
     "output_type": "execute_result"
    },
    {
     "data": {
      "image/png": "[encoded data removed]",
      "text/plain": [
       "<Figure size 432x288 with 1 Axes>"
      ]
     },
     "metadata": {},
     "output_type": "display_data"
    }
   ],
   "source": [
    "sns.distplot(test.Model.value_counts())"
   ]
  },
  {
   "cell_type": "code",
   "execution_count": 60,
   "id": "0b1a80c4",
   "metadata": {},
   "outputs": [],
   "source": [
    "# evaluate the model per car type\n",
    "# same number of car and model\n",
    "#same distribution in in the train and test set = train and test stratified (same distribution per categories) , \n",
    "#keycode in train test split , double stratification\n",
    "# apply a Mask , for other, reduce \n",
    "\n",
    "#balancing (embe learn  , data augmentation) follows startification.\n",
    "\n",
    "# pour quel marque ca marche bien "
   ]
  },
  {
   "cell_type": "code",
   "execution_count": 61,
   "id": "b7293419",
   "metadata": {},
   "outputs": [],
   "source": [
    "# EDA + comments"
   ]
  },
  {
   "cell_type": "code",
   "execution_count": null,
   "id": "4660c200",
   "metadata": {},
   "outputs": [],
   "source": []
  },
  {
   "cell_type": "code",
   "execution_count": 223,
   "id": "ad75c9d8",
   "metadata": {},
   "outputs": [],
   "source": [
    "Make_count = test.Make.value_counts()\n",
    "make_mask = test.Make.isin(Make_count[Make_count < 100].index)\n",
    "#test.Make[Make_mask] = 'Other Make'"
   ]
  },
  {
   "cell_type": "code",
   "execution_count": 96,
   "id": "340fb7d8",
   "metadata": {},
   "outputs": [],
   "source": [
    "model_count = test.Model.value_counts()\n",
    "model_mask = test.Model.isin(model_count[model_count < 100].index)\n",
    "#test.Model[model_mask] = 'Other Model'"
   ]
  },
  {
   "cell_type": "code",
   "execution_count": 97,
   "id": "6852cfc6",
   "metadata": {},
   "outputs": [],
   "source": []
  },
  {
   "cell_type": "code",
   "execution_count": 98,
   "id": "37af8343",
   "metadata": {},
   "outputs": [
    {
     "data": {
      "image/png": "[encoded data removed]",
      "text/plain": [
       "<Figure size 432x288 with 1 Axes>"
      ]
     },
     "metadata": {},
     "output_type": "display_data"
    }
   ],
   "source": [
    "import seaborn as sns\n",
    "import  matplotlib.pyplot as plt\n",
    "model_count = test.Model.value_counts()\n",
    "sns.set(style=\"darkgrid\")\n",
    "chart = sns.barplot(model_count.index, model_count.values, alpha=0.9)\n",
    "chart.set_xticklabels(chart.get_xticklabels(), rotation=45, horizontalalignment='right')\n",
    "plt.title('Frequency Distribution of Model')\n",
    "plt.ylabel('Number of Occurrences')\n",
    "plt.xlabel('Model')\n",
    "plt.show()"
   ]
  },
  {
   "cell_type": "code",
   "execution_count": 232,
   "id": "5962bb71",
   "metadata": {},
   "outputs": [
    {
     "ename": "ImportError",
     "evalue": "cannot import name 'SMOTEC' from 'imblearn.over_sampling' (C:\\Users\\abdou\\.conda\\envs\\kick\\lib\\site-packages\\imblearn\\over_sampling\\__init__.py)",
     "output_type": "error",
     "traceback": [
      "\u001b[1;31m---------------------------------------------------------------------------\u001b[0m",
      "\u001b[1;31mImportError\u001b[0m                               Traceback (most recent call last)",
      "\u001b[1;32m~\\AppData\\Local\\Temp/ipykernel_10244/3420188709.py\u001b[0m in \u001b[0;36m<module>\u001b[1;34m\u001b[0m\n\u001b[0;32m      1\u001b[0m \u001b[1;31m#!pip install imblearn\u001b[0m\u001b[1;33m\u001b[0m\u001b[1;33m\u001b[0m\u001b[0m\n\u001b[1;32m----> 2\u001b[1;33m \u001b[1;32mfrom\u001b[0m \u001b[0mimblearn\u001b[0m\u001b[1;33m.\u001b[0m\u001b[0mover_sampling\u001b[0m \u001b[1;32mimport\u001b[0m \u001b[0mSMOTEC\u001b[0m \u001b[1;31m#SMOTE(*, sampling_strategy='auto', random_state=None, k_neighbors=5, n_jobs=None)[source]\u001b[0m\u001b[1;33m\u001b[0m\u001b[1;33m\u001b[0m\u001b[0m\n\u001b[0m",
      "\u001b[1;31mImportError\u001b[0m: cannot import name 'SMOTEC' from 'imblearn.over_sampling' (C:\\Users\\abdou\\.conda\\envs\\kick\\lib\\site-packages\\imblearn\\over_sampling\\__init__.py)"
     ]
    }
   ],
   "source": [
    "#!pip install imblearn \n",
    "from imblearn.over_sampling import SMOTEC #SMOTE(*, sampling_strategy='auto', random_state=None, k_neighbors=5, n_jobs=None)[source]"
   ]
  },
  {
   "cell_type": "code",
   "execution_count": 316,
   "id": "6d719945",
   "metadata": {},
   "outputs": [
    {
     "ename": "NameError",
     "evalue": "name 'SMOTEC' is not defined",
     "output_type": "error",
     "traceback": [
      "\u001b[1;31m---------------------------------------------------------------------------\u001b[0m",
      "\u001b[1;31mNameError\u001b[0m                                 Traceback (most recent call last)",
      "\u001b[1;32m~\\AppData\\Local\\Temp/ipykernel_10244/2128312735.py\u001b[0m in \u001b[0;36m<module>\u001b[1;34m\u001b[0m\n\u001b[1;32m----> 1\u001b[1;33m \u001b[0msm\u001b[0m \u001b[1;33m=\u001b[0m \u001b[0mSMOTEC\u001b[0m\u001b[1;33m(\u001b[0m\u001b[0mrandom_state\u001b[0m\u001b[1;33m=\u001b[0m\u001b[1;36m42\u001b[0m\u001b[1;33m)\u001b[0m\u001b[1;33m\u001b[0m\u001b[1;33m\u001b[0m\u001b[0m\n\u001b[0m\u001b[0;32m      2\u001b[0m \u001b[0mX_res\u001b[0m\u001b[1;33m,\u001b[0m \u001b[0my_res\u001b[0m \u001b[1;33m=\u001b[0m \u001b[0msm\u001b[0m\u001b[1;33m.\u001b[0m\u001b[0mfit_resample\u001b[0m\u001b[1;33m(\u001b[0m\u001b[0mtest\u001b[0m\u001b[1;33m.\u001b[0m\u001b[0mMake\u001b[0m\u001b[1;33m.\u001b[0m\u001b[0mdrop\u001b[0m\u001b[1;33m(\u001b[0m\u001b[1;34m\"Make\"\u001b[0m\u001b[1;33m,\u001b[0m \u001b[0maxis\u001b[0m \u001b[1;33m=\u001b[0m \u001b[1;36m1\u001b[0m\u001b[1;33m)\u001b[0m \u001b[1;33m,\u001b[0m \u001b[0mtest\u001b[0m\u001b[1;33m.\u001b[0m\u001b[0mMake\u001b[0m\u001b[1;33m)\u001b[0m\u001b[1;33m\u001b[0m\u001b[1;33m\u001b[0m\u001b[0m\n",
      "\u001b[1;31mNameError\u001b[0m: name 'SMOTEC' is not defined"
     ]
    }
   ],
   "source": [
    "sm = SMOTEC(random_state=42)\n",
    "X_res, y_res = sm.fit_resample(test.Make.drop(\"Make\", axis = 1) , test.Make)\n"
   ]
  },
  {
   "cell_type": "code",
   "execution_count": 282,
   "id": "19ee02e1",
   "metadata": {},
   "outputs": [],
   "source": [
    "from collections import Counter"
   ]
  },
  {
   "cell_type": "code",
   "execution_count": 424,
   "id": "9f36ecfe",
   "metadata": {},
   "outputs": [
    {
     "data": {
      "text/plain": [
       "Counter({'NISSAN': 128,\n",
       "         'CHEVROLET': 914,\n",
       "         'DODGE': 722,\n",
       "         'FORD': 708,\n",
       "         'SATURN': 119,\n",
       "         'BUICK': 49,\n",
       "         'KIA': 122,\n",
       "         'CHRYSLER': 478,\n",
       "         'MAZDA': 47,\n",
       "         'HONDA': 32,\n",
       "         'JEEP': 101,\n",
       "         'PONTIAC': 244,\n",
       "         'HYUNDAI': 114,\n",
       "         'MERCURY': 77,\n",
       "         'SUZUKI': 59,\n",
       "         'MITSUBISHI': 61,\n",
       "         'GMC': 34,\n",
       "         'TOYOTA': 44,\n",
       "         'OLDSMOBILE': 20,\n",
       "         'LINCOLN': 6,\n",
       "         'ISUZU': 4,\n",
       "         'SUBARU': 2,\n",
       "         'INFINITI': 2,\n",
       "         'MINI': 2,\n",
       "         'LEXUS': 1})"
      ]
     },
     "execution_count": 424,
     "metadata": {},
     "output_type": "execute_result"
    }
   ],
   "source": [
    "counts=Counter(test.Make)\n",
    "# summarize class distribution\n",
    "\n",
    "counts"
   ]
  },
  {
   "cell_type": "code",
   "execution_count": 425,
   "id": "d3741c3e",
   "metadata": {},
   "outputs": [
    {
     "data": {
      "image/png": "[encoded data removed]",
      "text/plain": [
       "<Figure size 432x288 with 1 Axes>"
      ]
     },
     "metadata": {},
     "output_type": "display_data"
    }
   ],
   "source": [
    "import seaborn as sns\n",
    "import  matplotlib.pyplot as plt\n",
    "model_count = test.Make.value_counts()\n",
    "sns.set(style=\"darkgrid\")\n",
    "chart = sns.barplot(model_count.index, model_count.values, alpha=0.9)\n",
    "chart.set_xticklabels(chart.get_xticklabels(), rotation=45, horizontalalignment='right')\n",
    "plt.title('Frequency Distribution of Make')\n",
    "plt.ylabel('Number of Occurrences')\n",
    "plt.xlabel('Make')\n",
    "plt.show()"
   ]
  },
  {
   "cell_type": "code",
   "execution_count": 426,
   "id": "dc19b2ea",
   "metadata": {},
   "outputs": [
    {
     "data": {
      "image/png": "[encoded data removed]",
      "text/plain": [
       "<Figure size 432x288 with 1 Axes>"
      ]
     },
     "metadata": {},
     "output_type": "display_data"
    }
   ],
   "source": [
    "model_count = test.Model.value_counts()\n",
    "sns.set(style=\"darkgrid\")\n",
    "chart = sns.barplot(model_count.index, model_count.values, alpha=0.9)\n",
    "chart.set_xticklabels(chart.get_xticklabels(), rotation=45, horizontalalignment='right')\n",
    "plt.title('Frequency Distribution of Model')\n",
    "plt.ylabel('Number of Occurrences')\n",
    "plt.xlabel('Model')\n",
    "plt.show()"
   ]
  },
  {
   "cell_type": "code",
   "execution_count": 427,
   "id": "657e705a",
   "metadata": {},
   "outputs": [],
   "source": [
    "#Call the function on the make column  with a  threshold of 98%\n",
    "transf_make_column,new_category_list=cumulatively_categorise(test.Make,threshold = 0.98, return_categories_list=True)\n",
    "\n"
   ]
  },
  {
   "cell_type": "code",
   "execution_count": 428,
   "id": "638d922b",
   "metadata": {},
   "outputs": [
    {
     "data": {
      "image/png": "[encoded data removed]",
      "text/plain": [
       "<Figure size 432x288 with 1 Axes>"
      ]
     },
     "metadata": {},
     "output_type": "display_data"
    }
   ],
   "source": [
    "transf_make_column_count = transf_make_column.value_counts()\n",
    "sns.set(style=\"darkgrid\")\n",
    "chart = sns.barplot(transf_make_column_count.index, transf_make_column_count.values, alpha=0.9)\n",
    "chart.set_xticklabels(chart.get_xticklabels(), rotation=45, horizontalalignment='right')\n",
    "plt.title('Frequency Distribution of Make')\n",
    "plt.ylabel('Number of Occurrences')\n",
    "plt.xlabel('Make')\n",
    "plt.show()"
   ]
  },
  {
   "cell_type": "code",
   "execution_count": 435,
   "id": "465d4c1b",
   "metadata": {},
   "outputs": [],
   "source": [
    "#Call the function on the make column  with a  threshold of 80%\n",
    "transf_model_column,new_category_list=cumulatively_categorise(test.Model,threshold = 0.70, return_categories_list=True)\n",
    "\n"
   ]
  },
  {
   "cell_type": "code",
   "execution_count": 436,
   "id": "8bd3cbf2",
   "metadata": {},
   "outputs": [
    {
     "data": {
      "image/png": "[encoded data removed]",
      "text/plain": [
       "<Figure size 432x288 with 1 Axes>"
      ]
     },
     "metadata": {},
     "output_type": "display_data"
    }
   ],
   "source": [
    "transf_model_column_count = transf_model_column.value_counts()\n",
    "sns.set(style=\"darkgrid\")\n",
    "chart = sns.barplot(transf_model_column_count.index, transf_model_column_count.values, alpha=0.9)\n",
    "chart.set_xticklabels(chart.get_xticklabels(), rotation=45, horizontalalignment='right')\n",
    "plt.title('Frequency Distribution of Model')\n",
    "plt.ylabel('Number of Occurrences')\n",
    "plt.xlabel('Model')\n",
    "plt.show()"
   ]
  },
  {
   "cell_type": "code",
   "execution_count": null,
   "id": "ed61b9c9",
   "metadata": {},
   "outputs": [],
   "source": [
    "# transform the dataset\n",
    "from imblearn.over_sampling import SMOTE\n",
    "oversample = SMOTE()\n",
    "\n",
    "#X, y = oversample.fit_resample(X, y)"
   ]
  },
  {
   "cell_type": "code",
   "execution_count": 320,
   "id": "0590407e",
   "metadata": {},
   "outputs": [],
   "source": [
    "#convert text data to numeric before applying SMOTE \n",
    "from sklearn.feature_extraction.text import CountVectorizer"
   ]
  },
  {
   "cell_type": "code",
   "execution_count": 398,
   "id": "3c7e1de6",
   "metadata": {},
   "outputs": [],
   "source": [
    "vectorizer = CountVectorizer()\n",
    "vectorizer.fit(test.Make.values.ravel())\n",
    "test.Make = vectorizer.transform(test.Make.values.ravel())\n"
   ]
  },
  {
   "cell_type": "code",
   "execution_count": 405,
   "id": "fdc1cd47",
   "metadata": {},
   "outputs": [
    {
     "data": {
      "text/plain": [
       "array([[0, 0, 0, ..., 0, 0, 0],\n",
       "       [0, 1, 0, ..., 0, 0, 0],\n",
       "       [0, 1, 0, ..., 0, 0, 0],\n",
       "       ...,\n",
       "       [0, 1, 0, ..., 0, 0, 0],\n",
       "       [0, 0, 0, ..., 0, 0, 0],\n",
       "       [0, 0, 0, ..., 0, 0, 0]], dtype=int64)"
      ]
     },
     "execution_count": 405,
     "metadata": {},
     "output_type": "execute_result"
    }
   ],
   "source": [
    "test.Make = test.Make.toarray()\n",
    "test.Make"
   ]
  },
  {
   "cell_type": "code",
   "execution_count": 402,
   "id": "c7d18d9d",
   "metadata": {},
   "outputs": [
    {
     "ename": "AttributeError",
     "evalue": "values not found",
     "output_type": "error",
     "traceback": [
      "\u001b[1;31m---------------------------------------------------------------------------\u001b[0m",
      "\u001b[1;31mAttributeError\u001b[0m                            Traceback (most recent call last)",
      "\u001b[1;32m~\\AppData\\Local\\Temp/ipykernel_10244/602652818.py\u001b[0m in \u001b[0;36m<module>\u001b[1;34m\u001b[0m\n\u001b[0;32m      1\u001b[0m \u001b[0mvectorizer2\u001b[0m \u001b[1;33m=\u001b[0m \u001b[0mCountVectorizer\u001b[0m\u001b[1;33m(\u001b[0m\u001b[1;33m)\u001b[0m\u001b[1;33m\u001b[0m\u001b[1;33m\u001b[0m\u001b[0m\n\u001b[1;32m----> 2\u001b[1;33m \u001b[0mvectorizer2\u001b[0m\u001b[1;33m.\u001b[0m\u001b[0mfit\u001b[0m\u001b[1;33m(\u001b[0m\u001b[0mtest\u001b[0m\u001b[1;33m.\u001b[0m\u001b[0mModel\u001b[0m\u001b[1;33m.\u001b[0m\u001b[0mvalues\u001b[0m\u001b[1;33m.\u001b[0m\u001b[0mravel\u001b[0m\u001b[1;33m(\u001b[0m\u001b[1;33m)\u001b[0m\u001b[1;33m)\u001b[0m\u001b[1;33m\u001b[0m\u001b[1;33m\u001b[0m\u001b[0m\n\u001b[0m\u001b[0;32m      3\u001b[0m \u001b[0mtest\u001b[0m\u001b[1;33m.\u001b[0m\u001b[0mModel\u001b[0m \u001b[1;33m=\u001b[0m \u001b[0mvectorizer2\u001b[0m\u001b[1;33m.\u001b[0m\u001b[0mtransform\u001b[0m\u001b[1;33m(\u001b[0m\u001b[0mtest\u001b[0m\u001b[1;33m.\u001b[0m\u001b[0mModel\u001b[0m\u001b[1;33m.\u001b[0m\u001b[0mvalues\u001b[0m\u001b[1;33m.\u001b[0m\u001b[0mravel\u001b[0m\u001b[1;33m(\u001b[0m\u001b[1;33m)\u001b[0m\u001b[1;33m)\u001b[0m\u001b[1;33m\u001b[0m\u001b[1;33m\u001b[0m\u001b[0m\n",
      "\u001b[1;32m~\\.conda\\envs\\kick\\lib\\site-packages\\scipy\\sparse\\base.py\u001b[0m in \u001b[0;36m__getattr__\u001b[1;34m(self, attr)\u001b[0m\n\u001b[0;32m    685\u001b[0m             \u001b[1;32mreturn\u001b[0m \u001b[0mself\u001b[0m\u001b[1;33m.\u001b[0m\u001b[0mgetnnz\u001b[0m\u001b[1;33m(\u001b[0m\u001b[1;33m)\u001b[0m\u001b[1;33m\u001b[0m\u001b[1;33m\u001b[0m\u001b[0m\n\u001b[0;32m    686\u001b[0m         \u001b[1;32melse\u001b[0m\u001b[1;33m:\u001b[0m\u001b[1;33m\u001b[0m\u001b[1;33m\u001b[0m\u001b[0m\n\u001b[1;32m--> 687\u001b[1;33m             \u001b[1;32mraise\u001b[0m \u001b[0mAttributeError\u001b[0m\u001b[1;33m(\u001b[0m\u001b[0mattr\u001b[0m \u001b[1;33m+\u001b[0m \u001b[1;34m\" not found\"\u001b[0m\u001b[1;33m)\u001b[0m\u001b[1;33m\u001b[0m\u001b[1;33m\u001b[0m\u001b[0m\n\u001b[0m\u001b[0;32m    688\u001b[0m \u001b[1;33m\u001b[0m\u001b[0m\n\u001b[0;32m    689\u001b[0m     \u001b[1;32mdef\u001b[0m \u001b[0mtranspose\u001b[0m\u001b[1;33m(\u001b[0m\u001b[0mself\u001b[0m\u001b[1;33m,\u001b[0m \u001b[0maxes\u001b[0m\u001b[1;33m=\u001b[0m\u001b[1;32mNone\u001b[0m\u001b[1;33m,\u001b[0m \u001b[0mcopy\u001b[0m\u001b[1;33m=\u001b[0m\u001b[1;32mFalse\u001b[0m\u001b[1;33m)\u001b[0m\u001b[1;33m:\u001b[0m\u001b[1;33m\u001b[0m\u001b[1;33m\u001b[0m\u001b[0m\n",
      "\u001b[1;31mAttributeError\u001b[0m: values not found"
     ]
    }
   ],
   "source": [
    "vectorizer2 = CountVectorizer()\n",
    "vectorizer2.fit(test.Model.values.ravel())\n",
    "test.Model = vectorizer2.transform(test.Model.values.ravel())\n"
   ]
  },
  {
   "cell_type": "code",
   "execution_count": 403,
   "id": "a1fa89c9",
   "metadata": {},
   "outputs": [
    {
     "data": {
      "text/plain": [
       "array([[0, 0, 0, ..., 0, 0, 0],\n",
       "       [0, 0, 0, ..., 0, 0, 0],\n",
       "       [0, 0, 0, ..., 0, 0, 0],\n",
       "       ...,\n",
       "       [0, 0, 0, ..., 0, 0, 0],\n",
       "       [1, 0, 0, ..., 0, 0, 0],\n",
       "       [0, 0, 0, ..., 0, 0, 0]], dtype=int64)"
      ]
     },
     "execution_count": 403,
     "metadata": {},
     "output_type": "execute_result"
    }
   ],
   "source": [
    "test.Model = test.Model.toarray()\n",
    "test.Model"
   ]
  },
  {
   "cell_type": "code",
   "execution_count": 393,
   "id": "32153680",
   "metadata": {},
   "outputs": [],
   "source": [
    "vectorizer3 = CountVectorizer()\n",
    "vectorizer3.fit(test.Transmission.values.ravel())\n",
    "test.Transmission = vectorizer3.transform(test.Transmission.values.ravel())\n"
   ]
  },
  {
   "cell_type": "code",
   "execution_count": 404,
   "id": "43ce029f",
   "metadata": {},
   "outputs": [
    {
     "data": {
      "text/plain": [
       "array([[1, 0],\n",
       "       [1, 0],\n",
       "       [1, 0],\n",
       "       ...,\n",
       "       [1, 0],\n",
       "       [1, 0],\n",
       "       [1, 0]], dtype=int64)"
      ]
     },
     "execution_count": 404,
     "metadata": {},
     "output_type": "execute_result"
    }
   ],
   "source": [
    "test.Transmission = test.Transmission.toarray()\n",
    "test.Transmission"
   ]
  },
  {
   "cell_type": "code",
   "execution_count": 440,
   "id": "a0c5fe84",
   "metadata": {},
   "outputs": [
    {
     "data": {
      "text/html": [
       "<div>\n",
       "<style scoped>\n",
       "    .dataframe tbody tr th:only-of-type {\n",
       "        vertical-align: middle;\n",
       "    }\n",
       "\n",
       "    .dataframe tbody tr th {\n",
       "        vertical-align: top;\n",
       "    }\n",
       "\n",
       "    .dataframe thead th {\n",
       "        text-align: right;\n",
       "    }\n",
       "</style>\n",
       "<table border=\"1\" class=\"dataframe\">\n",
       "  <thead>\n",
       "    <tr style=\"text-align: right;\">\n",
       "      <th></th>\n",
       "      <th>VehOdo</th>\n",
       "      <th>MMRAcquisitionAuctionAveragePrice</th>\n",
       "      <th>IsBadBuy</th>\n",
       "      <th>predicted_label</th>\n",
       "    </tr>\n",
       "  </thead>\n",
       "  <tbody>\n",
       "    <tr>\n",
       "      <th>count</th>\n",
       "      <td>4090.000000</td>\n",
       "      <td>4090.000000</td>\n",
       "      <td>4090.000000</td>\n",
       "      <td>4090.000000</td>\n",
       "    </tr>\n",
       "    <tr>\n",
       "      <th>mean</th>\n",
       "      <td>73238.441809</td>\n",
       "      <td>5781.391443</td>\n",
       "      <td>0.508068</td>\n",
       "      <td>0.482885</td>\n",
       "    </tr>\n",
       "    <tr>\n",
       "      <th>std</th>\n",
       "      <td>14078.099940</td>\n",
       "      <td>2365.500054</td>\n",
       "      <td>0.499996</td>\n",
       "      <td>0.499768</td>\n",
       "    </tr>\n",
       "    <tr>\n",
       "      <th>min</th>\n",
       "      <td>12628.000000</td>\n",
       "      <td>10.000000</td>\n",
       "      <td>0.000000</td>\n",
       "      <td>0.000000</td>\n",
       "    </tr>\n",
       "    <tr>\n",
       "      <th>25%</th>\n",
       "      <td>64135.000000</td>\n",
       "      <td>3880.250000</td>\n",
       "      <td>0.000000</td>\n",
       "      <td>0.000000</td>\n",
       "    </tr>\n",
       "    <tr>\n",
       "      <th>50%</th>\n",
       "      <td>74673.000000</td>\n",
       "      <td>5547.500000</td>\n",
       "      <td>1.000000</td>\n",
       "      <td>0.000000</td>\n",
       "    </tr>\n",
       "    <tr>\n",
       "      <th>75%</th>\n",
       "      <td>83582.250000</td>\n",
       "      <td>7386.000000</td>\n",
       "      <td>1.000000</td>\n",
       "      <td>1.000000</td>\n",
       "    </tr>\n",
       "    <tr>\n",
       "      <th>max</th>\n",
       "      <td>115717.000000</td>\n",
       "      <td>17229.000000</td>\n",
       "      <td>1.000000</td>\n",
       "      <td>1.000000</td>\n",
       "    </tr>\n",
       "  </tbody>\n",
       "</table>\n",
       "</div>"
      ],
      "text/plain": [
       "              VehOdo  MMRAcquisitionAuctionAveragePrice     IsBadBuy  \\\n",
       "count    4090.000000                        4090.000000  4090.000000   \n",
       "mean    73238.441809                        5781.391443     0.508068   \n",
       "std     14078.099940                        2365.500054     0.499996   \n",
       "min     12628.000000                          10.000000     0.000000   \n",
       "25%     64135.000000                        3880.250000     0.000000   \n",
       "50%     74673.000000                        5547.500000     1.000000   \n",
       "75%     83582.250000                        7386.000000     1.000000   \n",
       "max    115717.000000                       17229.000000     1.000000   \n",
       "\n",
       "       predicted_label  \n",
       "count      4090.000000  \n",
       "mean          0.482885  \n",
       "std           0.499768  \n",
       "min           0.000000  \n",
       "25%           0.000000  \n",
       "50%           0.000000  \n",
       "75%           1.000000  \n",
       "max           1.000000  "
      ]
     },
     "execution_count": 440,
     "metadata": {},
     "output_type": "execute_result"
    }
   ],
   "source": [
    "test.describe()"
   ]
  },
  {
   "cell_type": "code",
   "execution_count": 388,
   "id": "7dbd77d4",
   "metadata": {},
   "outputs": [
    {
     "ename": "ValueError",
     "evalue": "could not convert string to float: 'ALTIMA'",
     "output_type": "error",
     "traceback": [
      "\u001b[1;31m---------------------------------------------------------------------------\u001b[0m",
      "\u001b[1;31mValueError\u001b[0m                                Traceback (most recent call last)",
      "\u001b[1;32m~\\AppData\\Local\\Temp/ipykernel_10244/3326249693.py\u001b[0m in \u001b[0;36m<module>\u001b[1;34m\u001b[0m\n\u001b[0;32m      5\u001b[0m \u001b[1;31m#X_test=X_test.toarray()\u001b[0m\u001b[1;33m\u001b[0m\u001b[1;33m\u001b[0m\u001b[0m\n\u001b[0;32m      6\u001b[0m \u001b[0msm\u001b[0m \u001b[1;33m=\u001b[0m \u001b[0mSMOTE\u001b[0m\u001b[1;33m(\u001b[0m\u001b[0mrandom_state\u001b[0m\u001b[1;33m=\u001b[0m\u001b[1;36m42\u001b[0m\u001b[1;33m)\u001b[0m\u001b[1;33m\u001b[0m\u001b[1;33m\u001b[0m\u001b[0m\n\u001b[1;32m----> 7\u001b[1;33m \u001b[0mX_res\u001b[0m\u001b[1;33m,\u001b[0m \u001b[0my_res\u001b[0m \u001b[1;33m=\u001b[0m \u001b[0msm\u001b[0m\u001b[1;33m.\u001b[0m\u001b[0mfit_resample\u001b[0m\u001b[1;33m(\u001b[0m\u001b[0mtest\u001b[0m\u001b[1;33m.\u001b[0m\u001b[0mdrop\u001b[0m\u001b[1;33m(\u001b[0m\u001b[1;34m\"Make\"\u001b[0m\u001b[1;33m,\u001b[0m \u001b[0maxis\u001b[0m \u001b[1;33m=\u001b[0m \u001b[1;36m1\u001b[0m\u001b[1;33m)\u001b[0m \u001b[1;33m,\u001b[0m \u001b[0mtest\u001b[0m\u001b[1;33m.\u001b[0m\u001b[0mMake\u001b[0m\u001b[1;33m)\u001b[0m\u001b[1;33m\u001b[0m\u001b[1;33m\u001b[0m\u001b[0m\n\u001b[0m",
      "\u001b[1;32m~\\.conda\\envs\\kick\\lib\\site-packages\\imblearn\\base.py\u001b[0m in \u001b[0;36mfit_resample\u001b[1;34m(self, X, y)\u001b[0m\n\u001b[0;32m     75\u001b[0m         \u001b[0mcheck_classification_targets\u001b[0m\u001b[1;33m(\u001b[0m\u001b[0my\u001b[0m\u001b[1;33m)\u001b[0m\u001b[1;33m\u001b[0m\u001b[1;33m\u001b[0m\u001b[0m\n\u001b[0;32m     76\u001b[0m         \u001b[0marrays_transformer\u001b[0m \u001b[1;33m=\u001b[0m \u001b[0mArraysTransformer\u001b[0m\u001b[1;33m(\u001b[0m\u001b[0mX\u001b[0m\u001b[1;33m,\u001b[0m \u001b[0my\u001b[0m\u001b[1;33m)\u001b[0m\u001b[1;33m\u001b[0m\u001b[1;33m\u001b[0m\u001b[0m\n\u001b[1;32m---> 77\u001b[1;33m         \u001b[0mX\u001b[0m\u001b[1;33m,\u001b[0m \u001b[0my\u001b[0m\u001b[1;33m,\u001b[0m \u001b[0mbinarize_y\u001b[0m \u001b[1;33m=\u001b[0m \u001b[0mself\u001b[0m\u001b[1;33m.\u001b[0m\u001b[0m_check_X_y\u001b[0m\u001b[1;33m(\u001b[0m\u001b[0mX\u001b[0m\u001b[1;33m,\u001b[0m \u001b[0my\u001b[0m\u001b[1;33m)\u001b[0m\u001b[1;33m\u001b[0m\u001b[1;33m\u001b[0m\u001b[0m\n\u001b[0m\u001b[0;32m     78\u001b[0m \u001b[1;33m\u001b[0m\u001b[0m\n\u001b[0;32m     79\u001b[0m         self.sampling_strategy_ = check_sampling_strategy(\n",
      "\u001b[1;32m~\\.conda\\envs\\kick\\lib\\site-packages\\imblearn\\base.py\u001b[0m in \u001b[0;36m_check_X_y\u001b[1;34m(self, X, y, accept_sparse)\u001b[0m\n\u001b[0;32m    130\u001b[0m             \u001b[0maccept_sparse\u001b[0m \u001b[1;33m=\u001b[0m \u001b[1;33m[\u001b[0m\u001b[1;34m\"csr\"\u001b[0m\u001b[1;33m,\u001b[0m \u001b[1;34m\"csc\"\u001b[0m\u001b[1;33m]\u001b[0m\u001b[1;33m\u001b[0m\u001b[1;33m\u001b[0m\u001b[0m\n\u001b[0;32m    131\u001b[0m         \u001b[0my\u001b[0m\u001b[1;33m,\u001b[0m \u001b[0mbinarize_y\u001b[0m \u001b[1;33m=\u001b[0m \u001b[0mcheck_target_type\u001b[0m\u001b[1;33m(\u001b[0m\u001b[0my\u001b[0m\u001b[1;33m,\u001b[0m \u001b[0mindicate_one_vs_all\u001b[0m\u001b[1;33m=\u001b[0m\u001b[1;32mTrue\u001b[0m\u001b[1;33m)\u001b[0m\u001b[1;33m\u001b[0m\u001b[1;33m\u001b[0m\u001b[0m\n\u001b[1;32m--> 132\u001b[1;33m         \u001b[0mX\u001b[0m\u001b[1;33m,\u001b[0m \u001b[0my\u001b[0m \u001b[1;33m=\u001b[0m \u001b[0mself\u001b[0m\u001b[1;33m.\u001b[0m\u001b[0m_validate_data\u001b[0m\u001b[1;33m(\u001b[0m\u001b[0mX\u001b[0m\u001b[1;33m,\u001b[0m \u001b[0my\u001b[0m\u001b[1;33m,\u001b[0m \u001b[0mreset\u001b[0m\u001b[1;33m=\u001b[0m\u001b[1;32mTrue\u001b[0m\u001b[1;33m,\u001b[0m \u001b[0maccept_sparse\u001b[0m\u001b[1;33m=\u001b[0m\u001b[0maccept_sparse\u001b[0m\u001b[1;33m)\u001b[0m\u001b[1;33m\u001b[0m\u001b[1;33m\u001b[0m\u001b[0m\n\u001b[0m\u001b[0;32m    133\u001b[0m         \u001b[1;32mreturn\u001b[0m \u001b[0mX\u001b[0m\u001b[1;33m,\u001b[0m \u001b[0my\u001b[0m\u001b[1;33m,\u001b[0m \u001b[0mbinarize_y\u001b[0m\u001b[1;33m\u001b[0m\u001b[1;33m\u001b[0m\u001b[0m\n\u001b[0;32m    134\u001b[0m \u001b[1;33m\u001b[0m\u001b[0m\n",
      "\u001b[1;32m~\\.conda\\envs\\kick\\lib\\site-packages\\sklearn\\base.py\u001b[0m in \u001b[0;36m_validate_data\u001b[1;34m(self, X, y, reset, validate_separately, **check_params)\u001b[0m\n\u001b[0;32m    574\u001b[0m                 \u001b[0my\u001b[0m \u001b[1;33m=\u001b[0m \u001b[0mcheck_array\u001b[0m\u001b[1;33m(\u001b[0m\u001b[0my\u001b[0m\u001b[1;33m,\u001b[0m \u001b[1;33m**\u001b[0m\u001b[0mcheck_y_params\u001b[0m\u001b[1;33m)\u001b[0m\u001b[1;33m\u001b[0m\u001b[1;33m\u001b[0m\u001b[0m\n\u001b[0;32m    575\u001b[0m             \u001b[1;32melse\u001b[0m\u001b[1;33m:\u001b[0m\u001b[1;33m\u001b[0m\u001b[1;33m\u001b[0m\u001b[0m\n\u001b[1;32m--> 576\u001b[1;33m                 \u001b[0mX\u001b[0m\u001b[1;33m,\u001b[0m \u001b[0my\u001b[0m \u001b[1;33m=\u001b[0m \u001b[0mcheck_X_y\u001b[0m\u001b[1;33m(\u001b[0m\u001b[0mX\u001b[0m\u001b[1;33m,\u001b[0m \u001b[0my\u001b[0m\u001b[1;33m,\u001b[0m \u001b[1;33m**\u001b[0m\u001b[0mcheck_params\u001b[0m\u001b[1;33m)\u001b[0m\u001b[1;33m\u001b[0m\u001b[1;33m\u001b[0m\u001b[0m\n\u001b[0m\u001b[0;32m    577\u001b[0m             \u001b[0mout\u001b[0m \u001b[1;33m=\u001b[0m \u001b[0mX\u001b[0m\u001b[1;33m,\u001b[0m \u001b[0my\u001b[0m\u001b[1;33m\u001b[0m\u001b[1;33m\u001b[0m\u001b[0m\n\u001b[0;32m    578\u001b[0m \u001b[1;33m\u001b[0m\u001b[0m\n",
      "\u001b[1;32m~\\.conda\\envs\\kick\\lib\\site-packages\\sklearn\\utils\\validation.py\u001b[0m in \u001b[0;36mcheck_X_y\u001b[1;34m(X, y, accept_sparse, accept_large_sparse, dtype, order, copy, force_all_finite, ensure_2d, allow_nd, multi_output, ensure_min_samples, ensure_min_features, y_numeric, estimator)\u001b[0m\n\u001b[0;32m    954\u001b[0m         \u001b[1;32mraise\u001b[0m \u001b[0mValueError\u001b[0m\u001b[1;33m(\u001b[0m\u001b[1;34m\"y cannot be None\"\u001b[0m\u001b[1;33m)\u001b[0m\u001b[1;33m\u001b[0m\u001b[1;33m\u001b[0m\u001b[0m\n\u001b[0;32m    955\u001b[0m \u001b[1;33m\u001b[0m\u001b[0m\n\u001b[1;32m--> 956\u001b[1;33m     X = check_array(\n\u001b[0m\u001b[0;32m    957\u001b[0m         \u001b[0mX\u001b[0m\u001b[1;33m,\u001b[0m\u001b[1;33m\u001b[0m\u001b[1;33m\u001b[0m\u001b[0m\n\u001b[0;32m    958\u001b[0m         \u001b[0maccept_sparse\u001b[0m\u001b[1;33m=\u001b[0m\u001b[0maccept_sparse\u001b[0m\u001b[1;33m,\u001b[0m\u001b[1;33m\u001b[0m\u001b[1;33m\u001b[0m\u001b[0m\n",
      "\u001b[1;32m~\\.conda\\envs\\kick\\lib\\site-packages\\sklearn\\utils\\validation.py\u001b[0m in \u001b[0;36mcheck_array\u001b[1;34m(array, accept_sparse, accept_large_sparse, dtype, order, copy, force_all_finite, ensure_2d, allow_nd, ensure_min_samples, ensure_min_features, estimator)\u001b[0m\n\u001b[0;32m    736\u001b[0m                     \u001b[0marray\u001b[0m \u001b[1;33m=\u001b[0m \u001b[0marray\u001b[0m\u001b[1;33m.\u001b[0m\u001b[0mastype\u001b[0m\u001b[1;33m(\u001b[0m\u001b[0mdtype\u001b[0m\u001b[1;33m,\u001b[0m \u001b[0mcasting\u001b[0m\u001b[1;33m=\u001b[0m\u001b[1;34m\"unsafe\"\u001b[0m\u001b[1;33m,\u001b[0m \u001b[0mcopy\u001b[0m\u001b[1;33m=\u001b[0m\u001b[1;32mFalse\u001b[0m\u001b[1;33m)\u001b[0m\u001b[1;33m\u001b[0m\u001b[1;33m\u001b[0m\u001b[0m\n\u001b[0;32m    737\u001b[0m                 \u001b[1;32melse\u001b[0m\u001b[1;33m:\u001b[0m\u001b[1;33m\u001b[0m\u001b[1;33m\u001b[0m\u001b[0m\n\u001b[1;32m--> 738\u001b[1;33m                     \u001b[0marray\u001b[0m \u001b[1;33m=\u001b[0m \u001b[0mnp\u001b[0m\u001b[1;33m.\u001b[0m\u001b[0masarray\u001b[0m\u001b[1;33m(\u001b[0m\u001b[0marray\u001b[0m\u001b[1;33m,\u001b[0m \u001b[0morder\u001b[0m\u001b[1;33m=\u001b[0m\u001b[0morder\u001b[0m\u001b[1;33m,\u001b[0m \u001b[0mdtype\u001b[0m\u001b[1;33m=\u001b[0m\u001b[0mdtype\u001b[0m\u001b[1;33m)\u001b[0m\u001b[1;33m\u001b[0m\u001b[1;33m\u001b[0m\u001b[0m\n\u001b[0m\u001b[0;32m    739\u001b[0m             \u001b[1;32mexcept\u001b[0m \u001b[0mComplexWarning\u001b[0m \u001b[1;32mas\u001b[0m \u001b[0mcomplex_warning\u001b[0m\u001b[1;33m:\u001b[0m\u001b[1;33m\u001b[0m\u001b[1;33m\u001b[0m\u001b[0m\n\u001b[0;32m    740\u001b[0m                 raise ValueError(\n",
      "\u001b[1;32m~\\.conda\\envs\\kick\\lib\\site-packages\\pandas\\core\\generic.py\u001b[0m in \u001b[0;36m__array__\u001b[1;34m(self, dtype)\u001b[0m\n\u001b[0;32m   1991\u001b[0m \u001b[1;33m\u001b[0m\u001b[0m\n\u001b[0;32m   1992\u001b[0m     \u001b[1;32mdef\u001b[0m \u001b[0m__array__\u001b[0m\u001b[1;33m(\u001b[0m\u001b[0mself\u001b[0m\u001b[1;33m,\u001b[0m \u001b[0mdtype\u001b[0m\u001b[1;33m:\u001b[0m \u001b[0mNpDtype\u001b[0m \u001b[1;33m|\u001b[0m \u001b[1;32mNone\u001b[0m \u001b[1;33m=\u001b[0m \u001b[1;32mNone\u001b[0m\u001b[1;33m)\u001b[0m \u001b[1;33m->\u001b[0m \u001b[0mnp\u001b[0m\u001b[1;33m.\u001b[0m\u001b[0mndarray\u001b[0m\u001b[1;33m:\u001b[0m\u001b[1;33m\u001b[0m\u001b[1;33m\u001b[0m\u001b[0m\n\u001b[1;32m-> 1993\u001b[1;33m         \u001b[1;32mreturn\u001b[0m \u001b[0mnp\u001b[0m\u001b[1;33m.\u001b[0m\u001b[0masarray\u001b[0m\u001b[1;33m(\u001b[0m\u001b[0mself\u001b[0m\u001b[1;33m.\u001b[0m\u001b[0m_values\u001b[0m\u001b[1;33m,\u001b[0m \u001b[0mdtype\u001b[0m\u001b[1;33m=\u001b[0m\u001b[0mdtype\u001b[0m\u001b[1;33m)\u001b[0m\u001b[1;33m\u001b[0m\u001b[1;33m\u001b[0m\u001b[0m\n\u001b[0m\u001b[0;32m   1994\u001b[0m \u001b[1;33m\u001b[0m\u001b[0m\n\u001b[0;32m   1995\u001b[0m     def __array_wrap__(\n",
      "\u001b[1;31mValueError\u001b[0m: could not convert string to float: 'ALTIMA'"
     ]
    }
   ],
   "source": [
    "\n",
    "\n",
    "\n",
    "##vectorizer.fit(X_train.values.ravel())\n",
    "##X_train=vectorizer.transform(X_train.values.ravel())\n",
    "#X_test=vectorizer.transform(X_test.values.ravel())\n",
    "#X_train=X_train.toarray()\n",
    "#X_test=X_test.toarray()\n",
    "sm = SMOTE(random_state=42)\n",
    "X_res, y_res = sm.fit_resample(test.drop(\"Make\", axis = 1) , test.Make)\n"
   ]
  },
  {
   "cell_type": "code",
   "execution_count": 295,
   "id": "cbc88512",
   "metadata": {},
   "outputs": [],
   "source": [
    "from collections import Counter\n",
    "def cumulatively_categorise(column,threshold=0.75,return_categories_list=True):\n",
    "    #Find the threshold value using the percentage and number of instances in the column\n",
    "    threshold_value=int(threshold*len(column))\n",
    "    #Initialise an empty list for our new minimised categories\n",
    "    categories_list=[]\n",
    "    #Initialise a variable to calculate the sum of frequencies\n",
    "    s=0\n",
    "    #Create a counter dictionary of the form unique_value: frequency\n",
    "    counts=Counter(column)\n",
    "\n",
    "    #Loop through the category name and its corresponding frequency after sorting the categories by descending order of frequency\n",
    "    for i,j in counts.most_common():\n",
    "        #Add the frequency to the global sum\n",
    "        s+=dict(counts)[i]\n",
    "        #Append the category name to the list\n",
    "        categories_list.append(i)\n",
    "        #Check if the global sum has reached the threshold value, if so break the loop\n",
    "        if s>=threshold_value:\n",
    "            break\n",
    "        #Append the category Other to the list\n",
    "        categories_list.append('Other')\n",
    "        #Replace all instances not in our new categories by Other  \n",
    "    new_column=column.apply(lambda x: x if x in categories_list else 'Other')\n",
    "\n",
    "    #Return transformed column and unique values if return_categories=True\n",
    "    if(return_categories_list == True):\n",
    "        return new_column,categories_list\n",
    "        #Return only the transformed column if return_categories=False\n",
    "    else:\n",
    "        return new_column\n",
    "\n"
   ]
  },
  {
   "cell_type": "code",
   "execution_count": 302,
   "id": "c1cc9c02",
   "metadata": {},
   "outputs": [],
   "source": []
  },
  {
   "cell_type": "code",
   "execution_count": 303,
   "id": "0c78071d",
   "metadata": {},
   "outputs": [
    {
     "data": {
      "text/plain": [
       "CHEVROLET     914\n",
       "DODGE         722\n",
       "FORD          708\n",
       "CHRYSLER      478\n",
       "PONTIAC       244\n",
       "Other         194\n",
       "NISSAN        128\n",
       "KIA           122\n",
       "SATURN        119\n",
       "HYUNDAI       114\n",
       "JEEP          101\n",
       "MERCURY        77\n",
       "MITSUBISHI     61\n",
       "SUZUKI         59\n",
       "BUICK          49\n",
       "Name: Make, dtype: int64"
      ]
     },
     "execution_count": 303,
     "metadata": {},
     "output_type": "execute_result"
    }
   ],
   "source": [
    "transformed_column.value_counts()"
   ]
  },
  {
   "cell_type": "code",
   "execution_count": 439,
   "id": "76da0cf0",
   "metadata": {},
   "outputs": [
    {
     "data": {
      "text/plain": [
       "CARAVAN GRAND FWD V6    83\n",
       "1500 RAM PICKUP 2WD     67\n",
       "CALIBER                 66\n",
       "STRATUS V6 2.7L V6 M    52\n",
       "STRATUS 4C              45\n",
       "STRATUS V6              37\n",
       "NEON                    33\n",
       "NEON 2.0L I4 SFI        27\n",
       "DURANGO 2WD V8          26\n",
       "AVENGER 4C              23\n",
       "STRATUS 4C 2.4L I4 M    21\n",
       "DURANGO 4WD V8          20\n",
       "CALIBER 2.0L I4 SFI     19\n",
       "CHARGER V6              18\n",
       "MAGNUM V6               17\n",
       "MAGNUM V6 2.7L V6 MP    16\n",
       "CARAVAN FWD V6 3.3L     15\n",
       "DURANGO 2WD V8 4.7L     14\n",
       "DURANGO 4WD V8 4.7L     14\n",
       "DAKOTA PICKUP 2WD V6    13\n",
       "DURANGO 2WD V6          12\n",
       "CHARGER                 11\n",
       "CARAVAN FWD 4C          10\n",
       "CARAVAN FWD V6          10\n",
       "STRATUS 4C 2.4L I4 S     9\n",
       "CARAVAN FWD 4C 2.4L      6\n",
       "CHARGER V6 2.7L V6 M     6\n",
       "1500 RAM PICKUP 4WD      4\n",
       "AVENGER 4C 2.4L I4 S     4\n",
       "DURANGO 2WD V6 3.7L      4\n",
       "MAGNUM V6 3.5L V6 MP     3\n",
       "DAKOTA PICKUP 2WD V8     3\n",
       "CHARGER 2.7L V6 MPI      3\n",
       "NITRO 2WD V6             3\n",
       "AVENGER V6               2\n",
       "INTREPID 3.5L V6 MPI     2\n",
       "NEON 2.0L I4 SFI / S     2\n",
       "DURANGO 4WD V8 SEFI      1\n",
       "DURANGO 2WD V8 5.7L      1\n",
       "Name: Model, dtype: int64"
      ]
     },
     "execution_count": 439,
     "metadata": {},
     "output_type": "execute_result"
    }
   ],
   "source": [
    "test[test.Make ==\"DODGE\"].Model.value_counts()"
   ]
  },
  {
   "cell_type": "code",
   "execution_count": null,
   "id": "54414ea0",
   "metadata": {},
   "outputs": [],
   "source": []
  }
 ],
 "metadata": {
  "kernelspec": {
   "display_name": "Python 3 (ipykernel)",
   "language": "python",
   "name": "python3"
  },
  "language_info": {
   "codemirror_mode": {
    "name": "ipython",
    "version": 3
   },
   "file_extension": ".py",
   "mimetype": "text/x-python",
   "name": "python",
   "nbconvert_exporter": "python",
   "pygments_lexer": "ipython3",
   "version": "3.9.7"
  }
 },
 "nbformat": 4,
 "nbformat_minor": 5
}
