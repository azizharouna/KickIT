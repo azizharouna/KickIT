{
 "cells": [
  {
   "cell_type": "code",
   "execution_count": 1,
   "id": "5dc1a907",
   "metadata": {},
   "outputs": [],
   "source": [
    "import pickle\n",
    "import pandas as pd"
   ]
  },
  {
   "cell_type": "code",
   "execution_count": 2,
   "id": "4ac3b0ec",
   "metadata": {},
   "outputs": [],
   "source": [
    "woe_cat_dict = pickle.load(open('kidict.pkl', 'rb'))\n",
    "test = pickle.load(open('test.pkl', 'rb'))"
   ]
  },
  {
   "cell_type": "code",
   "execution_count": 3,
   "id": "0d36a746",
   "metadata": {},
   "outputs": [
    {
     "data": {
      "text/html": [
       "<div>\n",
       "<style scoped>\n",
       "    .dataframe tbody tr th:only-of-type {\n",
       "        vertical-align: middle;\n",
       "    }\n",
       "\n",
       "    .dataframe tbody tr th {\n",
       "        vertical-align: top;\n",
       "    }\n",
       "\n",
       "    .dataframe thead th {\n",
       "        text-align: right;\n",
       "    }\n",
       "</style>\n",
       "<table border=\"1\" class=\"dataframe\">\n",
       "  <thead>\n",
       "    <tr style=\"text-align: right;\">\n",
       "      <th></th>\n",
       "      <th>VehOdo</th>\n",
       "      <th>MMRAcquisitionAuctionAveragePrice</th>\n",
       "      <th>IsBadBuy</th>\n",
       "    </tr>\n",
       "  </thead>\n",
       "  <tbody>\n",
       "    <tr>\n",
       "      <th>count</th>\n",
       "      <td>23598.000000</td>\n",
       "      <td>23598.000000</td>\n",
       "      <td>23598.000000</td>\n",
       "    </tr>\n",
       "    <tr>\n",
       "      <th>mean</th>\n",
       "      <td>74133.215145</td>\n",
       "      <td>6267.080981</td>\n",
       "      <td>0.525850</td>\n",
       "    </tr>\n",
       "    <tr>\n",
       "      <th>std</th>\n",
       "      <td>14459.005769</td>\n",
       "      <td>2714.693139</td>\n",
       "      <td>0.499342</td>\n",
       "    </tr>\n",
       "    <tr>\n",
       "      <th>min</th>\n",
       "      <td>12628.000000</td>\n",
       "      <td>10.000000</td>\n",
       "      <td>0.000000</td>\n",
       "    </tr>\n",
       "    <tr>\n",
       "      <th>25%</th>\n",
       "      <td>63943.000000</td>\n",
       "      <td>4104.250000</td>\n",
       "      <td>0.000000</td>\n",
       "    </tr>\n",
       "    <tr>\n",
       "      <th>50%</th>\n",
       "      <td>75529.500000</td>\n",
       "      <td>5954.000000</td>\n",
       "      <td>1.000000</td>\n",
       "    </tr>\n",
       "    <tr>\n",
       "      <th>75%</th>\n",
       "      <td>84711.000000</td>\n",
       "      <td>8017.500000</td>\n",
       "      <td>1.000000</td>\n",
       "    </tr>\n",
       "    <tr>\n",
       "      <th>max</th>\n",
       "      <td>110318.000000</td>\n",
       "      <td>25033.000000</td>\n",
       "      <td>1.000000</td>\n",
       "    </tr>\n",
       "  </tbody>\n",
       "</table>\n",
       "</div>"
      ],
      "text/plain": [
       "              VehOdo  MMRAcquisitionAuctionAveragePrice      IsBadBuy\n",
       "count   23598.000000                       23598.000000  23598.000000\n",
       "mean    74133.215145                        6267.080981      0.525850\n",
       "std     14459.005769                        2714.693139      0.499342\n",
       "min     12628.000000                          10.000000      0.000000\n",
       "25%     63943.000000                        4104.250000      0.000000\n",
       "50%     75529.500000                        5954.000000      1.000000\n",
       "75%     84711.000000                        8017.500000      1.000000\n",
       "max    110318.000000                       25033.000000      1.000000"
      ]
     },
     "execution_count": 3,
     "metadata": {},
     "output_type": "execute_result"
    }
   ],
   "source": [
    "test.describe()"
   ]
  },
  {
   "cell_type": "code",
   "execution_count": 4,
   "id": "18a470aa",
   "metadata": {},
   "outputs": [],
   "source": [
    "df = test"
   ]
  },
  {
   "cell_type": "code",
   "execution_count": 5,
   "id": "6955f1ae",
   "metadata": {},
   "outputs": [],
   "source": [
    "# split dictionary into keys and values\n",
    "keys = []\n",
    "values = []\n",
    "items = woe_cat_dict.items()\n",
    "for item in items:\n",
    "    keys.append(item[0]), values.append(item[1])"
   ]
  },
  {
   "cell_type": "code",
   "execution_count": 6,
   "id": "e2422d90",
   "metadata": {},
   "outputs": [],
   "source": [
    "value_list = keys\n",
    "Make_boolean_series = df.Make.isin(value_list)\n",
    "filtered_df = df[Make_boolean_series]\n"
   ]
  },
  {
   "cell_type": "code",
   "execution_count": 7,
   "id": "e1cc49ee",
   "metadata": {},
   "outputs": [],
   "source": [
    "html_for_make = filtered_df.Make"
   ]
  },
  {
   "cell_type": "code",
   "execution_count": 8,
   "id": "398a9a79",
   "metadata": {},
   "outputs": [],
   "source": [
    "value_list = keys\n",
    "model_boolean_series = df.Model.isin(value_list)\n",
    "filtered_df = df[model_boolean_series]"
   ]
  },
  {
   "cell_type": "code",
   "execution_count": 9,
   "id": "a339e8a9",
   "metadata": {},
   "outputs": [],
   "source": [
    "html_for_model = filtered_df.Model"
   ]
  },
  {
   "cell_type": "code",
   "execution_count": 10,
   "id": "f63de48b",
   "metadata": {},
   "outputs": [
    {
     "data": {
      "text/plain": [
       "621                    COOPER\n",
       "13392               SONATA 4C\n",
       "11060            ENVOY 2WD 6C\n",
       "12182                  COOPER\n",
       "1829                    SABLE\n",
       "                 ...         \n",
       "14914     SORENTO 2WD 3.5L V6\n",
       "14431    ALERO 4C 2.2L I4 MPI\n",
       "6990                      G35\n",
       "12083           XTERRA 2WD V6\n",
       "8390     CENTURY V6 3.1L V6 S\n",
       "Name: Model, Length: 18632, dtype: object"
      ]
     },
     "execution_count": 10,
     "metadata": {},
     "output_type": "execute_result"
    }
   ],
   "source": [
    "html_for_model"
   ]
  },
  {
   "cell_type": "code",
   "execution_count": 11,
   "id": "26deeb83",
   "metadata": {},
   "outputs": [
    {
     "name": "stdout",
     "output_type": "stream",
     "text": [
      "<option value='MINI'>MINI</option>\n",
      "<option value='HYUNDAI'>HYUNDAI</option>\n",
      "<option value='GMC'>GMC</option>\n",
      "<option value='MERCURY'>MERCURY</option>\n",
      "<option value='SUZUKI'>SUZUKI</option>\n",
      "<option value='NISSAN'>NISSAN</option>\n",
      "<option value='FORD'>FORD</option>\n",
      "<option value='LINCOLN'>LINCOLN</option>\n",
      "<option value='JEEP'>JEEP</option>\n",
      "<option value='BUICK'>BUICK</option>\n",
      "<option value='DODGE'>DODGE</option>\n",
      "<option value='SATURN'>SATURN</option>\n",
      "<option value='MAZDA'>MAZDA</option>\n",
      "<option value='SUBARU'>SUBARU</option>\n",
      "<option value='LEXUS'>LEXUS</option>\n",
      "<option value='MITSUBISHI'>MITSUBISHI</option>\n",
      "<option value='ISUZU'>ISUZU</option>\n",
      "<option value='CHEVROLET'>CHEVROLET</option>\n",
      "<option value='PONTIAC'>PONTIAC</option>\n",
      "<option value='TOYOTA'>TOYOTA</option>\n",
      "<option value='CHRYSLER'>CHRYSLER</option>\n",
      "<option value='KIA'>KIA</option>\n",
      "<option value='INFINITI'>INFINITI</option>\n",
      "<option value='OLDSMOBILE'>OLDSMOBILE</option>\n",
      "<option value='HONDA'>HONDA</option>\n"
     ]
    }
   ],
   "source": [
    "for v in  html_for_make.unique():\n",
    "    print(f\"<option value='{v}'>{v}</option>\")"
   ]
  },
  {
   "cell_type": "code",
   "execution_count": 12,
   "id": "d58aba6d",
   "metadata": {},
   "outputs": [
    {
     "name": "stdout",
     "output_type": "stream",
     "text": [
      "<option value='COOPER'>COOPER</option>\n",
      "<option value='SONATA 4C'>SONATA 4C</option>\n",
      "<option value='ENVOY 2WD 6C'>ENVOY 2WD 6C</option>\n",
      "<option value='SABLE'>SABLE</option>\n",
      "<option value='ALTIMA'>ALTIMA</option>\n",
      "<option value='TAURUS 3.0L V6 EFI'>TAURUS 3.0L V6 EFI</option>\n",
      "<option value='TOWN CAR 4.6L V8 EFI'>TOWN CAR 4.6L V8 EFI</option>\n",
      "<option value='RENDEZVOUS FWD'>RENDEZVOUS FWD</option>\n",
      "<option value='STRATUS 4C'>STRATUS 4C</option>\n",
      "<option value='GRAND CHEROKEE 2WD V'>GRAND CHEROKEE 2WD V</option>\n",
      "<option value='FORESTER AWD'>FORESTER AWD</option>\n",
      "<option value='ENVOY 4WD 6C'>ENVOY 4WD 6C</option>\n",
      "<option value='ES300 3.0L V6 EFI'>ES300 3.0L V6 EFI</option>\n",
      "<option value='MONTERO SPORT 2WD V6'>MONTERO SPORT 2WD V6</option>\n",
      "<option value='ASCENDER 2WD 6C 4.2L'>ASCENDER 2WD 6C 4.2L</option>\n",
      "<option value='FORENZA'>FORENZA</option>\n",
      "<option value='SABLE 3.0L V6 EFI'>SABLE 3.0L V6 EFI</option>\n",
      "<option value='GRAND PRIX 3.8L V6 S'>GRAND PRIX 3.8L V6 S</option>\n",
      "<option value='COROLLA'>COROLLA</option>\n",
      "<option value='1500 SIERRA PICKUP 2'>1500 SIERRA PICKUP 2</option>\n",
      "<option value='FOCUS'>FOCUS</option>\n",
      "<option value='FORENZA 2.0L I4 EFI'>FORENZA 2.0L I4 EFI</option>\n",
      "<option value='PT CRUISER 2.4L I4 S'>PT CRUISER 2.4L I4 S</option>\n",
      "<option value='SPECTRA 2.0L I4 EFI'>SPECTRA 2.0L I4 EFI</option>\n",
      "<option value='MAZDA6'>MAZDA6</option>\n",
      "<option value='G35'>G35</option>\n",
      "<option value='LE SABRE'>LE SABRE</option>\n",
      "<option value='L SERIES'>L SERIES</option>\n",
      "<option value='ELANTRA'>ELANTRA</option>\n",
      "<option value='OPTIMA 4C'>OPTIMA 4C</option>\n",
      "<option value='SABLE 3.0L V6 4V /EF'>SABLE 3.0L V6 4V /EF</option>\n",
      "<option value='MAZDA3'>MAZDA3</option>\n",
      "<option value='ALERO V6 3.4L V6 MPI'>ALERO V6 3.4L V6 MPI</option>\n",
      "<option value='ION 2.2L I4 EFI'>ION 2.2L I4 EFI</option>\n",
      "<option value='PT CRUISER'>PT CRUISER</option>\n",
      "<option value='MAXIMA'>MAXIMA</option>\n",
      "<option value='LIBERTY 4WD V6'>LIBERTY 4WD V6</option>\n",
      "<option value='ION'>ION</option>\n",
      "<option value='SENTRA'>SENTRA</option>\n",
      "<option value='ASCENDER 2WD 6C'>ASCENDER 2WD 6C</option>\n",
      "<option value='FIVE HUNDRED 3.0L V6'>FIVE HUNDRED 3.0L V6</option>\n",
      "<option value='ENVOY 2WD 6C 4.2L I6'>ENVOY 2WD 6C 4.2L I6</option>\n",
      "<option value='LIBERTY 2WD V6'>LIBERTY 2WD V6</option>\n",
      "<option value='ALERO 4C 2.2L I4 MPI'>ALERO 4C 2.2L I4 MPI</option>\n",
      "<option value='LANCER 2.0L I4 MPI'>LANCER 2.0L I4 MPI</option>\n",
      "<option value='COBALT'>COBALT</option>\n",
      "<option value='ALERO 4C'>ALERO 4C</option>\n",
      "<option value='PACIFICA FWD'>PACIFICA FWD</option>\n",
      "<option value='TOWN CAR'>TOWN CAR</option>\n",
      "<option value='SPECTRA'>SPECTRA</option>\n",
      "<option value='NEON 2.0L I4 SFI'>NEON 2.0L I4 SFI</option>\n",
      "<option value='ACCORD 4C'>ACCORD 4C</option>\n",
      "<option value='CALIBER'>CALIBER</option>\n",
      "<option value='FREESTAR FWD V6'>FREESTAR FWD V6</option>\n",
      "<option value='GRAND MARQUIS'>GRAND MARQUIS</option>\n",
      "<option value='NEON'>NEON</option>\n",
      "<option value='SORENTO 2WD'>SORENTO 2WD</option>\n",
      "<option value='MUSTANG V6'>MUSTANG V6</option>\n",
      "<option value='CAMRY 4C'>CAMRY 4C</option>\n",
      "<option value='SABLE 3.0L V6 2V /EF'>SABLE 3.0L V6 2V /EF</option>\n",
      "<option value='FUSION 4C'>FUSION 4C</option>\n",
      "<option value='LACROSSE'>LACROSSE</option>\n",
      "<option value='IMPALA 3.5L V6 SFI'>IMPALA 3.5L V6 SFI</option>\n",
      "<option value='TAURUS'>TAURUS</option>\n",
      "<option value='G6 V6'>G6 V6</option>\n",
      "<option value='ENDEAVOR FWD'>ENDEAVOR FWD</option>\n",
      "<option value='MALIBU 4C'>MALIBU 4C</option>\n",
      "<option value='GRAND PRIX'>GRAND PRIX</option>\n",
      "<option value='GALANT 4C'>GALANT 4C</option>\n",
      "<option value='STRATUS V6'>STRATUS V6</option>\n",
      "<option value='CIVIC'>CIVIC</option>\n",
      "<option value='XTERRA 2WD V6'>XTERRA 2WD V6</option>\n",
      "<option value='VUE 2WD 4C'>VUE 2WD 4C</option>\n",
      "<option value='ALTIMA 2.5L I4 MPI'>ALTIMA 2.5L I4 MPI</option>\n",
      "<option value='CENTURY V6'>CENTURY V6</option>\n",
      "<option value='STRATUS 4C 2.4L I4 M'>STRATUS 4C 2.4L I4 M</option>\n",
      "<option value='TRAILBLAZER 4WD 6C 4'>TRAILBLAZER 4WD 6C 4</option>\n",
      "<option value='EQUINOX FWD V6'>EQUINOX FWD V6</option>\n",
      "<option value='CAMRY V6'>CAMRY V6</option>\n",
      "<option value='TRIBUTE 2WD 4C'>TRIBUTE 2WD 4C</option>\n",
      "<option value='F150 PICKUP 2WD V8'>F150 PICKUP 2WD V8</option>\n",
      "<option value='GRAND CHEROKEE 4WD V'>GRAND CHEROKEE 4WD V</option>\n",
      "<option value='SORENTO 2WD 3.5L V6'>SORENTO 2WD 3.5L V6</option>\n",
      "<option value='STRATUS V6 2.7L V6 M'>STRATUS V6 2.7L V6 M</option>\n",
      "<option value='SONATA 4C 2.4L I4 MP'>SONATA 4C 2.4L I4 MP</option>\n",
      "<option value='ACCORD V6'>ACCORD V6</option>\n",
      "<option value='MATRIX 2WD'>MATRIX 2WD</option>\n",
      "<option value='1500 RAM PICKUP 2WD'>1500 RAM PICKUP 2WD</option>\n",
      "<option value='EXPLORER 4WD V6'>EXPLORER 4WD V6</option>\n",
      "<option value='SEBRING 4C'>SEBRING 4C</option>\n",
      "<option value='ACCENT 1.6L I4 MPI'>ACCENT 1.6L I4 MPI</option>\n",
      "<option value='LIBERTY 4WD V6 3.7L'>LIBERTY 4WD V6 3.7L</option>\n",
      "<option value='COBALT 2.2L I4 MPI'>COBALT 2.2L I4 MPI</option>\n",
      "<option value='LANCER'>LANCER</option>\n",
      "<option value='MILAN 4C'>MILAN 4C</option>\n",
      "<option value='ACCENT'>ACCENT</option>\n",
      "<option value='MONTEGO'>MONTEGO</option>\n",
      "<option value='HHR'>HHR</option>\n",
      "<option value='GRAND AM V6 3.4L V6'>GRAND AM V6 3.4L V6</option>\n",
      "<option value='SONATA V6'>SONATA V6</option>\n",
      "<option value='CENTURY V6 3.1L V6 S'>CENTURY V6 3.1L V6 S</option>\n",
      "<option value='ELANTRA 2.0L I4 MPI'>ELANTRA 2.0L I4 MPI</option>\n",
      "<option value='TOWN & COUNTRY FWD V'>TOWN & COUNTRY FWD V</option>\n",
      "<option value='IMPALA'>IMPALA</option>\n",
      "<option value='DURANGO 4WD V8'>DURANGO 4WD V8</option>\n",
      "<option value='MALIBU V6'>MALIBU V6</option>\n",
      "<option value='EXPEDITION 2WD V8'>EXPEDITION 2WD V8</option>\n",
      "<option value='WINDSTAR FWD V6'>WINDSTAR FWD V6</option>\n",
      "<option value='AVENGER 4C'>AVENGER 4C</option>\n",
      "<option value='CARAVAN GRAND FWD V6'>CARAVAN GRAND FWD V6</option>\n",
      "<option value='LE SABRE Unspecified'>LE SABRE Unspecified</option>\n",
      "<option value='SEBRING V6'>SEBRING V6</option>\n",
      "<option value='PROTEGE'>PROTEGE</option>\n",
      "<option value='MARINER 4WD V6 3.0L'>MARINER 4WD V6 3.0L</option>\n",
      "<option value='GALANT 4C 2.4L I4 EF'>GALANT 4C 2.4L I4 EF</option>\n",
      "<option value='G6 4C'>G6 4C</option>\n",
      "<option value='TRIBUTE 2WD V6 3.0L'>TRIBUTE 2WD V6 3.0L</option>\n",
      "<option value='IMPALA V6'>IMPALA V6</option>\n",
      "<option value='DURANGO 2WD V8'>DURANGO 2WD V8</option>\n",
      "<option value='MALIBU 4C 2.2L I4 MP'>MALIBU 4C 2.2L I4 MP</option>\n",
      "<option value='TRIBUTE 2WD V6'>TRIBUTE 2WD V6</option>\n",
      "<option value='CARAVAN FWD V6 3.3L'>CARAVAN FWD V6 3.3L</option>\n",
      "<option value='GRAND AM V6'>GRAND AM V6</option>\n",
      "<option value='EXPLORER 2WD V6'>EXPLORER 2WD V6</option>\n",
      "<option value='FIVE HUNDRED'>FIVE HUNDRED</option>\n",
      "<option value='UPLANDER FWD V6'>UPLANDER FWD V6</option>\n",
      "<option value='TITAN PICKUP 2WD V8'>TITAN PICKUP 2WD V8</option>\n",
      "<option value='IMPALA 3.4L V6 SFI'>IMPALA 3.4L V6 SFI</option>\n",
      "<option value='AVEO'>AVEO</option>\n",
      "<option value='ENVOY XL 2WD 6C'>ENVOY XL 2WD 6C</option>\n",
      "<option value='TRAILBLAZER 2WD 6C'>TRAILBLAZER 2WD 6C</option>\n",
      "<option value='L SERIES 3.0L V6 EFI'>L SERIES 3.0L V6 EFI</option>\n",
      "<option value='EXPLORER 2WD V6 4.0L'>EXPLORER 2WD V6 4.0L</option>\n",
      "<option value='FOCUS 2.0L I4 SFI'>FOCUS 2.0L I4 SFI</option>\n",
      "<option value='1500 SILVERADO PICKU'>1500 SILVERADO PICKU</option>\n",
      "<option value='FREESTAR FWD V6 3.9L'>FREESTAR FWD V6 3.9L</option>\n",
      "<option value='TRAILBLAZER 2WD 6C 4'>TRAILBLAZER 2WD 6C 4</option>\n"
     ]
    }
   ],
   "source": [
    "for v in  html_for_model.unique():\n",
    "    print(f\"<option value='{v}'>{v}</option>\")"
   ]
  },
  {
   "cell_type": "code",
   "execution_count": null,
   "id": "10aa0d4b",
   "metadata": {},
   "outputs": [],
   "source": []
  },
  {
   "cell_type": "code",
   "execution_count": null,
   "id": "0e119be1",
   "metadata": {},
   "outputs": [],
   "source": []
  }
 ],
 "metadata": {
  "kernelspec": {
   "display_name": "Python 3 (ipykernel)",
   "language": "python",
   "name": "python3"
  },
  "language_info": {
   "codemirror_mode": {
    "name": "ipython",
    "version": 3
   },
   "file_extension": ".py",
   "mimetype": "text/x-python",
   "name": "python",
   "nbconvert_exporter": "python",
   "pygments_lexer": "ipython3",
   "version": "3.9.7"
  }
 },
 "nbformat": 4,
 "nbformat_minor": 5
}
